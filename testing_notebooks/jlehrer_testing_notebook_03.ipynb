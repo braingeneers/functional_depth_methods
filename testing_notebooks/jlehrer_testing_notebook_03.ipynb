{
 "cells": [
  {
   "cell_type": "markdown",
   "metadata": {},
   "source": [
    "# Testing Notebook 03\n",
    "\n",
    "This notebook is where I'm developing the containment methods for multivariate functions in $\\mathbb{R}^n$"
   ]
  },
  {
   "cell_type": "code",
   "execution_count": 1,
   "metadata": {},
   "outputs": [],
   "source": [
    "import pandas as pd\n",
    "import numpy as np\n",
    "import plotly.express as px\n",
    "import matplotlib.pyplot as plt\n",
    "\n",
    "from statdepth.depth._containment import _is_in_simplex\n",
    "from statdepth.depth._depthcalculations import _subsequences"
   ]
  },
  {
   "cell_type": "markdown",
   "metadata": {},
   "source": [
    "First, create some multidimensional data"
   ]
  },
  {
   "cell_type": "code",
   "execution_count": 105,
   "metadata": {
    "scrolled": true
   },
   "outputs": [],
   "source": [
    "data = []\n",
    "\n",
    "df1 = pd.DataFrame(np.random.randint(0,5,size=(30, 3)), columns=list('ABC'))\n",
    "df2 = pd.DataFrame(np.random.randint(0,5,size=(30, 3)), columns=list('ABC'))\n",
    "df3 = pd.DataFrame(np.random.randint(0,5,size=(30, 3)), columns=list('ABC'))\n",
    "df4 = pd.DataFrame(np.random.randint(0,5,size=(30, 3)), columns=list('ABC'))\n",
    "df5 = pd.DataFrame(np.random.randint(0,5,size=(30, 3)), columns=list('ABC'))\n",
    "df6 = pd.DataFrame(np.random.randint(0,5,size=(30, 3)), columns=list('ABC'))\n",
    "\n",
    "data = [df1, df2, df3, df4, df5, df6]"
   ]
  },
  {
   "cell_type": "code",
   "execution_count": 106,
   "metadata": {},
   "outputs": [],
   "source": [
    "from scipy.special import binom\n",
    "from statdepth.depth._containment import _is_in_simplex\n",
    "from statdepth.depth._depthcalculations import _subsequences\n",
    "from typing import List\n",
    "\n",
    "def _simplex_containment(data: List[pd.DataFrame], curve: pd.DataFrame, J=2, relax=False):\n",
    "    n = len(data)\n",
    "    l, d = data[0].shape\n",
    "    \n",
    "    # Iterate over our subsequences of functions to form simplex with d+1 vertices\n",
    "    containment = 0\n",
    "\n",
    "    # For each time index, check containment \n",
    "    for idx in curve.index:\n",
    "        containment += _is_in_simplex(simplex_points=np.array([df.loc[idx, :] for df in data]), \n",
    "                                point=np.array(curve.loc[idx, :]))\n",
    "    \n",
    "    # If relaxation, return proportion of containment, else return integer divion so that we \n",
    "    # only get 1 if all rows are contained\n",
    "    return containment / l if relax else containment // l\n",
    "    "
   ]
  },
  {
   "cell_type": "code",
   "execution_count": 107,
   "metadata": {},
   "outputs": [],
   "source": [
    "def _simplex_depth(data: list, curve: pd.DataFrame, J=2, relax=False):\n",
    "    l, d = data[0].shape\n",
    "    n = len(data)\n",
    "    depth = 0\n",
    "    \n",
    "    for j in range(2, J + 1):\n",
    "        S_nj = 0\n",
    "        subseq = _subsequences([i for i in range(n)], d + 1)\n",
    "        \n",
    "        for seq in subseq:\n",
    "            cdata = [data[i] for i in seq]\n",
    "            S_nj += _simplex_containment(data=data, curve=curve, relax=relax)\n",
    "        \n",
    "        depth += S_nj / binom(n, d + 1)\n",
    "\n",
    "    return depth\n",
    "\n",
    "def banddepthtest(data: list, J=2, relax=False):\n",
    "    depths = []\n",
    "    f = [i for i in range(len(data))]\n",
    "    for cdf in data:\n",
    "        cdata = [df for df in data if df is not cdf]\n",
    "        depths.append(_simplex_depth(data=cdata, curve=cdf, J=J, relax=relax))\n",
    "        \n",
    "    return pd.Series(index=f, data=depths)"
   ]
  },
  {
   "cell_type": "code",
   "execution_count": 108,
   "metadata": {},
   "outputs": [
    {
     "name": "stdout",
     "output_type": "stream",
     "text": [
      "S_nj before division: 0.16666666666666666\n",
      "binom is 5.0\n",
      "S_nj before division: 0.16666666666666666\n",
      "binom is 5.0\n",
      "S_nj before division: 0.5\n",
      "binom is 5.0\n",
      "S_nj before division: 0.16666666666666666\n",
      "binom is 5.0\n",
      "S_nj before division: 0.8333333333333333\n",
      "binom is 5.0\n",
      "S_nj before division: 0.3333333333333333\n",
      "binom is 5.0\n"
     ]
    },
    {
     "data": {
      "text/plain": [
       "0    0.033333\n",
       "1    0.033333\n",
       "2    0.100000\n",
       "3    0.033333\n",
       "4    0.166667\n",
       "5    0.066667\n",
       "dtype: float64"
      ]
     },
     "execution_count": 108,
     "metadata": {},
     "output_type": "execute_result"
    }
   ],
   "source": [
    "banddepthtest(data=data, J=2, relax=True)"
   ]
  },
  {
   "cell_type": "code",
   "execution_count": 93,
   "metadata": {},
   "outputs": [],
   "source": [
    "from typing import List\n",
    "from statdepth.depth.depth import _univariate_band_depth\n",
    "from statdepth.depth._containment import _r2_containment\n",
    "\n",
    "def _r2_enum_containment(data: List[pd.DataFrame], curve: pd.DataFrame, relax: bool) -> float:\n",
    "    depths = pd.DataFrame()\n",
    "    \n",
    "    for i in range(0, len(data)):\n",
    "        curve = data[i]\n",
    "        c_depths = []\n",
    "        \n",
    "        for col in curve.columns:\n",
    "            t = pd.DataFrame(index=data[0].index)\n",
    "\n",
    "            for df, index in zip(data, [k for k in range(len(data))]):\n",
    "                t[col + str(index)] = df[col]\n",
    "\n",
    "            t['curve'] = curve[col]\n",
    "            c_depths.append(_univariate_band_depth(data=t, curve='curve', relax=True, containment=_r2_containment))\n",
    "\n",
    "        depths[i] = pd.Series(index=curve.columns, data=c_depths)\n",
    "    return depths"
   ]
  },
  {
   "cell_type": "code",
   "execution_count": 97,
   "metadata": {},
   "outputs": [
    {
     "name": "stdout",
     "output_type": "stream",
     "text": [
      "73.4 ms ± 833 µs per loop (mean ± std. dev. of 7 runs, 10 loops each)\n"
     ]
    }
   ],
   "source": [
    "%%timeit\n",
    "s = _r2_enum_containment(data=data, curve=data[0], relax=False)"
   ]
  },
  {
   "cell_type": "code",
   "execution_count": 73,
   "metadata": {},
   "outputs": [
    {
     "data": {
      "text/html": [
       "<div>\n",
       "<style scoped>\n",
       "    .dataframe tbody tr th:only-of-type {\n",
       "        vertical-align: middle;\n",
       "    }\n",
       "\n",
       "    .dataframe tbody tr th {\n",
       "        vertical-align: top;\n",
       "    }\n",
       "\n",
       "    .dataframe thead th {\n",
       "        text-align: right;\n",
       "    }\n",
       "</style>\n",
       "<table border=\"1\" class=\"dataframe\">\n",
       "  <thead>\n",
       "    <tr style=\"text-align: right;\">\n",
       "      <th></th>\n",
       "      <th>0</th>\n",
       "      <th>1</th>\n",
       "      <th>2</th>\n",
       "      <th>3</th>\n",
       "    </tr>\n",
       "  </thead>\n",
       "  <tbody>\n",
       "    <tr>\n",
       "      <th>A</th>\n",
       "      <td>0.456667</td>\n",
       "      <td>0.45</td>\n",
       "      <td>0.423333</td>\n",
       "      <td>0.460000</td>\n",
       "    </tr>\n",
       "    <tr>\n",
       "      <th>B</th>\n",
       "      <td>0.493333</td>\n",
       "      <td>0.45</td>\n",
       "      <td>0.463333</td>\n",
       "      <td>0.446667</td>\n",
       "    </tr>\n",
       "    <tr>\n",
       "      <th>C</th>\n",
       "      <td>0.510000</td>\n",
       "      <td>0.44</td>\n",
       "      <td>0.436667</td>\n",
       "      <td>0.493333</td>\n",
       "    </tr>\n",
       "  </tbody>\n",
       "</table>\n",
       "</div>"
      ],
      "text/plain": [
       "          0     1         2         3\n",
       "A  0.456667  0.45  0.423333  0.460000\n",
       "B  0.493333  0.45  0.463333  0.446667\n",
       "C  0.510000  0.44  0.436667  0.493333"
      ]
     },
     "execution_count": 73,
     "metadata": {},
     "output_type": "execute_result"
    }
   ],
   "source": [
    "depths = pd.DataFrame()\n",
    "\n",
    "for i in range(0, len(data)):\n",
    "    depths[i] = _r2_enum_containment(data=data, curve=data[i], relax=False)\n",
    "\n",
    "depths"
   ]
  },
  {
   "cell_type": "code",
   "execution_count": 194,
   "metadata": {},
   "outputs": [
    {
     "data": {
      "image/png": "[encoded data removed]",
      "text/plain": [
       "<Figure size 432x288 with 1 Axes>"
      ]
     },
     "metadata": {
      "needs_background": "light"
     },
     "output_type": "display_data"
    }
   ],
   "source": [
    "from scipy.spatial import ConvexHull, Delaunay\n",
    "import matplotlib.pyplot as plt\n",
    "\n",
    "points = np.array([[0,0], [1,0], [1,0]])\n",
    "hull = ConvexHull(points, qhull_options='QJ', incremental=True)\n",
    "\n",
    "def plot_hull(hull, points):\n",
    "\n",
    "    plt.plot(points[hull.vertices,0], points[hull.vertices,1], 'r--', lw=2)\n",
    "\n",
    "    plt.plot(points[hull.vertices[0],0], points[hull.vertices[0],1], 'ro')\n",
    "\n",
    "    plt.show()\n",
    "    \n",
    "plot_hull(hull, points)"
   ]
  },
  {
   "cell_type": "code",
   "execution_count": 195,
   "metadata": {},
   "outputs": [
    {
     "data": {
      "text/plain": [
       "array([1, 0, 2], dtype=int32)"
      ]
     },
     "execution_count": 195,
     "metadata": {},
     "output_type": "execute_result"
    }
   ],
   "source": [
    "hull.vertices"
   ]
  },
  {
   "cell_type": "code",
   "execution_count": 209,
   "metadata": {},
   "outputs": [
    {
     "data": {
      "text/plain": [
       "array([[0, 0],\n",
       "       [1, 0],\n",
       "       [1, 0],\n",
       "       [0, 0]])"
      ]
     },
     "execution_count": 209,
     "metadata": {},
     "output_type": "execute_result"
    }
   ],
   "source": [
    "p = [list(x) for x in points]\n",
    "\n",
    "p.append([0,0])\n",
    "np.array(p)"
   ]
  },
  {
   "cell_type": "code",
   "execution_count": 213,
   "metadata": {},
   "outputs": [
    {
     "name": "stdout",
     "output_type": "stream",
     "text": [
      "[[0, 0], [1, 0], [1, 0], [4, 5]]\n"
     ]
    },
    {
     "data": {
      "text/plain": [
       "array([3, 0, 2], dtype=int32)"
      ]
     },
     "execution_count": 213,
     "metadata": {},
     "output_type": "execute_result"
    }
   ],
   "source": [
    "tp = [4,5]\n",
    "\n",
    "if tp not in points:\n",
    "    p = [list(x) for x in points]\n",
    "    p.append(tp)\n",
    "    hull = ConvexHull(np.array(p), qhull_options='QJ')\n",
    "else:\n",
    "    hull = ConvexHull(points, qhull_options='QJ')\n",
    "\n",
    "hull.vertices"
   ]
  },
  {
   "cell_type": "code",
   "execution_count": 152,
   "metadata": {},
   "outputs": [
    {
     "ename": "IndexError",
     "evalue": "index 3 is out of bounds for axis 0 with size 3",
     "output_type": "error",
     "traceback": [
      "\u001b[0;31m---------------------------------------------------------------------------\u001b[0m",
      "\u001b[0;31mIndexError\u001b[0m                                Traceback (most recent call last)",
      "\u001b[0;32m<ipython-input-152-7cfd27ce4d6f>\u001b[0m in \u001b[0;36m<module>\u001b[0;34m\u001b[0m\n\u001b[0;32m----> 1\u001b[0;31m \u001b[0mplot_hull\u001b[0m\u001b[0;34m(\u001b[0m\u001b[0mhull\u001b[0m\u001b[0;34m)\u001b[0m\u001b[0;34m\u001b[0m\u001b[0;34m\u001b[0m\u001b[0m\n\u001b[0m",
      "\u001b[0;32m<ipython-input-149-3db9c46506aa>\u001b[0m in \u001b[0;36mplot_hull\u001b[0;34m(hull)\u001b[0m\n\u001b[1;32m      7\u001b[0m \u001b[0;32mdef\u001b[0m \u001b[0mplot_hull\u001b[0m\u001b[0;34m(\u001b[0m\u001b[0mhull\u001b[0m\u001b[0;34m)\u001b[0m\u001b[0;34m:\u001b[0m\u001b[0;34m\u001b[0m\u001b[0;34m\u001b[0m\u001b[0m\n\u001b[1;32m      8\u001b[0m \u001b[0;34m\u001b[0m\u001b[0m\n\u001b[0;32m----> 9\u001b[0;31m     \u001b[0mplt\u001b[0m\u001b[0;34m.\u001b[0m\u001b[0mplot\u001b[0m\u001b[0;34m(\u001b[0m\u001b[0mpoints\u001b[0m\u001b[0;34m[\u001b[0m\u001b[0mhull\u001b[0m\u001b[0;34m.\u001b[0m\u001b[0mvertices\u001b[0m\u001b[0;34m,\u001b[0m\u001b[0;36m0\u001b[0m\u001b[0;34m]\u001b[0m\u001b[0;34m,\u001b[0m \u001b[0mpoints\u001b[0m\u001b[0;34m[\u001b[0m\u001b[0mhull\u001b[0m\u001b[0;34m.\u001b[0m\u001b[0mvertices\u001b[0m\u001b[0;34m,\u001b[0m\u001b[0;36m1\u001b[0m\u001b[0;34m]\u001b[0m\u001b[0;34m,\u001b[0m \u001b[0;34m'r--'\u001b[0m\u001b[0;34m,\u001b[0m \u001b[0mlw\u001b[0m\u001b[0;34m=\u001b[0m\u001b[0;36m2\u001b[0m\u001b[0;34m)\u001b[0m\u001b[0;34m\u001b[0m\u001b[0;34m\u001b[0m\u001b[0m\n\u001b[0m\u001b[1;32m     10\u001b[0m \u001b[0;34m\u001b[0m\u001b[0m\n\u001b[1;32m     11\u001b[0m     \u001b[0mplt\u001b[0m\u001b[0;34m.\u001b[0m\u001b[0mplot\u001b[0m\u001b[0;34m(\u001b[0m\u001b[0mpoints\u001b[0m\u001b[0;34m[\u001b[0m\u001b[0mhull\u001b[0m\u001b[0;34m.\u001b[0m\u001b[0mvertices\u001b[0m\u001b[0;34m[\u001b[0m\u001b[0;36m0\u001b[0m\u001b[0;34m]\u001b[0m\u001b[0;34m,\u001b[0m\u001b[0;36m0\u001b[0m\u001b[0;34m]\u001b[0m\u001b[0;34m,\u001b[0m \u001b[0mpoints\u001b[0m\u001b[0;34m[\u001b[0m\u001b[0mhull\u001b[0m\u001b[0;34m.\u001b[0m\u001b[0mvertices\u001b[0m\u001b[0;34m[\u001b[0m\u001b[0;36m0\u001b[0m\u001b[0;34m]\u001b[0m\u001b[0;34m,\u001b[0m\u001b[0;36m1\u001b[0m\u001b[0;34m]\u001b[0m\u001b[0;34m,\u001b[0m \u001b[0;34m'ro'\u001b[0m\u001b[0;34m)\u001b[0m\u001b[0;34m\u001b[0m\u001b[0;34m\u001b[0m\u001b[0m\n",
      "\u001b[0;31mIndexError\u001b[0m: index 3 is out of bounds for axis 0 with size 3"
     ]
    }
   ],
   "source": [
    "plot_hull(hull)"
   ]
  },
  {
   "cell_type": "code",
   "execution_count": 282,
   "metadata": {},
   "outputs": [
    {
     "data": {
      "text/plain": [
       "(True, True)"
      ]
     },
     "execution_count": 282,
     "metadata": {},
     "output_type": "execute_result"
    }
   ],
   "source": [
    "points = np.array([[0,0,0], [1,0,0], [0,0,1], [0,0,0]])\n",
    "\n",
    "def isinsimplex(simplex_points, point):\n",
    "    \n",
    "    # If the point is a vertex, no work to be done (on a face is considered contained)\n",
    "    if point in simplex_points:\n",
    "        return True\n",
    "\n",
    "    # Generate convex hull and grab its vertices. If this errors, the hull is degenerate and we consider the point not contained\n",
    "    hull = ConvexHull(simplex_points, incremental=True, qhull_options='QJ') # 'QJ' option allows geometric degeneracy\n",
    "\n",
    "    vertices = hull.vertices\n",
    "    \n",
    "    # Generate the convex hull with new point\n",
    "    hull.add_points([point])\n",
    "    \n",
    "    # Check if they are the same\n",
    "    # If they are, then the added point must be contained in the original hull\n",
    "    # If there are a different number of vertices, clearly the hulls are different\n",
    "    if len(vertices) != len(hull.vertices):\n",
    "        return False\n",
    "    \n",
    "    # Otherwise, make sure all the vertices are the same\n",
    "    return all(vertices == hull.vertices)\n",
    "\n",
    "from scipy.optimize import linprog\n",
    "\n",
    "def in_hull(points, x):\n",
    "    n_points = len(points)\n",
    "    n_dim = len(x)\n",
    "    \n",
    "    c = np.zeros(n_points)\n",
    "    A = np.r_[points.T, np.ones((1,n_points))]\n",
    "    b = np.r_[x, np.ones(1)]\n",
    "    \n",
    "    lp = linprog(c, A_eq=A, b_eq=b)\n",
    "    \n",
    "    return lp.success\n",
    "\n",
    "in_hull(points, [.5,0,0]), isinsimplex(points, [, .5, .5])"
   ]
  },
  {
   "cell_type": "code",
   "execution_count": 285,
   "metadata": {},
   "outputs": [
    {
     "data": {
      "text/plain": [
       "True"
      ]
     },
     "execution_count": 285,
     "metadata": {},
     "output_type": "execute_result"
    }
   ],
   "source": [
    "def isinsimplex(simplex_points, point) -> bool:\n",
    "    n_points = len(simplex_points)\n",
    "    n_dim = len(point)\n",
    "    \n",
    "    c = np.zeros(n_points)\n",
    "    A = np.r_[simplex_points.T, np.ones((1,n_points))]\n",
    "    b = np.r_[point, np.ones(1)]\n",
    "    \n",
    "    lp = linprog(c, A_eq=A, b_eq=b)\n",
    "    \n",
    "    return lp.success\n",
    "\n",
    "isinsimplex(points, [.5, 0, 0])"
   ]
  },
  {
   "cell_type": "code",
   "execution_count": null,
   "metadata": {},
   "outputs": [],
   "source": [
    "def simplex_containment(data, curve, J=2):\n",
    "    depth = 0 # Initialize depth (number of simplices containing the data) to zero\n",
    "    n = len(data) # Number of functions\n",
    "    d = data[0].shape[1] # Number of features (features live in p dimensional space)\n",
    "    \n",
    "    subseq = _subsequences([i for i in range(n)], d + 1) # Create d+1 dimensional subsequences to form simplices from the n samples\n",
    "    \n",
    "    for sequence in subeq:\n",
    "        pass\n",
    "    "
   ]
  },
  {
   "cell_type": "code",
   "execution_count": null,
   "metadata": {},
   "outputs": [],
   "source": []
  }
 ],
 "metadata": {
  "kernelspec": {
   "display_name": "basedatascience",
   "language": "python",
   "name": "basedatascience"
  },
  "language_info": {
   "codemirror_mode": {
    "name": "ipython",
    "version": 3
   },
   "file_extension": ".py",
   "mimetype": "text/x-python",
   "name": "python",
   "nbconvert_exporter": "python",
   "pygments_lexer": "ipython3",
   "version": "3.8.5"
  }
 },
 "nbformat": 4,
 "nbformat_minor": 4
}
