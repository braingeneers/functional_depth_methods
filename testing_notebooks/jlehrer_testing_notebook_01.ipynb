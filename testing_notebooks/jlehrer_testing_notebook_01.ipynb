{
 "cells": [
  {
   "cell_type": "markdown",
   "metadata": {},
   "source": [
    "# Testing Notebook\n",
    "\n",
    "This notebook provides some test code/ experimentation for the implementation of centrality analysis from the paper *On the Concept of Depth from Functional Data*\n",
    "\n",
    "Warning: the work here is very rough."
   ]
  },
  {
   "cell_type": "markdown",
   "metadata": {},
   "source": [
    "The following function produces all subsequences of length `l` from the list `s`. "
   ]
  },
  {
   "cell_type": "code",
   "execution_count": 1,
   "metadata": {
    "scrolled": true
   },
   "outputs": [],
   "source": [
    "from itertools import combinations \n",
    "import pandas as pd \n",
    "import numpy as np\n",
    "import matplotlib.pyplot as plt\n",
    "\n",
    "def subsequences(s, l):\n",
    "    '''Returns a list of all possible subsequences of the given length from the given input list\n",
    "    Parameters:\n",
    "    -------------\n",
    "    s: List to enumerate\n",
    "    l: length of subsequences to find'''\n",
    "    return sorted(set([i for i in combinations(s, l)]))"
   ]
  },
  {
   "cell_type": "markdown",
   "metadata": {},
   "source": [
    "We now test the standard definition of $V(x_{i_1}, ... ,x_{i_j})$ containment in $\\mathbb{R}^2$ "
   ]
  },
  {
   "cell_type": "markdown",
   "metadata": {},
   "source": [
    "And define a fake dataset to do so"
   ]
  },
  {
   "cell_type": "code",
   "execution_count": 2,
   "metadata": {
    "scrolled": true
   },
   "outputs": [
    {
     "data": {
      "text/html": [
       "<div>\n",
       "<style scoped>\n",
       "    .dataframe tbody tr th:only-of-type {\n",
       "        vertical-align: middle;\n",
       "    }\n",
       "\n",
       "    .dataframe tbody tr th {\n",
       "        vertical-align: top;\n",
       "    }\n",
       "\n",
       "    .dataframe thead th {\n",
       "        text-align: right;\n",
       "    }\n",
       "</style>\n",
       "<table border=\"1\" class=\"dataframe\">\n",
       "  <thead>\n",
       "    <tr style=\"text-align: right;\">\n",
       "      <th></th>\n",
       "      <th>1</th>\n",
       "      <th>2</th>\n",
       "      <th>3</th>\n",
       "      <th>4</th>\n",
       "      <th>5</th>\n",
       "    </tr>\n",
       "  </thead>\n",
       "  <tbody>\n",
       "    <tr>\n",
       "      <th>0</th>\n",
       "      <td>1</td>\n",
       "      <td>2</td>\n",
       "      <td>3</td>\n",
       "      <td>6.0</td>\n",
       "      <td>9</td>\n",
       "    </tr>\n",
       "    <tr>\n",
       "      <th>1</th>\n",
       "      <td>2</td>\n",
       "      <td>4</td>\n",
       "      <td>4</td>\n",
       "      <td>7.0</td>\n",
       "      <td>9</td>\n",
       "    </tr>\n",
       "    <tr>\n",
       "      <th>2</th>\n",
       "      <td>3</td>\n",
       "      <td>5</td>\n",
       "      <td>4</td>\n",
       "      <td>6.5</td>\n",
       "      <td>12</td>\n",
       "    </tr>\n",
       "    <tr>\n",
       "      <th>3</th>\n",
       "      <td>2</td>\n",
       "      <td>6</td>\n",
       "      <td>2</td>\n",
       "      <td>6.0</td>\n",
       "      <td>11</td>\n",
       "    </tr>\n",
       "    <tr>\n",
       "      <th>4</th>\n",
       "      <td>1</td>\n",
       "      <td>2</td>\n",
       "      <td>1</td>\n",
       "      <td>7.0</td>\n",
       "      <td>11</td>\n",
       "    </tr>\n",
       "  </tbody>\n",
       "</table>\n",
       "</div>"
      ],
      "text/plain": [
       "   1  2  3    4   5\n",
       "0  1  2  3  6.0   9\n",
       "1  2  4  4  7.0   9\n",
       "2  3  5  4  6.5  12\n",
       "3  2  6  2  6.0  11\n",
       "4  1  2  1  7.0  11"
      ]
     },
     "execution_count": 2,
     "metadata": {},
     "output_type": "execute_result"
    }
   ],
   "source": [
    "df = pd.DataFrame([\n",
    "    [1, 2, 3, 6, 9],\n",
    "    [2, 4, 4, 7, 9],\n",
    "    [3, 5, 4, 6.5, 12],\n",
    "    [2, 6, 2, 6, 11],\n",
    "    [1, 2, 1, 7, 11],\n",
    "], columns=list('12345'))\n",
    "\n",
    "df"
   ]
  },
  {
   "cell_type": "code",
   "execution_count": 3,
   "metadata": {},
   "outputs": [
    {
     "data": {
      "image/png": "[encoded data removed]",
      "text/plain": [
       "<Figure size 432x288 with 1 Axes>"
      ]
     },
     "metadata": {
      "needs_background": "light"
     },
     "output_type": "display_data"
    }
   ],
   "source": [
    "plt.plot(df);"
   ]
  },
  {
   "cell_type": "code",
   "execution_count": 118,
   "metadata": {},
   "outputs": [],
   "source": [
    "from statdepth.depth import banddepth\n",
    "\n",
    "# banddepth([df], containment='r2', J=2)"
   ]
  },
  {
   "cell_type": "markdown",
   "metadata": {},
   "source": [
    "We now test the closed form solution"
   ]
  },
  {
   "cell_type": "code",
   "execution_count": 4,
   "metadata": {},
   "outputs": [
    {
     "data": {
      "text/plain": [
       "0    0.48\n",
       "1    0.74\n",
       "2    0.54\n",
       "3    0.66\n",
       "4    0.58\n",
       "dtype: float64"
      ]
     },
     "execution_count": 4,
     "metadata": {},
     "output_type": "execute_result"
    }
   ],
   "source": [
    "from scipy.special import comb, binom\n",
    "\n",
    "def banddepthclosed(data: pd.DataFrame, method='MBD'):\n",
    "    n, p = data.shape\n",
    "    rv = np.argsort(data, axis=0)\n",
    "    rmat = np.argsort(rv, axis=0) + 1\n",
    "\n",
    "    # This code is an explicit solution for J=2 and therefore cannot be generalized. \n",
    "    # band depth\n",
    "    def _fbd2():\n",
    "        down = np.min(rmat, axis=1) - 1\n",
    "        up = n - np.max(rmat, axis=1)\n",
    "        return (up * down + n - 1) / comb(n, 2)\n",
    "\n",
    "    # modified band depth\n",
    "    def _fmbd():\n",
    "        down = rmat - 1\n",
    "        up = n - rmat\n",
    "        return ((np.sum(up * down, axis=1) / p) + n - 1) / comb(n, 2)\n",
    "\n",
    "    if method == 'BD2':\n",
    "        depth = _fbd2()\n",
    "    elif method == 'MBD':\n",
    "        depth = _fmbd()\n",
    "    else:\n",
    "        raise ValueError(\"Unknown input value for parameter `method`.\")\n",
    "\n",
    "    return depth\n",
    "\n",
    "banddepthclosed(df)"
   ]
  },
  {
   "cell_type": "markdown",
   "metadata": {},
   "source": [
    "We now redefine our band depth to use a modified definition for containment"
   ]
  },
  {
   "cell_type": "code",
   "execution_count": 120,
   "metadata": {},
   "outputs": [],
   "source": [
    "def _r2_containment(data: pd.DataFrame, curve: pd.Series, relax: bool) -> float:\n",
    "    # Generate discrete band \n",
    "    containment = 0\n",
    "    \n",
    "    y_range = []\n",
    "    \n",
    "    mins = data.min(axis=1)\n",
    "    maxs = data.max(axis=1)\n",
    "    \n",
    "    intervals = [[i, j] for i, j in zip(mins, maxs)]\n",
    "    \n",
    "    # Check if each value in the curve is entirely contained within the band \n",
    "    for index, val in enumerate(curve):\n",
    "        # If any value is not, then break out. This is strict containment!\n",
    "        if intervals[index][0] <= val <= intervals[index][1]:\n",
    "            containment += 1\n",
    "        \n",
    "    return containment / len(curve) if relax else containment // len(curve)"
   ]
  },
  {
   "cell_type": "code",
   "execution_count": 133,
   "metadata": {},
   "outputs": [],
   "source": [
    "def _band_depth(data: pd.DataFrame, curve: str, relax: bool, containment='r2', J=2) -> float:    \n",
    "    # Initialize band depth, n (number of curves)\n",
    "    band_depth = 0\n",
    "    n = data.shape[1]\n",
    "    \n",
    "    # Select our containment definition if it is in our pre-defined list\n",
    "    if containment == 'r2':\n",
    "        cdef = _r2_containment\n",
    "    elif containment == 'r2_enum':\n",
    "        cdef = _r2_enum_containment\n",
    "    elif containment == 'simplex':\n",
    "        cdef = _simplex_containment\n",
    "    else:\n",
    "        # TODO: Allow user to pass in custom definition of containment\n",
    "        raise ValueError('Error: Unknown or unspecified definition of containment')\n",
    "\n",
    "    # Grab the data for our curve so numerical slicing is guaranteed to work\n",
    "    curve_data = data.loc[:, curve]\n",
    "\n",
    "    # Drop the curve (we don't want it used in defining our band/generalized band -- doesn't make sense)\n",
    "    data = data.drop(curve, axis=1)\n",
    "\n",
    "    # Define our index to be the columns of our dataset, excluding the last row (for indexing reasons)\n",
    "    idx = list(data.columns)\n",
    "    \n",
    "    # Compute band depth\n",
    "    for j in range(2, J + 1):\n",
    "        \n",
    "        # Initialize S_n^(j) as defined in the paper\n",
    "        S_nj = 0\n",
    "\n",
    "        # Get a list of all possible subsequences of samples (cols)\n",
    "        subseq = subsequences(idx, j)\n",
    "\n",
    "        # Get generalized containment for this value of J=j\n",
    "        for sequence in subseq:\n",
    "            subseq_df = data.loc[:, list(sequence)]\n",
    "\n",
    "            S_nj += cdef(data=subseq_df, curve=curve_data, relax=relax)\n",
    "\n",
    "        band_depth += S_nj / binom(n, j)\n",
    "    \n",
    "    return band_depth\n",
    "\n",
    "def banddepth(data: list, J=2, containment='r2', relax=False):\n",
    "    # If only one item in the list, it is the real-valued case\n",
    "    \n",
    "    if len(data) == 1:\n",
    "        band_depths = []\n",
    "        df = data[0]\n",
    "        for col in df.columns:\n",
    "            band_depths.append(_band_depth(data=df, curve=col, containment=containment, J=J, relax=relax))\n",
    "        return pd.Series(index=df.columns, data=band_depths)\n",
    "    else: \n",
    "        pass\n",
    "    \n",
    "    return None"
   ]
  },
  {
   "cell_type": "code",
   "execution_count": 138,
   "metadata": {},
   "outputs": [
    {
     "data": {
      "text/html": [
       "<div>\n",
       "<style scoped>\n",
       "    .dataframe tbody tr th:only-of-type {\n",
       "        vertical-align: middle;\n",
       "    }\n",
       "\n",
       "    .dataframe tbody tr th {\n",
       "        vertical-align: top;\n",
       "    }\n",
       "\n",
       "    .dataframe thead th {\n",
       "        text-align: right;\n",
       "    }\n",
       "</style>\n",
       "<table border=\"1\" class=\"dataframe\">\n",
       "  <thead>\n",
       "    <tr style=\"text-align: right;\">\n",
       "      <th></th>\n",
       "      <th>1</th>\n",
       "      <th>2</th>\n",
       "      <th>3</th>\n",
       "      <th>4</th>\n",
       "      <th>5</th>\n",
       "    </tr>\n",
       "  </thead>\n",
       "  <tbody>\n",
       "    <tr>\n",
       "      <th>0</th>\n",
       "      <td>1</td>\n",
       "      <td>2</td>\n",
       "      <td>3</td>\n",
       "      <td>6.0</td>\n",
       "      <td>9</td>\n",
       "    </tr>\n",
       "    <tr>\n",
       "      <th>1</th>\n",
       "      <td>2</td>\n",
       "      <td>4</td>\n",
       "      <td>4</td>\n",
       "      <td>7.0</td>\n",
       "      <td>9</td>\n",
       "    </tr>\n",
       "    <tr>\n",
       "      <th>2</th>\n",
       "      <td>3</td>\n",
       "      <td>5</td>\n",
       "      <td>4</td>\n",
       "      <td>6.5</td>\n",
       "      <td>12</td>\n",
       "    </tr>\n",
       "    <tr>\n",
       "      <th>3</th>\n",
       "      <td>2</td>\n",
       "      <td>6</td>\n",
       "      <td>2</td>\n",
       "      <td>6.0</td>\n",
       "      <td>11</td>\n",
       "    </tr>\n",
       "    <tr>\n",
       "      <th>4</th>\n",
       "      <td>1</td>\n",
       "      <td>2</td>\n",
       "      <td>1</td>\n",
       "      <td>7.0</td>\n",
       "      <td>11</td>\n",
       "    </tr>\n",
       "  </tbody>\n",
       "</table>\n",
       "</div>"
      ],
      "text/plain": [
       "   1  2  3    4   5\n",
       "0  1  2  3  6.0   9\n",
       "1  2  4  4  7.0   9\n",
       "2  3  5  4  6.5  12\n",
       "3  2  6  2  6.0  11\n",
       "4  1  2  1  7.0  11"
      ]
     },
     "execution_count": 138,
     "metadata": {},
     "output_type": "execute_result"
    }
   ],
   "source": [
    "df"
   ]
  },
  {
   "cell_type": "code",
   "execution_count": 137,
   "metadata": {
    "scrolled": true
   },
   "outputs": [
    {
     "data": {
      "text/plain": [
       "1    0.12\n",
       "2    0.42\n",
       "3    0.36\n",
       "4    0.34\n",
       "5    0.00\n",
       "dtype: float64"
      ]
     },
     "execution_count": 137,
     "metadata": {},
     "output_type": "execute_result"
    }
   ],
   "source": [
    "banddepth(data=[df], J=2, relax=True)"
   ]
  },
  {
   "cell_type": "code",
   "execution_count": 102,
   "metadata": {},
   "outputs": [
    {
     "data": {
      "image/png": "[encoded data removed]",
      "text/plain": [
       "<Figure size 432x288 with 1 Axes>"
      ]
     },
     "metadata": {
      "needs_background": "light"
     },
     "output_type": "display_data"
    }
   ],
   "source": [
    "plt.plot(df);"
   ]
  },
  {
   "cell_type": "code",
   "execution_count": 132,
   "metadata": {},
   "outputs": [
    {
     "data": {
      "text/plain": [
       "0    0.48\n",
       "1    0.74\n",
       "2    0.54\n",
       "3    0.66\n",
       "4    0.58\n",
       "dtype: float64"
      ]
     },
     "execution_count": 132,
     "metadata": {},
     "output_type": "execute_result"
    }
   ],
   "source": [
    "banddepthclosed(df)"
   ]
  },
  {
   "cell_type": "code",
   "execution_count": 139,
   "metadata": {},
   "outputs": [],
   "source": [
    "df = pd.DataFrame({'x_0': [1, 2, 1, 1, 2], \n",
    "                    'x_1': [2, 3, 4, 2, 2], \n",
    "                    'x_2': [1, 3, 1, 3, 2],\n",
    "                    'x_3': [1, 2, 1, 1, 2],\n",
    "                    'x_4': [2, 3, 4, 2, 1]}, \n",
    "                   index=['f_1', 'f_2', 'f_3', 'f_4', 'f_5'])"
   ]
  },
  {
   "cell_type": "code",
   "execution_count": 164,
   "metadata": {},
   "outputs": [
    {
     "data": {
      "text/html": [
       "<div>\n",
       "<style scoped>\n",
       "    .dataframe tbody tr th:only-of-type {\n",
       "        vertical-align: middle;\n",
       "    }\n",
       "\n",
       "    .dataframe tbody tr th {\n",
       "        vertical-align: top;\n",
       "    }\n",
       "\n",
       "    .dataframe thead th {\n",
       "        text-align: right;\n",
       "    }\n",
       "</style>\n",
       "<table border=\"1\" class=\"dataframe\">\n",
       "  <thead>\n",
       "    <tr style=\"text-align: right;\">\n",
       "      <th></th>\n",
       "      <th>A</th>\n",
       "      <th>B</th>\n",
       "      <th>C</th>\n",
       "      <th>D</th>\n",
       "    </tr>\n",
       "  </thead>\n",
       "  <tbody>\n",
       "    <tr>\n",
       "      <th>0</th>\n",
       "      <td>29</td>\n",
       "      <td>72</td>\n",
       "      <td>45</td>\n",
       "      <td>25</td>\n",
       "    </tr>\n",
       "    <tr>\n",
       "      <th>1</th>\n",
       "      <td>71</td>\n",
       "      <td>17</td>\n",
       "      <td>97</td>\n",
       "      <td>36</td>\n",
       "    </tr>\n",
       "    <tr>\n",
       "      <th>2</th>\n",
       "      <td>55</td>\n",
       "      <td>48</td>\n",
       "      <td>2</td>\n",
       "      <td>1</td>\n",
       "    </tr>\n",
       "    <tr>\n",
       "      <th>3</th>\n",
       "      <td>79</td>\n",
       "      <td>35</td>\n",
       "      <td>23</td>\n",
       "      <td>74</td>\n",
       "    </tr>\n",
       "    <tr>\n",
       "      <th>4</th>\n",
       "      <td>74</td>\n",
       "      <td>73</td>\n",
       "      <td>92</td>\n",
       "      <td>22</td>\n",
       "    </tr>\n",
       "    <tr>\n",
       "      <th>...</th>\n",
       "      <td>...</td>\n",
       "      <td>...</td>\n",
       "      <td>...</td>\n",
       "      <td>...</td>\n",
       "    </tr>\n",
       "    <tr>\n",
       "      <th>132</th>\n",
       "      <td>93</td>\n",
       "      <td>69</td>\n",
       "      <td>17</td>\n",
       "      <td>2</td>\n",
       "    </tr>\n",
       "    <tr>\n",
       "      <th>133</th>\n",
       "      <td>60</td>\n",
       "      <td>61</td>\n",
       "      <td>48</td>\n",
       "      <td>39</td>\n",
       "    </tr>\n",
       "    <tr>\n",
       "      <th>134</th>\n",
       "      <td>57</td>\n",
       "      <td>34</td>\n",
       "      <td>75</td>\n",
       "      <td>72</td>\n",
       "    </tr>\n",
       "    <tr>\n",
       "      <th>135</th>\n",
       "      <td>62</td>\n",
       "      <td>52</td>\n",
       "      <td>69</td>\n",
       "      <td>95</td>\n",
       "    </tr>\n",
       "    <tr>\n",
       "      <th>136</th>\n",
       "      <td>67</td>\n",
       "      <td>95</td>\n",
       "      <td>51</td>\n",
       "      <td>24</td>\n",
       "    </tr>\n",
       "  </tbody>\n",
       "</table>\n",
       "<p>137 rows × 4 columns</p>\n",
       "</div>"
      ],
      "text/plain": [
       "      A   B   C   D\n",
       "0    29  72  45  25\n",
       "1    71  17  97  36\n",
       "2    55  48   2   1\n",
       "3    79  35  23  74\n",
       "4    74  73  92  22\n",
       "..   ..  ..  ..  ..\n",
       "132  93  69  17   2\n",
       "133  60  61  48  39\n",
       "134  57  34  75  72\n",
       "135  62  52  69  95\n",
       "136  67  95  51  24\n",
       "\n",
       "[137 rows x 4 columns]"
      ]
     },
     "execution_count": 164,
     "metadata": {},
     "output_type": "execute_result"
    }
   ],
   "source": [
    "df = pd.DataFrame(np.random.randint(0,101,size=(137, 4)), columns=list('ABCD'))\n",
    "df"
   ]
  },
  {
   "cell_type": "code",
   "execution_count": 235,
   "metadata": {},
   "outputs": [],
   "source": [
    "from typing import Callable \n",
    "\n",
    "def _r2_containment(data: pd.DataFrame, curve: pd.Series, relax: bool) -> float:\n",
    "    containment = 0\n",
    "    \n",
    "    y_range = []\n",
    "    \n",
    "    mins = data.min(axis=1)\n",
    "    maxs = data.max(axis=1)\n",
    "    \n",
    "    intervals = [[i, j] for i, j in zip(mins, maxs)]\n",
    "    \n",
    "    # Check if each value in the curve is entirely contained within the band \n",
    "    for index, val in enumerate(curve):\n",
    "        # If any value is not, then break out. This is strict containment!\n",
    "        if intervals[index][0] <= val <= intervals[index][1]:\n",
    "            containment += 1\n",
    "        \n",
    "    return containment / len(curve) if relax else containment // len(curve)\n",
    "\n",
    "def _univariate_band_depth(data: pd.DataFrame, curve: int, relax: bool, containment: Callable, J=2) -> float:\n",
    "    \n",
    "    # Initialize band depth, n (number of curves)\n",
    "    band_depth = 0\n",
    "    n = data.shape[1]\n",
    "    \n",
    "    # Grab the data for our curve so numerical slicing is guaranteed to work\n",
    "    curve_data = data.loc[:, curve]\n",
    "\n",
    "    # Drop the curve (we don't want it used in defining our band/generalized band -- doesn't make sense)\n",
    "    data = data.drop(curve, axis=1)\n",
    "\n",
    "    # Define our index to be the columns of our dataset, excluding the last row (for indexing reasons)\n",
    "    idx = list(data.columns)\n",
    "    \n",
    "    # Compute band depth\n",
    "    for j in range(2, J + 1):\n",
    "        \n",
    "        # Initialize S_n^(j) as defined in the paper\n",
    "        S_nj = 0\n",
    "\n",
    "        # Get a list of all possible subsequences of samples (cols)\n",
    "        subseq = subsequences(idx, j)\n",
    "\n",
    "        # Get generalized containment for this value of J=j\n",
    "        for sequence in subseq:\n",
    "            subseq_df = data.loc[:, list(sequence)]\n",
    "            S_nj += containment(data=subseq_df, curve=curve_data, relax=relax)\n",
    "\n",
    "        band_depth += S_nj / binom(n, j)\n",
    "    \n",
    "    return band_depth\n",
    "\n",
    "def banddepth(data: List[pd.DataFrame], J=2, containment='r2', relax=False, deep_check=False):\n",
    "    # Select containment definition\n",
    "    cdef = _r2_containment\n",
    "\n",
    "    # If only one item in the list, it is the real-valued case\n",
    "    if len(data) == 1:\n",
    "        band_depths = []\n",
    "        df = data[0]\n",
    "        for col in df.columns:\n",
    "            band_depths.append(_univariate_band_depth(data=df, curve=col, relax=relax, containment=cdef, J=J))\n",
    "        return band_depths\n",
    "    else: \n",
    "        # Multivariate case\n",
    "        pass\n",
    "    \n",
    "    return None\n"
   ]
  },
  {
   "cell_type": "code",
   "execution_count": 268,
   "metadata": {},
   "outputs": [],
   "source": [
    "from typing import List \n",
    "import random\n",
    "\n",
    "def samplebanddepth(data: List[pd.DataFrame], K: int, J=2, containment='r2', relax=False, deep_check=False):\n",
    "\n",
    "    band_depth_samples = []\n",
    "\n",
    "    # Handle common errros\n",
    "#     _handle_depth_errors(data=data, J=J, deep_check=deep_check)\n",
    "\n",
    "    cdef = _r2_containment\n",
    "    \n",
    "    # Univariate case\n",
    "    if len(data) == 1:\n",
    "        df = data[0]\n",
    "        ss = df.shape[0] // K\n",
    "        for _ in range(K):\n",
    "            t = df.sample(n=ss)\n",
    "            df = df.drop(t.index)\n",
    "            band_depth_samples.append((banddepth(data=[t], J=J, containment=containment, relax=relax, deep_check=deep_check)))\n",
    "    else:\n",
    "        # Multivariate case: partition list of DataFrames randomly, compute band depth w.r.t those\n",
    "        shuffled = data.copy()\n",
    "        random.shuffle(shuffled)\n",
    "        ss = len(data) // K \n",
    "\n",
    "        for _ in range(K ):\n",
    "            pass\n",
    "        \n",
    "\n",
    "    return (band_depth_samples)\n"
   ]
  },
  {
   "cell_type": "code",
   "execution_count": 269,
   "metadata": {},
   "outputs": [],
   "source": [
    "samples = samplebanddepth([df], K=2, relax=True)"
   ]
  },
  {
   "cell_type": "code",
   "execution_count": 270,
   "metadata": {},
   "outputs": [
    {
     "data": {
      "image/png": "[encoded data removed]",
      "text/plain": [
       "<Figure size 432x288 with 1 Axes>"
      ]
     },
     "metadata": {
      "needs_background": "light"
     },
     "output_type": "display_data"
    }
   ],
   "source": [
    "plt.plot(df);"
   ]
  },
  {
   "cell_type": "code",
   "execution_count": 271,
   "metadata": {},
   "outputs": [
    {
     "data": {
      "text/plain": [
       "[[0.14215686274509806,\n",
       "  0.22058823529411764,\n",
       "  0.16666666666666666,\n",
       "  0.14705882352941177],\n",
       " [0.17156862745098042,\n",
       "  0.17401960784313728,\n",
       "  0.17647058823529413,\n",
       "  0.1593137254901961]]"
      ]
     },
     "execution_count": 271,
     "metadata": {},
     "output_type": "execute_result"
    }
   ],
   "source": [
    "samples"
   ]
  },
  {
   "cell_type": "code",
   "execution_count": 263,
   "metadata": {},
   "outputs": [
    {
     "data": {
      "text/plain": [
       "[0.1568627450980392,\n",
       " 0.19730392156862747,\n",
       " 0.1715686274509804,\n",
       " 0.1531862745098039]"
      ]
     },
     "execution_count": 263,
     "metadata": {},
     "output_type": "execute_result"
    }
   ],
   "source": [
    "K=2\n",
    "depths = []\n",
    "\n",
    "for k in range(df.shape[1]):\n",
    "    t = [samples[i][k] for i in range(K)]\n",
    "    depths.append(np.mean(t))\n",
    "    \n",
    "depths"
   ]
  },
  {
   "cell_type": "code",
   "execution_count": 267,
   "metadata": {},
   "outputs": [
    {
     "data": {
      "text/plain": [
       "[0.15571776155717762,\n",
       " 0.19829683698296838,\n",
       " 0.17031630170316303,\n",
       " 0.15450121654501217]"
      ]
     },
     "execution_count": 267,
     "metadata": {},
     "output_type": "execute_result"
    }
   ],
   "source": [
    "banddepth([df], relax=True)"
   ]
  },
  {
   "cell_type": "code",
   "execution_count": 274,
   "metadata": {},
   "outputs": [
    {
     "name": "stdout",
     "output_type": "stream",
     "text": [
      "Processing /Users/julian/Documents/Projects/statdepth\n",
      "Building wheels for collected packages: statdepth\n",
      "  Building wheel for statdepth (setup.py) ... \u001b[?25ldone\n",
      "\u001b[?25h  Created wheel for statdepth: filename=statdepth-0.1.0-py2.py3-none-any.whl size=10138 sha256=b02c42af29931f9d33725b74a8f95743f8b72bd9933a1275ed9bdda299883dd8\n",
      "  Stored in directory: /private/var/folders/pd/jsjcl0fn7w57s5mfr34b20pm0000gn/T/pip-ephem-wheel-cache-zni5stht/wheels/94/78/65/e7cb177a6619a78b187853c88271a8abc224aa673b05e4ed56\n",
      "Successfully built statdepth\n",
      "Installing collected packages: statdepth\n",
      "  Attempting uninstall: statdepth\n",
      "    Found existing installation: statdepth 0.1.0\n",
      "    Uninstalling statdepth-0.1.0:\n",
      "      Successfully uninstalled statdepth-0.1.0\n",
      "Successfully installed statdepth-0.1.0\n"
     ]
    }
   ],
   "source": [
    "!pip install .."
   ]
  },
  {
   "cell_type": "code",
   "execution_count": 275,
   "metadata": {},
   "outputs": [
    {
     "ename": "ImportError",
     "evalue": "cannot import name 'samplebanddepth' from 'statdepth.depth' (/Users/julian/opt/miniconda3/envs/base-data-science/lib/python3.8/site-packages/statdepth/depth/__init__.py)",
     "output_type": "error",
     "traceback": [
      "\u001b[0;31m---------------------------------------------------------------------------\u001b[0m",
      "\u001b[0;31mImportError\u001b[0m                               Traceback (most recent call last)",
      "\u001b[0;32m<ipython-input-275-3dc9a2e526e6>\u001b[0m in \u001b[0;36m<module>\u001b[0;34m\u001b[0m\n\u001b[0;32m----> 1\u001b[0;31m \u001b[0;32mfrom\u001b[0m \u001b[0mstatdepth\u001b[0m\u001b[0;34m.\u001b[0m\u001b[0mdepth\u001b[0m \u001b[0;32mimport\u001b[0m \u001b[0mbanddepth\u001b[0m\u001b[0;34m,\u001b[0m \u001b[0msamplebanddepth\u001b[0m\u001b[0;34m\u001b[0m\u001b[0;34m\u001b[0m\u001b[0m\n\u001b[0m",
      "\u001b[0;31mImportError\u001b[0m: cannot import name 'samplebanddepth' from 'statdepth.depth' (/Users/julian/opt/miniconda3/envs/base-data-science/lib/python3.8/site-packages/statdepth/depth/__init__.py)"
     ]
    }
   ],
   "source": [
    "from statdepth.depth import banddepth, samplebanddepth"
   ]
  }
 ],
 "metadata": {
  "kernelspec": {
   "display_name": "basedatascience",
   "language": "python",
   "name": "basedatascience"
  },
  "language_info": {
   "codemirror_mode": {
    "name": "ipython",
    "version": 3
   },
   "file_extension": ".py",
   "mimetype": "text/x-python",
   "name": "python",
   "nbconvert_exporter": "python",
   "pygments_lexer": "ipython3",
   "version": "3.8.5"
  }
 },
 "nbformat": 4,
 "nbformat_minor": 4
}
