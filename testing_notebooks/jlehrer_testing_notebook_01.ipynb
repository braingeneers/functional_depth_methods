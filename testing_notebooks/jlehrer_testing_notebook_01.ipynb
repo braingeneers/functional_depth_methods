{
 "cells": [
  {
   "cell_type": "markdown",
   "metadata": {},
   "source": [
    "# Testing Notebook\n",
    "\n",
    "This notebook provides some test code/ experimentation for the implementation of centrality analysis from the paper *On the Concept of Depth from Functional Data*\n",
    "\n",
    "Warning: the work here is very rough."
   ]
  },
  {
   "cell_type": "markdown",
   "metadata": {},
   "source": [
    "The following function produces all subsequences of length `l` from the list `s`. "
   ]
  },
  {
   "cell_type": "code",
   "execution_count": 1,
   "metadata": {
    "scrolled": true
   },
   "outputs": [],
   "source": [
    "from itertools import combinations \n",
    "import pandas as pd \n",
    "import numpy as np\n",
    "import matplotlib.pyplot as plt\n",
    "\n",
    "def subsequences(s, l):\n",
    "    '''Returns a list of all possible subsequences of the given length from the given input list\n",
    "    Parameters:\n",
    "    -------------\n",
    "    s: List to enumerate\n",
    "    l: length of subsequences to find'''\n",
    "    return sorted(set([i for i in combinations(s, l)]))"
   ]
  },
  {
   "cell_type": "markdown",
   "metadata": {},
   "source": [
    "We now test the standard definition of $V(x_{i_1}, ... ,x_{i_j})$ containment in $\\mathbb{R}^2$ "
   ]
  },
  {
   "cell_type": "code",
   "execution_count": 6,
   "metadata": {},
   "outputs": [],
   "source": [
    "def _r2_containment(data: pd.DataFrame, curve: pd.Series) -> float:\n",
    "    '''Produces \\lambda_r with the given input data, using the standard ordering on R as the definition for containment.\n",
    "    Parameters:\n",
    "    ----------\n",
    "\n",
    "    data: Array of real-valued functions that define our band in R^2\n",
    "    curve: Function to check containment on \n",
    "\n",
    "    Returns:\n",
    "    ----------\n",
    "    0 if the function is not contained in the curve, 1 if it is\n",
    "    '''\n",
    "\n",
    "    # Generate discrete band \n",
    "    y_range = []\n",
    "    for time_index in data.columns:\n",
    "        y_range.append([data[time_index].min(), data[time_index].max()])\n",
    "\n",
    "    # Check if each value in the curve is entirely contained within the band \n",
    "    for index, val in enumerate(curve):\n",
    "        # If any value is not, then break out. This is strict containment!\n",
    "        if not (y_range[index][0] <= val <= y_range[index][1]):\n",
    "            return 0\n",
    "\n",
    "    return 1\n"
   ]
  },
  {
   "cell_type": "markdown",
   "metadata": {},
   "source": [
    "And define a fake dataset to do so"
   ]
  },
  {
   "cell_type": "code",
   "execution_count": 8,
   "metadata": {
    "scrolled": true
   },
   "outputs": [],
   "source": [
    "df = pd.DataFrame([\n",
    "    [1, 2, 3, 4],\n",
    "    [2, 2, 4, 5],\n",
    "    [3, 0, 4, 6],\n",
    "    [2, 2, 2, 7],\n",
    "    [9, 10, 11, 11]\n",
    "], columns=list('1234'))\n"
   ]
  },
  {
   "cell_type": "code",
   "execution_count": 9,
   "metadata": {},
   "outputs": [
    {
     "data": {
      "image/png": "[encoded data removed]",
      "text/plain": [
       "<Figure size 432x288 with 1 Axes>"
      ]
     },
     "metadata": {
      "needs_background": "light"
     },
     "output_type": "display_data"
    }
   ],
   "source": [
    "plt.plot(df.T);"
   ]
  },
  {
   "cell_type": "code",
   "execution_count": 17,
   "metadata": {
    "scrolled": true
   },
   "outputs": [
    {
     "name": "stdout",
     "output_type": "stream",
     "text": [
      "Band depth for row 0 is 0.0\n",
      "Band depth for row 1 is 0.2\n",
      "Band depth for row 2 is 0.0\n",
      "Band depth for row 3 is 0.0\n",
      "Band depth for row 4 is 0.0\n"
     ]
    }
   ],
   "source": [
    "from scipy.special import binom, comb\n",
    "\n",
    "def _band_depth(data: pd.DataFrame, curve: int, containment='r2', J=2) -> float:\n",
    "    \"\"\"Calculates each band depth for a given curve in the dataset. Meant for J > 2, as J=2 has a closed solution. This function is wrapped in banddepth()\n",
    "    \n",
    "    Parameters:\n",
    "    ----------\n",
    "    data: An n x p matrix where our rows come from R. Each observation should define a curve, in the functional sense. \n",
    "\n",
    "    curve: The particular function we would like to calculate band curve for. Given as a row of our original DataFrame. \n",
    "\n",
    "    containment: function that defines containment for the particular data. For example, in R^2 this would be a discrete subset \n",
    "\n",
    "    J=2: Defaulted to 2. \n",
    "    \"\"\"\n",
    "    \n",
    "    # Initialize band depth, n\n",
    "    band_depth = 0\n",
    "    n = len(data)\n",
    "    \n",
    "    # Select our containment definition if it is in our pre-defined list\n",
    "    if containment == 'r2':\n",
    "        cdef = _r2_containment\n",
    "    elif containment == 'r2_enum':\n",
    "        cdef = _r2_enum_containment\n",
    "    elif containment == 'simplex':\n",
    "        cdef = _simplex_containment\n",
    "    else:\n",
    "        # TODO: Allow user to pass in custom definition of containment\n",
    "        raise ValueError('Error: Unknown or unspecified definition of containment')\n",
    "\n",
    "    # Reset index of our data \n",
    "    data = data.reset_index(drop=True)\n",
    "\n",
    "    # Grab the data for our curve so numerical slicing is guaranteed to work\n",
    "    curve_data = data.loc[curve, :]\n",
    "\n",
    "    # Drop the curve (we don't want it used in defining our band/generalized band -- doesn't make sense)\n",
    "    data = data.drop(curve)\n",
    "\n",
    "    # Define our index to be the index of our dataset, excluding the last row (for indexing reasons)\n",
    "    idx = list(data.index)\n",
    "    \n",
    "    # iterate from 2,...,J\n",
    "    for j in range(2, J + 1):\n",
    "        \n",
    "        # Initialize S_n^(j) as defined in the paper\n",
    "        S_nj = 0\n",
    "\n",
    "        # Get a list of all possible subsequences of samples (rows)\n",
    "        subseq = subsequences(idx, j)\n",
    "\n",
    "        # Get generalized containment for this value of J=j\n",
    "        for sequence in subseq:\n",
    "            subseq_df = data.loc[list(sequence), :]\n",
    "\n",
    "            S_nj += cdef(data=subseq_df, curve=curve_data)\n",
    "\n",
    "        band_depth += S_nj / binom(n, j)\n",
    "    \n",
    "    return band_depth\n",
    "\n",
    "for row in range(0, len(df)):\n",
    "    print('Band depth for row {} is {}'.format(row, _band_depth(df, curve=row, J=2)))\n",
    "    "
   ]
  },
  {
   "cell_type": "code",
   "execution_count": 27,
   "metadata": {},
   "outputs": [
    {
     "data": {
      "text/plain": [
       "0    0.4\n",
       "1    0.6\n",
       "2    0.4\n",
       "3    0.4\n",
       "4    0.4\n",
       "dtype: float64"
      ]
     },
     "execution_count": 27,
     "metadata": {},
     "output_type": "execute_result"
    }
   ],
   "source": [
    "def j2_depth(data: pd.DataFrame, method='BD2'):\n",
    "    n, p = data.shape\n",
    "    rv = np.argsort(data, axis=0)\n",
    "    rmat = np.argsort(rv, axis=0) + 1\n",
    "\n",
    "    # This code is an explicit solution for J=2 and therefore cannot be generalized. \n",
    "    # band depth\n",
    "    def _fbd2():\n",
    "        down = np.min(rmat, axis=1) - 1\n",
    "        up = n - np.max(rmat, axis=1)\n",
    "        return (up * down + n - 1) / comb(n, 2)\n",
    "\n",
    "    # modified band depth\n",
    "    def _fmbd():\n",
    "        down = rmat - 1\n",
    "        up = n - rmat\n",
    "        return ((np.sum(up * down, axis=1) / p) + n - 1) / comb(n, 2)\n",
    "\n",
    "    if method == 'BD2':\n",
    "        depth = _fbd2()\n",
    "    elif method == 'MBD':\n",
    "        depth = _fmbd()\n",
    "    else:\n",
    "        raise ValueError(\"Unknown input value for parameter `method`.\")\n",
    "\n",
    "    return depth\n",
    "    \n",
    "j2_depth(df)"
   ]
  },
  {
   "cell_type": "markdown",
   "metadata": {},
   "source": [
    "We now test the closed form solution"
   ]
  },
  {
   "cell_type": "code",
   "execution_count": null,
   "metadata": {},
   "outputs": [],
   "source": [
    "from scipy.special import comb\n",
    "\n",
    "def banddepthclosed(data: pd.DataFrame, method='MBD'):\n",
    "    n, p = data.shape\n",
    "    rv = np.argsort(data, axis=0)\n",
    "    rmat = np.argsort(rv, axis=0) + 1\n",
    "\n",
    "    # This code is an explicit solution for J=2 and therefore cannot be generalized. \n",
    "    # band depth\n",
    "    def _fbd2():\n",
    "        down = np.min(rmat, axis=1) - 1\n",
    "        up = n - np.max(rmat, axis=1)\n",
    "        return (up * down + n - 1) / comb(n, 2)\n",
    "\n",
    "    # modified band depth\n",
    "    def _fmbd():\n",
    "        down = rmat - 1\n",
    "        up = n - rmat\n",
    "        return ((np.sum(up * down, axis=1) / p) + n - 1) / comb(n, 2)\n",
    "\n",
    "    if method == 'BD2':\n",
    "        depth = _fbd2()\n",
    "    elif method == 'MBD':\n",
    "        depth = _fmbd()\n",
    "    else:\n",
    "        raise ValueError(\"Unknown input value for parameter `method`.\")\n",
    "\n",
    "    return depth\n",
    "\n",
    "banddepthclosed(df)"
   ]
  },
  {
   "cell_type": "markdown",
   "metadata": {},
   "source": [
    "We now redefine our band depth to use a modified definition for containment"
   ]
  },
  {
   "cell_type": "code",
   "execution_count": 25,
   "metadata": {
    "scrolled": true
   },
   "outputs": [],
   "source": [
    "def _r2_containment(data: pd.DataFrame, curve: pd.Series) -> int:\n",
    "    # Generate discrete band\n",
    "    flag = 1\n",
    "    y_range = []\n",
    "    for time_index in data.columns:\n",
    "        y_range.append([data[time_index].min(), data[time_index].max()])\n",
    "\n",
    "    # Check if each value in the curve is entirely contained within the band \n",
    "    for idx, val in enumerate(curve):\n",
    "        if not (y_range[idx][0] <= val <= y_range[idx][1]):\n",
    "            flag = 0\n",
    "\n",
    "    return int(flag==1)\n",
    "    \n",
    "def _band_depth(data: pd.DataFrame, curve: int, containment='r2', J=2) -> float:\n",
    "    # Initialize band depth, n\n",
    "    band_depth = 0\n",
    "    n = len(data)\n",
    "    \n",
    "    # Select our containment definition if it is in our pre-defined list \n",
    "    if containment == 'r2':\n",
    "        containment = _r2_containment\n",
    "    # todo\n",
    "    else:\n",
    "        pass\n",
    "    # Reset index of our data \n",
    "    data = data.reset_index(drop=True)\n",
    "\n",
    "    # Grab the data for our curve so numerical slicing is guaranteed to work\n",
    "    curve_data = data.loc[curve, :]\n",
    "\n",
    "    # Drop the curve (we don't want it used in defining our band/generalized band -- doesn't make sense)\n",
    "    data = data.drop(curve)\n",
    "\n",
    "    # Define our index to be the index of our dataset, excluding the last row (for indexing reasons)\n",
    "    idx = list(data.index)\n",
    "    \n",
    "    # iterate from 2,...,J\n",
    "    for j in range(2, J + 1):\n",
    "        \n",
    "        # Initialize S_n^(j) as defined in the paper\n",
    "        S_nj = 0\n",
    "\n",
    "        # Get a list of all possible subsequences of samples (rows)\n",
    "        subseq = subsequences(idx, j)\n",
    "\n",
    "        # Get generalized containment for this value of J=j\n",
    "        for sequence in subseq:\n",
    "            subseq_df = data.loc[list(sequence), :]\n",
    "\n",
    "            S_nj += containment(data=subseq_df, curve=curve_data)\n",
    "\n",
    "        band_depth += (1 / binom(n, j)) * S_nj\n",
    "    \n",
    "    return band_depth\n",
    "\n",
    "# for row in range(0, len(df)):\n",
    "#     print('Band depth for row {} is {}'.format(row, _band_depth(df, curve=row, J=2)))\n"
   ]
  },
  {
   "cell_type": "code",
   "execution_count": null,
   "metadata": {},
   "outputs": [],
   "source": [
    "def _band_depth_est(data: pd.DataFrame, curve: int, K: int, containment='r2', J=2) -> float:\n",
    "    '''Estimates the band depth by\n",
    "    \n",
    "    1. Splitting the n sample curves into K blocks of size ~n/K\n",
    "    2. Computing band depth with respect to each block\n",
    "    3. Returning the average of these depths\n",
    "    \n",
    "    '''\n",
    "    \n",
    "    # Block size\n",
    "    sample = df.shape[0] // K\n",
    "    \n",
    "    # Estimation array\n",
    "    depths = []\n",
    "    \n",
    "    # Copy curve data so it isn't lost when DataFrame is sampled from\n",
    "    curve_data = curve\n",
    "    \n",
    "    # Compute band depth for all K - 1 blocks\n",
    "    for k in range(K - 1):\n",
    "        t = data.sample(n=sample, replace=False)\n",
    "        data = data.drop(t.index)\n",
    "        \n",
    "        depths.append(_band_depth(data=data, curve=curve_data, containment=containment, J=J))\n",
    "    \n",
    "    # Compute band depth with \"whatever's left\", will be a slightly larger block but ok. \n",
    "    depths.append(_band_depth(data=data, curve=curve, containment=containment, J=J))\n",
    "    \n",
    "    return np.mean(depths)\n",
    "\n",
    "\n",
    "for row in range(0, len(df)):\n",
    "    print('Band depth for row {} is {}'.format(row, _band_depth_est(data=df, curve=row, K=20, J=2)))\n"
   ]
  },
  {
   "cell_type": "code",
   "execution_count": 30,
   "metadata": {},
   "outputs": [
    {
     "data": {
      "text/html": [
       "<div>\n",
       "<style scoped>\n",
       "    .dataframe tbody tr th:only-of-type {\n",
       "        vertical-align: middle;\n",
       "    }\n",
       "\n",
       "    .dataframe tbody tr th {\n",
       "        vertical-align: top;\n",
       "    }\n",
       "\n",
       "    .dataframe thead th {\n",
       "        text-align: right;\n",
       "    }\n",
       "</style>\n",
       "<table border=\"1\" class=\"dataframe\">\n",
       "  <thead>\n",
       "    <tr style=\"text-align: right;\">\n",
       "      <th></th>\n",
       "      <th>a</th>\n",
       "      <th>b</th>\n",
       "      <th>c</th>\n",
       "    </tr>\n",
       "  </thead>\n",
       "  <tbody>\n",
       "    <tr>\n",
       "      <th>0:00</th>\n",
       "      <td>1</td>\n",
       "      <td>2</td>\n",
       "      <td>3</td>\n",
       "    </tr>\n",
       "    <tr>\n",
       "      <th>0:50</th>\n",
       "      <td>4</td>\n",
       "      <td>5</td>\n",
       "      <td>6</td>\n",
       "    </tr>\n",
       "  </tbody>\n",
       "</table>\n",
       "</div>"
      ],
      "text/plain": [
       "      a  b  c\n",
       "0:00  1  2  3\n",
       "0:50  4  5  6"
      ]
     },
     "metadata": {},
     "output_type": "display_data"
    },
    {
     "data": {
      "text/html": [
       "<div>\n",
       "<style scoped>\n",
       "    .dataframe tbody tr th:only-of-type {\n",
       "        vertical-align: middle;\n",
       "    }\n",
       "\n",
       "    .dataframe tbody tr th {\n",
       "        vertical-align: top;\n",
       "    }\n",
       "\n",
       "    .dataframe thead th {\n",
       "        text-align: right;\n",
       "    }\n",
       "</style>\n",
       "<table border=\"1\" class=\"dataframe\">\n",
       "  <thead>\n",
       "    <tr style=\"text-align: right;\">\n",
       "      <th></th>\n",
       "      <th>a</th>\n",
       "      <th>b</th>\n",
       "      <th>c</th>\n",
       "    </tr>\n",
       "  </thead>\n",
       "  <tbody>\n",
       "    <tr>\n",
       "      <th>0:00</th>\n",
       "      <td>3</td>\n",
       "      <td>2</td>\n",
       "      <td>1</td>\n",
       "    </tr>\n",
       "    <tr>\n",
       "      <th>0:50</th>\n",
       "      <td>5</td>\n",
       "      <td>4</td>\n",
       "      <td>3</td>\n",
       "    </tr>\n",
       "  </tbody>\n",
       "</table>\n",
       "</div>"
      ],
      "text/plain": [
       "      a  b  c\n",
       "0:00  3  2  1\n",
       "0:50  5  4  3"
      ]
     },
     "metadata": {},
     "output_type": "display_data"
    },
    {
     "data": {
      "text/html": [
       "<div>\n",
       "<style scoped>\n",
       "    .dataframe tbody tr th:only-of-type {\n",
       "        vertical-align: middle;\n",
       "    }\n",
       "\n",
       "    .dataframe tbody tr th {\n",
       "        vertical-align: top;\n",
       "    }\n",
       "\n",
       "    .dataframe thead th {\n",
       "        text-align: right;\n",
       "    }\n",
       "</style>\n",
       "<table border=\"1\" class=\"dataframe\">\n",
       "  <thead>\n",
       "    <tr style=\"text-align: right;\">\n",
       "      <th></th>\n",
       "      <th>a</th>\n",
       "      <th>b</th>\n",
       "      <th>c</th>\n",
       "    </tr>\n",
       "  </thead>\n",
       "  <tbody>\n",
       "    <tr>\n",
       "      <th>0:00</th>\n",
       "      <td>1</td>\n",
       "      <td>2</td>\n",
       "      <td>3</td>\n",
       "    </tr>\n",
       "    <tr>\n",
       "      <th>0:50</th>\n",
       "      <td>9</td>\n",
       "      <td>10</td>\n",
       "      <td>1</td>\n",
       "    </tr>\n",
       "  </tbody>\n",
       "</table>\n",
       "</div>"
      ],
      "text/plain": [
       "      a   b  c\n",
       "0:00  1   2  3\n",
       "0:50  9  10  1"
      ]
     },
     "metadata": {},
     "output_type": "display_data"
    }
   ],
   "source": [
    "index = ['0:00', '0:50']\n",
    "df1 = pd.DataFrame([\n",
    "    [1,2,3],\n",
    "    [4,5,6]\n",
    "], columns=list('abc'), index=index)\n",
    "\n",
    "df2 = pd.DataFrame([\n",
    "    [3,2,1],\n",
    "    [5,4,3]\n",
    "], columns=list('abc'), index=index)\n",
    "\n",
    "df3 = pd.DataFrame([\n",
    "    [1,2,3],\n",
    "    [9,10,1]\n",
    "], columns=list('abc'), index=index)\n",
    "\n",
    "display(df1)\n",
    "display(df2)\n",
    "display(df3)"
   ]
  },
  {
   "cell_type": "code",
   "execution_count": null,
   "metadata": {},
   "outputs": [],
   "source": []
  },
  {
   "cell_type": "code",
   "execution_count": null,
   "metadata": {},
   "outputs": [],
   "source": []
  }
 ],
 "metadata": {
  "kernelspec": {
   "display_name": "basedatascience",
   "language": "python",
   "name": "basedatascience"
  },
  "language_info": {
   "codemirror_mode": {
    "name": "ipython",
    "version": 3
   },
   "file_extension": ".py",
   "mimetype": "text/x-python",
   "name": "python",
   "nbconvert_exporter": "python",
   "pygments_lexer": "ipython3",
   "version": "3.8.5"
  }
 },
 "nbformat": 4,
 "nbformat_minor": 4
}
