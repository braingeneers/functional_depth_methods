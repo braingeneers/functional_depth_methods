{
 "cells": [
  {
   "cell_type": "markdown",
   "metadata": {},
   "source": [
    "# Testing Notebook 02:"
   ]
  },
  {
   "cell_type": "code",
   "execution_count": 18,
   "metadata": {},
   "outputs": [],
   "source": [
    "from typing import List\n",
    "import pandas as pd \n",
    "import numpy as np\n",
    "\n",
    "from statdepth.depth import banddepth\n",
    "from statdepth.depth.depth import _univariate_band_depth, _handle_depth_errors\n",
    "from statdepth.depth._containment import _select_containment\n",
    "\n",
    "import plotly.express as px"
   ]
  },
  {
   "cell_type": "code",
   "execution_count": 4,
   "metadata": {},
   "outputs": [
    {
     "name": "stdout",
     "output_type": "stream",
     "text": [
      "/Users/julian/opt/miniconda3/bin/python\r\n",
      "/usr/bin/python\r\n"
     ]
    }
   ],
   "source": [
    "!where python"
   ]
  },
  {
   "cell_type": "markdown",
   "metadata": {},
   "source": [
    "Generate a toy DataFrame for testing"
   ]
  },
  {
   "cell_type": "code",
   "execution_count": 7,
   "metadata": {},
   "outputs": [
    {
     "data": {
      "text/html": [
       "<div>\n",
       "<style scoped>\n",
       "    .dataframe tbody tr th:only-of-type {\n",
       "        vertical-align: middle;\n",
       "    }\n",
       "\n",
       "    .dataframe tbody tr th {\n",
       "        vertical-align: top;\n",
       "    }\n",
       "\n",
       "    .dataframe thead th {\n",
       "        text-align: right;\n",
       "    }\n",
       "</style>\n",
       "<table border=\"1\" class=\"dataframe\">\n",
       "  <thead>\n",
       "    <tr style=\"text-align: right;\">\n",
       "      <th></th>\n",
       "      <th>0</th>\n",
       "      <th>1</th>\n",
       "      <th>2</th>\n",
       "      <th>3</th>\n",
       "      <th>4</th>\n",
       "      <th>5</th>\n",
       "      <th>6</th>\n",
       "      <th>7</th>\n",
       "      <th>8</th>\n",
       "      <th>9</th>\n",
       "      <th>...</th>\n",
       "      <th>40</th>\n",
       "      <th>41</th>\n",
       "      <th>42</th>\n",
       "      <th>43</th>\n",
       "      <th>44</th>\n",
       "      <th>45</th>\n",
       "      <th>46</th>\n",
       "      <th>47</th>\n",
       "      <th>48</th>\n",
       "      <th>49</th>\n",
       "    </tr>\n",
       "  </thead>\n",
       "  <tbody>\n",
       "    <tr>\n",
       "      <th>0</th>\n",
       "      <td>85</td>\n",
       "      <td>55</td>\n",
       "      <td>64</td>\n",
       "      <td>82</td>\n",
       "      <td>15</td>\n",
       "      <td>21</td>\n",
       "      <td>17</td>\n",
       "      <td>96</td>\n",
       "      <td>20</td>\n",
       "      <td>59</td>\n",
       "      <td>...</td>\n",
       "      <td>66</td>\n",
       "      <td>84</td>\n",
       "      <td>22</td>\n",
       "      <td>15</td>\n",
       "      <td>30</td>\n",
       "      <td>48</td>\n",
       "      <td>36</td>\n",
       "      <td>5</td>\n",
       "      <td>81</td>\n",
       "      <td>77</td>\n",
       "    </tr>\n",
       "    <tr>\n",
       "      <th>1</th>\n",
       "      <td>83</td>\n",
       "      <td>13</td>\n",
       "      <td>16</td>\n",
       "      <td>7</td>\n",
       "      <td>85</td>\n",
       "      <td>37</td>\n",
       "      <td>92</td>\n",
       "      <td>25</td>\n",
       "      <td>48</td>\n",
       "      <td>31</td>\n",
       "      <td>...</td>\n",
       "      <td>66</td>\n",
       "      <td>61</td>\n",
       "      <td>55</td>\n",
       "      <td>65</td>\n",
       "      <td>93</td>\n",
       "      <td>5</td>\n",
       "      <td>23</td>\n",
       "      <td>88</td>\n",
       "      <td>8</td>\n",
       "      <td>79</td>\n",
       "    </tr>\n",
       "    <tr>\n",
       "      <th>2</th>\n",
       "      <td>96</td>\n",
       "      <td>37</td>\n",
       "      <td>63</td>\n",
       "      <td>100</td>\n",
       "      <td>83</td>\n",
       "      <td>88</td>\n",
       "      <td>99</td>\n",
       "      <td>19</td>\n",
       "      <td>14</td>\n",
       "      <td>35</td>\n",
       "      <td>...</td>\n",
       "      <td>51</td>\n",
       "      <td>43</td>\n",
       "      <td>97</td>\n",
       "      <td>79</td>\n",
       "      <td>8</td>\n",
       "      <td>54</td>\n",
       "      <td>79</td>\n",
       "      <td>41</td>\n",
       "      <td>96</td>\n",
       "      <td>42</td>\n",
       "    </tr>\n",
       "    <tr>\n",
       "      <th>3</th>\n",
       "      <td>83</td>\n",
       "      <td>47</td>\n",
       "      <td>100</td>\n",
       "      <td>84</td>\n",
       "      <td>54</td>\n",
       "      <td>62</td>\n",
       "      <td>82</td>\n",
       "      <td>53</td>\n",
       "      <td>57</td>\n",
       "      <td>14</td>\n",
       "      <td>...</td>\n",
       "      <td>36</td>\n",
       "      <td>8</td>\n",
       "      <td>17</td>\n",
       "      <td>27</td>\n",
       "      <td>93</td>\n",
       "      <td>79</td>\n",
       "      <td>51</td>\n",
       "      <td>16</td>\n",
       "      <td>2</td>\n",
       "      <td>100</td>\n",
       "    </tr>\n",
       "    <tr>\n",
       "      <th>4</th>\n",
       "      <td>75</td>\n",
       "      <td>32</td>\n",
       "      <td>88</td>\n",
       "      <td>0</td>\n",
       "      <td>36</td>\n",
       "      <td>78</td>\n",
       "      <td>11</td>\n",
       "      <td>42</td>\n",
       "      <td>92</td>\n",
       "      <td>59</td>\n",
       "      <td>...</td>\n",
       "      <td>98</td>\n",
       "      <td>22</td>\n",
       "      <td>28</td>\n",
       "      <td>41</td>\n",
       "      <td>68</td>\n",
       "      <td>46</td>\n",
       "      <td>3</td>\n",
       "      <td>93</td>\n",
       "      <td>85</td>\n",
       "      <td>93</td>\n",
       "    </tr>\n",
       "    <tr>\n",
       "      <th>...</th>\n",
       "      <td>...</td>\n",
       "      <td>...</td>\n",
       "      <td>...</td>\n",
       "      <td>...</td>\n",
       "      <td>...</td>\n",
       "      <td>...</td>\n",
       "      <td>...</td>\n",
       "      <td>...</td>\n",
       "      <td>...</td>\n",
       "      <td>...</td>\n",
       "      <td>...</td>\n",
       "      <td>...</td>\n",
       "      <td>...</td>\n",
       "      <td>...</td>\n",
       "      <td>...</td>\n",
       "      <td>...</td>\n",
       "      <td>...</td>\n",
       "      <td>...</td>\n",
       "      <td>...</td>\n",
       "      <td>...</td>\n",
       "      <td>...</td>\n",
       "    </tr>\n",
       "    <tr>\n",
       "      <th>132</th>\n",
       "      <td>94</td>\n",
       "      <td>68</td>\n",
       "      <td>21</td>\n",
       "      <td>33</td>\n",
       "      <td>29</td>\n",
       "      <td>49</td>\n",
       "      <td>89</td>\n",
       "      <td>75</td>\n",
       "      <td>32</td>\n",
       "      <td>65</td>\n",
       "      <td>...</td>\n",
       "      <td>99</td>\n",
       "      <td>95</td>\n",
       "      <td>85</td>\n",
       "      <td>90</td>\n",
       "      <td>28</td>\n",
       "      <td>40</td>\n",
       "      <td>73</td>\n",
       "      <td>8</td>\n",
       "      <td>10</td>\n",
       "      <td>64</td>\n",
       "    </tr>\n",
       "    <tr>\n",
       "      <th>133</th>\n",
       "      <td>31</td>\n",
       "      <td>84</td>\n",
       "      <td>72</td>\n",
       "      <td>54</td>\n",
       "      <td>69</td>\n",
       "      <td>85</td>\n",
       "      <td>81</td>\n",
       "      <td>67</td>\n",
       "      <td>12</td>\n",
       "      <td>83</td>\n",
       "      <td>...</td>\n",
       "      <td>1</td>\n",
       "      <td>41</td>\n",
       "      <td>61</td>\n",
       "      <td>96</td>\n",
       "      <td>87</td>\n",
       "      <td>61</td>\n",
       "      <td>87</td>\n",
       "      <td>81</td>\n",
       "      <td>6</td>\n",
       "      <td>17</td>\n",
       "    </tr>\n",
       "    <tr>\n",
       "      <th>134</th>\n",
       "      <td>85</td>\n",
       "      <td>37</td>\n",
       "      <td>51</td>\n",
       "      <td>99</td>\n",
       "      <td>4</td>\n",
       "      <td>50</td>\n",
       "      <td>20</td>\n",
       "      <td>32</td>\n",
       "      <td>67</td>\n",
       "      <td>6</td>\n",
       "      <td>...</td>\n",
       "      <td>79</td>\n",
       "      <td>33</td>\n",
       "      <td>23</td>\n",
       "      <td>34</td>\n",
       "      <td>31</td>\n",
       "      <td>98</td>\n",
       "      <td>61</td>\n",
       "      <td>42</td>\n",
       "      <td>43</td>\n",
       "      <td>88</td>\n",
       "    </tr>\n",
       "    <tr>\n",
       "      <th>135</th>\n",
       "      <td>58</td>\n",
       "      <td>63</td>\n",
       "      <td>59</td>\n",
       "      <td>7</td>\n",
       "      <td>88</td>\n",
       "      <td>92</td>\n",
       "      <td>77</td>\n",
       "      <td>94</td>\n",
       "      <td>17</td>\n",
       "      <td>4</td>\n",
       "      <td>...</td>\n",
       "      <td>32</td>\n",
       "      <td>23</td>\n",
       "      <td>67</td>\n",
       "      <td>69</td>\n",
       "      <td>98</td>\n",
       "      <td>98</td>\n",
       "      <td>54</td>\n",
       "      <td>52</td>\n",
       "      <td>94</td>\n",
       "      <td>59</td>\n",
       "    </tr>\n",
       "    <tr>\n",
       "      <th>136</th>\n",
       "      <td>14</td>\n",
       "      <td>79</td>\n",
       "      <td>74</td>\n",
       "      <td>80</td>\n",
       "      <td>61</td>\n",
       "      <td>36</td>\n",
       "      <td>55</td>\n",
       "      <td>37</td>\n",
       "      <td>22</td>\n",
       "      <td>7</td>\n",
       "      <td>...</td>\n",
       "      <td>62</td>\n",
       "      <td>77</td>\n",
       "      <td>81</td>\n",
       "      <td>46</td>\n",
       "      <td>36</td>\n",
       "      <td>50</td>\n",
       "      <td>37</td>\n",
       "      <td>99</td>\n",
       "      <td>93</td>\n",
       "      <td>35</td>\n",
       "    </tr>\n",
       "  </tbody>\n",
       "</table>\n",
       "<p>137 rows × 50 columns</p>\n",
       "</div>"
      ],
      "text/plain": [
       "     0   1    2    3   4   5   6   7   8   9   ...  40  41  42  43  44  45  \\\n",
       "0    85  55   64   82  15  21  17  96  20  59  ...  66  84  22  15  30  48   \n",
       "1    83  13   16    7  85  37  92  25  48  31  ...  66  61  55  65  93   5   \n",
       "2    96  37   63  100  83  88  99  19  14  35  ...  51  43  97  79   8  54   \n",
       "3    83  47  100   84  54  62  82  53  57  14  ...  36   8  17  27  93  79   \n",
       "4    75  32   88    0  36  78  11  42  92  59  ...  98  22  28  41  68  46   \n",
       "..   ..  ..  ...  ...  ..  ..  ..  ..  ..  ..  ...  ..  ..  ..  ..  ..  ..   \n",
       "132  94  68   21   33  29  49  89  75  32  65  ...  99  95  85  90  28  40   \n",
       "133  31  84   72   54  69  85  81  67  12  83  ...   1  41  61  96  87  61   \n",
       "134  85  37   51   99   4  50  20  32  67   6  ...  79  33  23  34  31  98   \n",
       "135  58  63   59    7  88  92  77  94  17   4  ...  32  23  67  69  98  98   \n",
       "136  14  79   74   80  61  36  55  37  22   7  ...  62  77  81  46  36  50   \n",
       "\n",
       "     46  47  48   49  \n",
       "0    36   5  81   77  \n",
       "1    23  88   8   79  \n",
       "2    79  41  96   42  \n",
       "3    51  16   2  100  \n",
       "4     3  93  85   93  \n",
       "..   ..  ..  ..  ...  \n",
       "132  73   8  10   64  \n",
       "133  87  81   6   17  \n",
       "134  61  42  43   88  \n",
       "135  54  52  94   59  \n",
       "136  37  99  93   35  \n",
       "\n",
       "[137 rows x 50 columns]"
      ]
     },
     "execution_count": 7,
     "metadata": {},
     "output_type": "execute_result"
    }
   ],
   "source": [
    "df = pd.DataFrame(np.random.randint(0,101,size=(137, 50)))\n",
    "df"
   ]
  },
  {
   "cell_type": "code",
   "execution_count": 9,
   "metadata": {},
   "outputs": [],
   "source": [
    "import statdepth as s"
   ]
  },
  {
   "cell_type": "code",
   "execution_count": 10,
   "metadata": {},
   "outputs": [
    {
     "name": "stdout",
     "output_type": "stream",
     "text": [
      "38.7 s ± 1.07 s per loop (mean ± std. dev. of 7 runs, 1 loop each)\n"
     ]
    }
   ],
   "source": [
    "%%timeit\n",
    "s.depth.banddepth([df], J=2)"
   ]
  },
  {
   "cell_type": "code",
   "execution_count": 11,
   "metadata": {},
   "outputs": [
    {
     "name": "stdout",
     "output_type": "stream",
     "text": [
      "11.6 s ± 446 ms per loop (mean ± std. dev. of 7 runs, 1 loop each)\n"
     ]
    }
   ],
   "source": [
    "%%timeit\n",
    "s.depth.samplebanddepth([df], K=3, J=2)"
   ]
  },
  {
   "cell_type": "code",
   "execution_count": 14,
   "metadata": {
    "scrolled": true
   },
   "outputs": [
    {
     "data": {
      "text/plain": [
       "0     0.330594\n",
       "1     0.335218\n",
       "2     0.342661\n",
       "3     0.303155\n",
       "4     0.297524\n",
       "5     0.333478\n",
       "6     0.315174\n",
       "7     0.330594\n",
       "8     0.337608\n",
       "9     0.341576\n",
       "10    0.334253\n",
       "11    0.327442\n",
       "12    0.310699\n",
       "13    0.330064\n",
       "14    0.324177\n",
       "15    0.322818\n",
       "16    0.318272\n",
       "17    0.349763\n",
       "18    0.325643\n",
       "19    0.311217\n",
       "20    0.334175\n",
       "21    0.318647\n",
       "22    0.328509\n",
       "23    0.324523\n",
       "24    0.355334\n",
       "25    0.330797\n",
       "26    0.350669\n",
       "27    0.339401\n",
       "28    0.347660\n",
       "29    0.339574\n",
       "30    0.327377\n",
       "31    0.349298\n",
       "32    0.336416\n",
       "33    0.335516\n",
       "34    0.316330\n",
       "35    0.331089\n",
       "36    0.343566\n",
       "37    0.324546\n",
       "38    0.306176\n",
       "39    0.327204\n",
       "40    0.317593\n",
       "41    0.344394\n",
       "42    0.310389\n",
       "43    0.327341\n",
       "44    0.338734\n",
       "45    0.340217\n",
       "46    0.315960\n",
       "47    0.327669\n",
       "48    0.319970\n",
       "49    0.328485\n",
       "dtype: float64"
      ]
     },
     "execution_count": 14,
     "metadata": {},
     "output_type": "execute_result"
    }
   ],
   "source": [
    "d = s.depth.banddepth([df], J=2, relax=True)\n",
    "d"
   ]
  },
  {
   "cell_type": "code",
   "execution_count": 16,
   "metadata": {
    "scrolled": true
   },
   "outputs": [
    {
     "data": {
      "text/plain": [
       "0     0.302331\n",
       "1     0.307908\n",
       "2     0.311978\n",
       "3     0.278406\n",
       "4     0.271798\n",
       "5     0.306895\n",
       "6     0.286892\n",
       "7     0.303068\n",
       "8     0.310498\n",
       "9     0.312606\n",
       "10    0.306777\n",
       "11    0.299562\n",
       "12    0.286445\n",
       "13    0.301301\n",
       "14    0.295951\n",
       "15    0.297320\n",
       "16    0.292592\n",
       "17    0.321471\n",
       "18    0.299510\n",
       "19    0.283612\n",
       "20    0.307144\n",
       "21    0.293122\n",
       "22    0.302300\n",
       "23    0.298331\n",
       "24    0.325868\n",
       "25    0.303435\n",
       "26    0.318850\n",
       "27    0.311409\n",
       "28    0.321942\n",
       "29    0.313284\n",
       "30    0.300417\n",
       "31    0.318864\n",
       "32    0.307395\n",
       "33    0.309909\n",
       "34    0.290519\n",
       "35    0.303100\n",
       "36    0.315748\n",
       "37    0.298730\n",
       "38    0.280776\n",
       "39    0.300565\n",
       "40    0.290802\n",
       "41    0.318002\n",
       "42    0.283976\n",
       "43    0.301962\n",
       "44    0.310287\n",
       "45    0.311977\n",
       "46    0.291126\n",
       "47    0.300136\n",
       "48    0.293871\n",
       "49    0.298904\n",
       "dtype: float64"
      ]
     },
     "execution_count": 16,
     "metadata": {},
     "output_type": "execute_result"
    }
   ],
   "source": [
    "sd = s.depth.samplebanddepth([df], K=3, J=2, relax=True)\n",
    "sd"
   ]
  },
  {
   "cell_type": "code",
   "execution_count": 17,
   "metadata": {
    "scrolled": true
   },
   "outputs": [
    {
     "data": {
      "text/plain": [
       "0     0.028264\n",
       "1     0.027311\n",
       "2     0.030682\n",
       "3     0.024749\n",
       "4     0.025727\n",
       "5     0.026583\n",
       "6     0.028281\n",
       "7     0.027527\n",
       "8     0.027110\n",
       "9     0.028970\n",
       "10    0.027476\n",
       "11    0.027880\n",
       "12    0.024254\n",
       "13    0.028763\n",
       "14    0.028226\n",
       "15    0.025498\n",
       "16    0.025680\n",
       "17    0.028292\n",
       "18    0.026133\n",
       "19    0.027605\n",
       "20    0.027031\n",
       "21    0.025526\n",
       "22    0.026209\n",
       "23    0.026191\n",
       "24    0.029466\n",
       "25    0.027362\n",
       "26    0.031818\n",
       "27    0.027992\n",
       "28    0.025718\n",
       "29    0.026290\n",
       "30    0.026959\n",
       "31    0.030435\n",
       "32    0.029021\n",
       "33    0.025607\n",
       "34    0.025810\n",
       "35    0.027989\n",
       "36    0.027818\n",
       "37    0.025817\n",
       "38    0.025400\n",
       "39    0.026639\n",
       "40    0.026791\n",
       "41    0.026392\n",
       "42    0.026413\n",
       "43    0.025379\n",
       "44    0.028447\n",
       "45    0.028240\n",
       "46    0.024834\n",
       "47    0.027533\n",
       "48    0.026099\n",
       "49    0.029581\n",
       "dtype: float64"
      ]
     },
     "execution_count": 17,
     "metadata": {},
     "output_type": "execute_result"
    }
   ],
   "source": [
    "d - sd"
   ]
  },
  {
   "cell_type": "code",
   "execution_count": 21,
   "metadata": {
    "scrolled": true
   },
   "outputs": [
    {
     "data": {
      "application/vnd.plotly.v1+json": {
       "config": {
        "plotlyServerURL": "https://plot.ly"
       },
       "data": [
        {
         "hovertemplate": "variable=0<br>index=%{x}<br>value=%{y}<extra></extra>",
         "legendgroup": "0",
         "line": {
          "color": "#636efa",
          "dash": "solid"
         },
         "mode": "lines",
         "name": "0",
         "orientation": "v",
         "showlegend": true,
         "type": "scatter",
         "x": [
          0,
          1,
          2,
          3,
          4,
          5,
          6,
          7,
          8,
          9,
          10,
          11,
          12,
          13,
          14,
          15,
          16,
          17,
          18,
          19,
          20,
          21,
          22,
          23,
          24,
          25,
          26,
          27,
          28,
          29,
          30,
          31,
          32,
          33,
          34,
          35
         ],
         "xaxis": "x",
         "y": [
          3,
          5,
          4,
          6.5,
          8,
          5,
          4.5,
          2,
          4,
          3,
          5,
          4,
          6.5,
          8,
          5,
          4.5,
          2,
          4,
          3,
          5,
          4,
          6.5,
          8,
          5,
          4.5,
          2,
          4,
          3,
          5,
          4,
          6.5,
          8,
          5,
          4.5,
          2,
          4
         ],
         "yaxis": "y"
        }
       ],
       "layout": {
        "legend": {
         "title": {
          "text": "variable"
         },
         "tracegroupgap": 0
        },
        "margin": {
         "t": 60
        },
        "template": {
         "data": {
          "bar": [
           {
            "error_x": {
             "color": "#2a3f5f"
            },
            "error_y": {
             "color": "#2a3f5f"
            },
            "marker": {
             "line": {
              "color": "#E5ECF6",
              "width": 0.5
             }
            },
            "type": "bar"
           }
          ],
          "barpolar": [
           {
            "marker": {
             "line": {
              "color": "#E5ECF6",
              "width": 0.5
             }
            },
            "type": "barpolar"
           }
          ],
          "carpet": [
           {
            "aaxis": {
             "endlinecolor": "#2a3f5f",
             "gridcolor": "white",
             "linecolor": "white",
             "minorgridcolor": "white",
             "startlinecolor": "#2a3f5f"
            },
            "baxis": {
             "endlinecolor": "#2a3f5f",
             "gridcolor": "white",
             "linecolor": "white",
             "minorgridcolor": "white",
             "startlinecolor": "#2a3f5f"
            },
            "type": "carpet"
           }
          ],
          "choropleth": [
           {
            "colorbar": {
             "outlinewidth": 0,
             "ticks": ""
            },
            "type": "choropleth"
           }
          ],
          "contour": [
           {
            "colorbar": {
             "outlinewidth": 0,
             "ticks": ""
            },
            "colorscale": [
             [
              0,
              "#0d0887"
             ],
             [
              0.1111111111111111,
              "#46039f"
             ],
             [
              0.2222222222222222,
              "#7201a8"
             ],
             [
              0.3333333333333333,
              "#9c179e"
             ],
             [
              0.4444444444444444,
              "#bd3786"
             ],
             [
              0.5555555555555556,
              "#d8576b"
             ],
             [
              0.6666666666666666,
              "#ed7953"
             ],
             [
              0.7777777777777778,
              "#fb9f3a"
             ],
             [
              0.8888888888888888,
              "#fdca26"
             ],
             [
              1,
              "#f0f921"
             ]
            ],
            "type": "contour"
           }
          ],
          "contourcarpet": [
           {
            "colorbar": {
             "outlinewidth": 0,
             "ticks": ""
            },
            "type": "contourcarpet"
           }
          ],
          "heatmap": [
           {
            "colorbar": {
             "outlinewidth": 0,
             "ticks": ""
            },
            "colorscale": [
             [
              0,
              "#0d0887"
             ],
             [
              0.1111111111111111,
              "#46039f"
             ],
             [
              0.2222222222222222,
              "#7201a8"
             ],
             [
              0.3333333333333333,
              "#9c179e"
             ],
             [
              0.4444444444444444,
              "#bd3786"
             ],
             [
              0.5555555555555556,
              "#d8576b"
             ],
             [
              0.6666666666666666,
              "#ed7953"
             ],
             [
              0.7777777777777778,
              "#fb9f3a"
             ],
             [
              0.8888888888888888,
              "#fdca26"
             ],
             [
              1,
              "#f0f921"
             ]
            ],
            "type": "heatmap"
           }
          ],
          "heatmapgl": [
           {
            "colorbar": {
             "outlinewidth": 0,
             "ticks": ""
            },
            "colorscale": [
             [
              0,
              "#0d0887"
             ],
             [
              0.1111111111111111,
              "#46039f"
             ],
             [
              0.2222222222222222,
              "#7201a8"
             ],
             [
              0.3333333333333333,
              "#9c179e"
             ],
             [
              0.4444444444444444,
              "#bd3786"
             ],
             [
              0.5555555555555556,
              "#d8576b"
             ],
             [
              0.6666666666666666,
              "#ed7953"
             ],
             [
              0.7777777777777778,
              "#fb9f3a"
             ],
             [
              0.8888888888888888,
              "#fdca26"
             ],
             [
              1,
              "#f0f921"
             ]
            ],
            "type": "heatmapgl"
           }
          ],
          "histogram": [
           {
            "marker": {
             "colorbar": {
              "outlinewidth": 0,
              "ticks": ""
             }
            },
            "type": "histogram"
           }
          ],
          "histogram2d": [
           {
            "colorbar": {
             "outlinewidth": 0,
             "ticks": ""
            },
            "colorscale": [
             [
              0,
              "#0d0887"
             ],
             [
              0.1111111111111111,
              "#46039f"
             ],
             [
              0.2222222222222222,
              "#7201a8"
             ],
             [
              0.3333333333333333,
              "#9c179e"
             ],
             [
              0.4444444444444444,
              "#bd3786"
             ],
             [
              0.5555555555555556,
              "#d8576b"
             ],
             [
              0.6666666666666666,
              "#ed7953"
             ],
             [
              0.7777777777777778,
              "#fb9f3a"
             ],
             [
              0.8888888888888888,
              "#fdca26"
             ],
             [
              1,
              "#f0f921"
             ]
            ],
            "type": "histogram2d"
           }
          ],
          "histogram2dcontour": [
           {
            "colorbar": {
             "outlinewidth": 0,
             "ticks": ""
            },
            "colorscale": [
             [
              0,
              "#0d0887"
             ],
             [
              0.1111111111111111,
              "#46039f"
             ],
             [
              0.2222222222222222,
              "#7201a8"
             ],
             [
              0.3333333333333333,
              "#9c179e"
             ],
             [
              0.4444444444444444,
              "#bd3786"
             ],
             [
              0.5555555555555556,
              "#d8576b"
             ],
             [
              0.6666666666666666,
              "#ed7953"
             ],
             [
              0.7777777777777778,
              "#fb9f3a"
             ],
             [
              0.8888888888888888,
              "#fdca26"
             ],
             [
              1,
              "#f0f921"
             ]
            ],
            "type": "histogram2dcontour"
           }
          ],
          "mesh3d": [
           {
            "colorbar": {
             "outlinewidth": 0,
             "ticks": ""
            },
            "type": "mesh3d"
           }
          ],
          "parcoords": [
           {
            "line": {
             "colorbar": {
              "outlinewidth": 0,
              "ticks": ""
             }
            },
            "type": "parcoords"
           }
          ],
          "pie": [
           {
            "automargin": true,
            "type": "pie"
           }
          ],
          "scatter": [
           {
            "marker": {
             "colorbar": {
              "outlinewidth": 0,
              "ticks": ""
             }
            },
            "type": "scatter"
           }
          ],
          "scatter3d": [
           {
            "line": {
             "colorbar": {
              "outlinewidth": 0,
              "ticks": ""
             }
            },
            "marker": {
             "colorbar": {
              "outlinewidth": 0,
              "ticks": ""
             }
            },
            "type": "scatter3d"
           }
          ],
          "scattercarpet": [
           {
            "marker": {
             "colorbar": {
              "outlinewidth": 0,
              "ticks": ""
             }
            },
            "type": "scattercarpet"
           }
          ],
          "scattergeo": [
           {
            "marker": {
             "colorbar": {
              "outlinewidth": 0,
              "ticks": ""
             }
            },
            "type": "scattergeo"
           }
          ],
          "scattergl": [
           {
            "marker": {
             "colorbar": {
              "outlinewidth": 0,
              "ticks": ""
             }
            },
            "type": "scattergl"
           }
          ],
          "scattermapbox": [
           {
            "marker": {
             "colorbar": {
              "outlinewidth": 0,
              "ticks": ""
             }
            },
            "type": "scattermapbox"
           }
          ],
          "scatterpolar": [
           {
            "marker": {
             "colorbar": {
              "outlinewidth": 0,
              "ticks": ""
             }
            },
            "type": "scatterpolar"
           }
          ],
          "scatterpolargl": [
           {
            "marker": {
             "colorbar": {
              "outlinewidth": 0,
              "ticks": ""
             }
            },
            "type": "scatterpolargl"
           }
          ],
          "scatterternary": [
           {
            "marker": {
             "colorbar": {
              "outlinewidth": 0,
              "ticks": ""
             }
            },
            "type": "scatterternary"
           }
          ],
          "surface": [
           {
            "colorbar": {
             "outlinewidth": 0,
             "ticks": ""
            },
            "colorscale": [
             [
              0,
              "#0d0887"
             ],
             [
              0.1111111111111111,
              "#46039f"
             ],
             [
              0.2222222222222222,
              "#7201a8"
             ],
             [
              0.3333333333333333,
              "#9c179e"
             ],
             [
              0.4444444444444444,
              "#bd3786"
             ],
             [
              0.5555555555555556,
              "#d8576b"
             ],
             [
              0.6666666666666666,
              "#ed7953"
             ],
             [
              0.7777777777777778,
              "#fb9f3a"
             ],
             [
              0.8888888888888888,
              "#fdca26"
             ],
             [
              1,
              "#f0f921"
             ]
            ],
            "type": "surface"
           }
          ],
          "table": [
           {
            "cells": {
             "fill": {
              "color": "#EBF0F8"
             },
             "line": {
              "color": "white"
             }
            },
            "header": {
             "fill": {
              "color": "#C8D4E3"
             },
             "line": {
              "color": "white"
             }
            },
            "type": "table"
           }
          ]
         },
         "layout": {
          "annotationdefaults": {
           "arrowcolor": "#2a3f5f",
           "arrowhead": 0,
           "arrowwidth": 1
          },
          "autotypenumbers": "strict",
          "coloraxis": {
           "colorbar": {
            "outlinewidth": 0,
            "ticks": ""
           }
          },
          "colorscale": {
           "diverging": [
            [
             0,
             "#8e0152"
            ],
            [
             0.1,
             "#c51b7d"
            ],
            [
             0.2,
             "#de77ae"
            ],
            [
             0.3,
             "#f1b6da"
            ],
            [
             0.4,
             "#fde0ef"
            ],
            [
             0.5,
             "#f7f7f7"
            ],
            [
             0.6,
             "#e6f5d0"
            ],
            [
             0.7,
             "#b8e186"
            ],
            [
             0.8,
             "#7fbc41"
            ],
            [
             0.9,
             "#4d9221"
            ],
            [
             1,
             "#276419"
            ]
           ],
           "sequential": [
            [
             0,
             "#0d0887"
            ],
            [
             0.1111111111111111,
             "#46039f"
            ],
            [
             0.2222222222222222,
             "#7201a8"
            ],
            [
             0.3333333333333333,
             "#9c179e"
            ],
            [
             0.4444444444444444,
             "#bd3786"
            ],
            [
             0.5555555555555556,
             "#d8576b"
            ],
            [
             0.6666666666666666,
             "#ed7953"
            ],
            [
             0.7777777777777778,
             "#fb9f3a"
            ],
            [
             0.8888888888888888,
             "#fdca26"
            ],
            [
             1,
             "#f0f921"
            ]
           ],
           "sequentialminus": [
            [
             0,
             "#0d0887"
            ],
            [
             0.1111111111111111,
             "#46039f"
            ],
            [
             0.2222222222222222,
             "#7201a8"
            ],
            [
             0.3333333333333333,
             "#9c179e"
            ],
            [
             0.4444444444444444,
             "#bd3786"
            ],
            [
             0.5555555555555556,
             "#d8576b"
            ],
            [
             0.6666666666666666,
             "#ed7953"
            ],
            [
             0.7777777777777778,
             "#fb9f3a"
            ],
            [
             0.8888888888888888,
             "#fdca26"
            ],
            [
             1,
             "#f0f921"
            ]
           ]
          },
          "colorway": [
           "#636efa",
           "#EF553B",
           "#00cc96",
           "#ab63fa",
           "#FFA15A",
           "#19d3f3",
           "#FF6692",
           "#B6E880",
           "#FF97FF",
           "#FECB52"
          ],
          "font": {
           "color": "#2a3f5f"
          },
          "geo": {
           "bgcolor": "white",
           "lakecolor": "white",
           "landcolor": "#E5ECF6",
           "showlakes": true,
           "showland": true,
           "subunitcolor": "white"
          },
          "hoverlabel": {
           "align": "left"
          },
          "hovermode": "closest",
          "mapbox": {
           "style": "light"
          },
          "paper_bgcolor": "white",
          "plot_bgcolor": "#E5ECF6",
          "polar": {
           "angularaxis": {
            "gridcolor": "white",
            "linecolor": "white",
            "ticks": ""
           },
           "bgcolor": "#E5ECF6",
           "radialaxis": {
            "gridcolor": "white",
            "linecolor": "white",
            "ticks": ""
           }
          },
          "scene": {
           "xaxis": {
            "backgroundcolor": "#E5ECF6",
            "gridcolor": "white",
            "gridwidth": 2,
            "linecolor": "white",
            "showbackground": true,
            "ticks": "",
            "zerolinecolor": "white"
           },
           "yaxis": {
            "backgroundcolor": "#E5ECF6",
            "gridcolor": "white",
            "gridwidth": 2,
            "linecolor": "white",
            "showbackground": true,
            "ticks": "",
            "zerolinecolor": "white"
           },
           "zaxis": {
            "backgroundcolor": "#E5ECF6",
            "gridcolor": "white",
            "gridwidth": 2,
            "linecolor": "white",
            "showbackground": true,
            "ticks": "",
            "zerolinecolor": "white"
           }
          },
          "shapedefaults": {
           "line": {
            "color": "#2a3f5f"
           }
          },
          "ternary": {
           "aaxis": {
            "gridcolor": "white",
            "linecolor": "white",
            "ticks": ""
           },
           "baxis": {
            "gridcolor": "white",
            "linecolor": "white",
            "ticks": ""
           },
           "bgcolor": "#E5ECF6",
           "caxis": {
            "gridcolor": "white",
            "linecolor": "white",
            "ticks": ""
           }
          },
          "title": {
           "x": 0.05
          },
          "xaxis": {
           "automargin": true,
           "gridcolor": "white",
           "linecolor": "white",
           "ticks": "",
           "title": {
            "standoff": 15
           },
           "zerolinecolor": "white",
           "zerolinewidth": 2
          },
          "yaxis": {
           "automargin": true,
           "gridcolor": "white",
           "linecolor": "white",
           "ticks": "",
           "title": {
            "standoff": 15
           },
           "zerolinecolor": "white",
           "zerolinewidth": 2
          }
         }
        },
        "xaxis": {
         "anchor": "y",
         "domain": [
          0,
          1
         ],
         "title": {
          "text": "index"
         }
        },
        "yaxis": {
         "anchor": "x",
         "domain": [
          0,
          1
         ],
         "title": {
          "text": "value"
         }
        }
       }
      },
      "text/html": [
       "<div>                            <div id=\"04bab084-60b1-4eff-93cb-0fd824784e90\" class=\"plotly-graph-div\" style=\"height:525px; width:100%;\"></div>            <script type=\"text/javascript\">                require([\"plotly\"], function(Plotly) {                    window.PLOTLYENV=window.PLOTLYENV || {};                                    if (document.getElementById(\"04bab084-60b1-4eff-93cb-0fd824784e90\")) {                    Plotly.newPlot(                        \"04bab084-60b1-4eff-93cb-0fd824784e90\",                        [{\"hovertemplate\": \"variable=0<br>index=%{x}<br>value=%{y}<extra></extra>\", \"legendgroup\": \"0\", \"line\": {\"color\": \"#636efa\", \"dash\": \"solid\"}, \"mode\": \"lines\", \"name\": \"0\", \"orientation\": \"v\", \"showlegend\": true, \"type\": \"scatter\", \"x\": [0, 1, 2, 3, 4, 5, 6, 7, 8, 9, 10, 11, 12, 13, 14, 15, 16, 17, 18, 19, 20, 21, 22, 23, 24, 25, 26, 27, 28, 29, 30, 31, 32, 33, 34, 35], \"xaxis\": \"x\", \"y\": [3.0, 5.0, 4.0, 6.5, 8.0, 5.0, 4.5, 2.0, 4.0, 3.0, 5.0, 4.0, 6.5, 8.0, 5.0, 4.5, 2.0, 4.0, 3.0, 5.0, 4.0, 6.5, 8.0, 5.0, 4.5, 2.0, 4.0, 3.0, 5.0, 4.0, 6.5, 8.0, 5.0, 4.5, 2.0, 4.0], \"yaxis\": \"y\"}],                        {\"legend\": {\"title\": {\"text\": \"variable\"}, \"tracegroupgap\": 0}, \"margin\": {\"t\": 60}, \"template\": {\"data\": {\"bar\": [{\"error_x\": {\"color\": \"#2a3f5f\"}, \"error_y\": {\"color\": \"#2a3f5f\"}, \"marker\": {\"line\": {\"color\": \"#E5ECF6\", \"width\": 0.5}}, \"type\": \"bar\"}], \"barpolar\": [{\"marker\": {\"line\": {\"color\": \"#E5ECF6\", \"width\": 0.5}}, \"type\": \"barpolar\"}], \"carpet\": [{\"aaxis\": {\"endlinecolor\": \"#2a3f5f\", \"gridcolor\": \"white\", \"linecolor\": \"white\", \"minorgridcolor\": \"white\", \"startlinecolor\": \"#2a3f5f\"}, \"baxis\": {\"endlinecolor\": \"#2a3f5f\", \"gridcolor\": \"white\", \"linecolor\": \"white\", \"minorgridcolor\": \"white\", \"startlinecolor\": \"#2a3f5f\"}, \"type\": \"carpet\"}], \"choropleth\": [{\"colorbar\": {\"outlinewidth\": 0, \"ticks\": \"\"}, \"type\": \"choropleth\"}], \"contour\": [{\"colorbar\": {\"outlinewidth\": 0, \"ticks\": \"\"}, \"colorscale\": [[0.0, \"#0d0887\"], [0.1111111111111111, \"#46039f\"], [0.2222222222222222, \"#7201a8\"], [0.3333333333333333, \"#9c179e\"], [0.4444444444444444, \"#bd3786\"], [0.5555555555555556, \"#d8576b\"], [0.6666666666666666, \"#ed7953\"], [0.7777777777777778, \"#fb9f3a\"], [0.8888888888888888, \"#fdca26\"], [1.0, \"#f0f921\"]], \"type\": \"contour\"}], \"contourcarpet\": [{\"colorbar\": {\"outlinewidth\": 0, \"ticks\": \"\"}, \"type\": \"contourcarpet\"}], \"heatmap\": [{\"colorbar\": {\"outlinewidth\": 0, \"ticks\": \"\"}, \"colorscale\": [[0.0, \"#0d0887\"], [0.1111111111111111, \"#46039f\"], [0.2222222222222222, \"#7201a8\"], [0.3333333333333333, \"#9c179e\"], [0.4444444444444444, \"#bd3786\"], [0.5555555555555556, \"#d8576b\"], [0.6666666666666666, \"#ed7953\"], [0.7777777777777778, \"#fb9f3a\"], [0.8888888888888888, \"#fdca26\"], [1.0, \"#f0f921\"]], \"type\": \"heatmap\"}], \"heatmapgl\": [{\"colorbar\": {\"outlinewidth\": 0, \"ticks\": \"\"}, \"colorscale\": [[0.0, \"#0d0887\"], [0.1111111111111111, \"#46039f\"], [0.2222222222222222, \"#7201a8\"], [0.3333333333333333, \"#9c179e\"], [0.4444444444444444, \"#bd3786\"], [0.5555555555555556, \"#d8576b\"], [0.6666666666666666, \"#ed7953\"], [0.7777777777777778, \"#fb9f3a\"], [0.8888888888888888, \"#fdca26\"], [1.0, \"#f0f921\"]], \"type\": \"heatmapgl\"}], \"histogram\": [{\"marker\": {\"colorbar\": {\"outlinewidth\": 0, \"ticks\": \"\"}}, \"type\": \"histogram\"}], \"histogram2d\": [{\"colorbar\": {\"outlinewidth\": 0, \"ticks\": \"\"}, \"colorscale\": [[0.0, \"#0d0887\"], [0.1111111111111111, \"#46039f\"], [0.2222222222222222, \"#7201a8\"], [0.3333333333333333, \"#9c179e\"], [0.4444444444444444, \"#bd3786\"], [0.5555555555555556, \"#d8576b\"], [0.6666666666666666, \"#ed7953\"], [0.7777777777777778, \"#fb9f3a\"], [0.8888888888888888, \"#fdca26\"], [1.0, \"#f0f921\"]], \"type\": \"histogram2d\"}], \"histogram2dcontour\": [{\"colorbar\": {\"outlinewidth\": 0, \"ticks\": \"\"}, \"colorscale\": [[0.0, \"#0d0887\"], [0.1111111111111111, \"#46039f\"], [0.2222222222222222, \"#7201a8\"], [0.3333333333333333, \"#9c179e\"], [0.4444444444444444, \"#bd3786\"], [0.5555555555555556, \"#d8576b\"], [0.6666666666666666, \"#ed7953\"], [0.7777777777777778, \"#fb9f3a\"], [0.8888888888888888, \"#fdca26\"], [1.0, \"#f0f921\"]], \"type\": \"histogram2dcontour\"}], \"mesh3d\": [{\"colorbar\": {\"outlinewidth\": 0, \"ticks\": \"\"}, \"type\": \"mesh3d\"}], \"parcoords\": [{\"line\": {\"colorbar\": {\"outlinewidth\": 0, \"ticks\": \"\"}}, \"type\": \"parcoords\"}], \"pie\": [{\"automargin\": true, \"type\": \"pie\"}], \"scatter\": [{\"marker\": {\"colorbar\": {\"outlinewidth\": 0, \"ticks\": \"\"}}, \"type\": \"scatter\"}], \"scatter3d\": [{\"line\": {\"colorbar\": {\"outlinewidth\": 0, \"ticks\": \"\"}}, \"marker\": {\"colorbar\": {\"outlinewidth\": 0, \"ticks\": \"\"}}, \"type\": \"scatter3d\"}], \"scattercarpet\": [{\"marker\": {\"colorbar\": {\"outlinewidth\": 0, \"ticks\": \"\"}}, \"type\": \"scattercarpet\"}], \"scattergeo\": [{\"marker\": {\"colorbar\": {\"outlinewidth\": 0, \"ticks\": \"\"}}, \"type\": \"scattergeo\"}], \"scattergl\": [{\"marker\": {\"colorbar\": {\"outlinewidth\": 0, \"ticks\": \"\"}}, \"type\": \"scattergl\"}], \"scattermapbox\": [{\"marker\": {\"colorbar\": {\"outlinewidth\": 0, \"ticks\": \"\"}}, \"type\": \"scattermapbox\"}], \"scatterpolar\": [{\"marker\": {\"colorbar\": {\"outlinewidth\": 0, \"ticks\": \"\"}}, \"type\": \"scatterpolar\"}], \"scatterpolargl\": [{\"marker\": {\"colorbar\": {\"outlinewidth\": 0, \"ticks\": \"\"}}, \"type\": \"scatterpolargl\"}], \"scatterternary\": [{\"marker\": {\"colorbar\": {\"outlinewidth\": 0, \"ticks\": \"\"}}, \"type\": \"scatterternary\"}], \"surface\": [{\"colorbar\": {\"outlinewidth\": 0, \"ticks\": \"\"}, \"colorscale\": [[0.0, \"#0d0887\"], [0.1111111111111111, \"#46039f\"], [0.2222222222222222, \"#7201a8\"], [0.3333333333333333, \"#9c179e\"], [0.4444444444444444, \"#bd3786\"], [0.5555555555555556, \"#d8576b\"], [0.6666666666666666, \"#ed7953\"], [0.7777777777777778, \"#fb9f3a\"], [0.8888888888888888, \"#fdca26\"], [1.0, \"#f0f921\"]], \"type\": \"surface\"}], \"table\": [{\"cells\": {\"fill\": {\"color\": \"#EBF0F8\"}, \"line\": {\"color\": \"white\"}}, \"header\": {\"fill\": {\"color\": \"#C8D4E3\"}, \"line\": {\"color\": \"white\"}}, \"type\": \"table\"}]}, \"layout\": {\"annotationdefaults\": {\"arrowcolor\": \"#2a3f5f\", \"arrowhead\": 0, \"arrowwidth\": 1}, \"autotypenumbers\": \"strict\", \"coloraxis\": {\"colorbar\": {\"outlinewidth\": 0, \"ticks\": \"\"}}, \"colorscale\": {\"diverging\": [[0, \"#8e0152\"], [0.1, \"#c51b7d\"], [0.2, \"#de77ae\"], [0.3, \"#f1b6da\"], [0.4, \"#fde0ef\"], [0.5, \"#f7f7f7\"], [0.6, \"#e6f5d0\"], [0.7, \"#b8e186\"], [0.8, \"#7fbc41\"], [0.9, \"#4d9221\"], [1, \"#276419\"]], \"sequential\": [[0.0, \"#0d0887\"], [0.1111111111111111, \"#46039f\"], [0.2222222222222222, \"#7201a8\"], [0.3333333333333333, \"#9c179e\"], [0.4444444444444444, \"#bd3786\"], [0.5555555555555556, \"#d8576b\"], [0.6666666666666666, \"#ed7953\"], [0.7777777777777778, \"#fb9f3a\"], [0.8888888888888888, \"#fdca26\"], [1.0, \"#f0f921\"]], \"sequentialminus\": [[0.0, \"#0d0887\"], [0.1111111111111111, \"#46039f\"], [0.2222222222222222, \"#7201a8\"], [0.3333333333333333, \"#9c179e\"], [0.4444444444444444, \"#bd3786\"], [0.5555555555555556, \"#d8576b\"], [0.6666666666666666, \"#ed7953\"], [0.7777777777777778, \"#fb9f3a\"], [0.8888888888888888, \"#fdca26\"], [1.0, \"#f0f921\"]]}, \"colorway\": [\"#636efa\", \"#EF553B\", \"#00cc96\", \"#ab63fa\", \"#FFA15A\", \"#19d3f3\", \"#FF6692\", \"#B6E880\", \"#FF97FF\", \"#FECB52\"], \"font\": {\"color\": \"#2a3f5f\"}, \"geo\": {\"bgcolor\": \"white\", \"lakecolor\": \"white\", \"landcolor\": \"#E5ECF6\", \"showlakes\": true, \"showland\": true, \"subunitcolor\": \"white\"}, \"hoverlabel\": {\"align\": \"left\"}, \"hovermode\": \"closest\", \"mapbox\": {\"style\": \"light\"}, \"paper_bgcolor\": \"white\", \"plot_bgcolor\": \"#E5ECF6\", \"polar\": {\"angularaxis\": {\"gridcolor\": \"white\", \"linecolor\": \"white\", \"ticks\": \"\"}, \"bgcolor\": \"#E5ECF6\", \"radialaxis\": {\"gridcolor\": \"white\", \"linecolor\": \"white\", \"ticks\": \"\"}}, \"scene\": {\"xaxis\": {\"backgroundcolor\": \"#E5ECF6\", \"gridcolor\": \"white\", \"gridwidth\": 2, \"linecolor\": \"white\", \"showbackground\": true, \"ticks\": \"\", \"zerolinecolor\": \"white\"}, \"yaxis\": {\"backgroundcolor\": \"#E5ECF6\", \"gridcolor\": \"white\", \"gridwidth\": 2, \"linecolor\": \"white\", \"showbackground\": true, \"ticks\": \"\", \"zerolinecolor\": \"white\"}, \"zaxis\": {\"backgroundcolor\": \"#E5ECF6\", \"gridcolor\": \"white\", \"gridwidth\": 2, \"linecolor\": \"white\", \"showbackground\": true, \"ticks\": \"\", \"zerolinecolor\": \"white\"}}, \"shapedefaults\": {\"line\": {\"color\": \"#2a3f5f\"}}, \"ternary\": {\"aaxis\": {\"gridcolor\": \"white\", \"linecolor\": \"white\", \"ticks\": \"\"}, \"baxis\": {\"gridcolor\": \"white\", \"linecolor\": \"white\", \"ticks\": \"\"}, \"bgcolor\": \"#E5ECF6\", \"caxis\": {\"gridcolor\": \"white\", \"linecolor\": \"white\", \"ticks\": \"\"}}, \"title\": {\"x\": 0.05}, \"xaxis\": {\"automargin\": true, \"gridcolor\": \"white\", \"linecolor\": \"white\", \"ticks\": \"\", \"title\": {\"standoff\": 15}, \"zerolinecolor\": \"white\", \"zerolinewidth\": 2}, \"yaxis\": {\"automargin\": true, \"gridcolor\": \"white\", \"linecolor\": \"white\", \"ticks\": \"\", \"title\": {\"standoff\": 15}, \"zerolinecolor\": \"white\", \"zerolinewidth\": 2}}}, \"xaxis\": {\"anchor\": \"y\", \"domain\": [0.0, 1.0], \"title\": {\"text\": \"index\"}}, \"yaxis\": {\"anchor\": \"x\", \"domain\": [0.0, 1.0], \"title\": {\"text\": \"value\"}}},                        {\"responsive\": true}                    ).then(function(){\n",
       "                            \n",
       "var gd = document.getElementById('04bab084-60b1-4eff-93cb-0fd824784e90');\n",
       "var x = new MutationObserver(function (mutations, observer) {{\n",
       "        var display = window.getComputedStyle(gd).display;\n",
       "        if (!display || display === 'none') {{\n",
       "            console.log([gd, 'removed!']);\n",
       "            Plotly.purge(gd);\n",
       "            observer.disconnect();\n",
       "        }}\n",
       "}});\n",
       "\n",
       "// Listen for the removal of the full notebook cells\n",
       "var notebookContainer = gd.closest('#notebook-container');\n",
       "if (notebookContainer) {{\n",
       "    x.observe(notebookContainer, {childList: true});\n",
       "}}\n",
       "\n",
       "// Listen for the clearing of the current output cell\n",
       "var outputEl = gd.closest('.output');\n",
       "if (outputEl) {{\n",
       "    x.observe(outputEl, {childList: true});\n",
       "}}\n",
       "\n",
       "                        })                };                });            </script>        </div>"
      ]
     },
     "metadata": {},
     "output_type": "display_data"
    }
   ],
   "source": [
    "l = [3, 5, 4, 6.5, 8, 5, 4.5, 2, 4] * 4\n",
    "px.line(l)"
   ]
  },
  {
   "cell_type": "code",
   "execution_count": 24,
   "metadata": {
    "scrolled": true
   },
   "outputs": [
    {
     "data": {
      "application/vnd.plotly.v1+json": {
       "config": {
        "plotlyServerURL": "https://plot.ly"
       },
       "data": [
        {
         "hovertemplate": "variable=0<br>index=%{x}<br>value=%{y}<extra></extra>",
         "legendgroup": "0",
         "line": {
          "color": "#636efa",
          "dash": "solid"
         },
         "mode": "lines",
         "name": "0",
         "orientation": "v",
         "showlegend": true,
         "type": "scatter",
         "x": [
          0,
          1,
          2,
          3,
          4,
          5,
          6,
          7,
          8,
          9,
          10,
          11,
          12,
          13,
          14,
          15,
          16,
          17,
          18,
          19,
          20,
          21,
          22,
          23,
          24,
          25,
          26,
          27,
          28,
          29,
          30,
          31,
          32,
          33,
          34,
          35
         ],
         "xaxis": "x",
         "y": [
          0.9790336411975055,
          1.8688924593747702,
          3.559176750946532,
          6.167565356177915,
          2.840655482592168,
          2.0899462811462675,
          4.336287210147997,
          1.2364455139205,
          0.3534611277595743,
          0.29536893563530053,
          4.852462554937104,
          3.44595399215426,
          1.3095581091796835,
          6.35192630939057,
          3.156863803780243,
          1.169014933307476,
          1.841834438868242,
          3.4251787941999794,
          2.350126378822498,
          1.9721728544340833,
          1.264577083583045,
          4.029769195475457,
          2.7824560930881903,
          1.940326915265338,
          2.335523030194357,
          1.4440719557482653,
          2.1366004650461683,
          1.4791445287390341,
          1.1042333734662724,
          1.1288772351067764,
          1.4126027759348088,
          3.2004056793488793,
          0.07259914503795983,
          1.5377735348319115,
          1.2254657918293026,
          0.05638766491511982
         ],
         "yaxis": "y"
        },
        {
         "hovertemplate": "variable=1<br>index=%{x}<br>value=%{y}<extra></extra>",
         "legendgroup": "1",
         "line": {
          "color": "#EF553B",
          "dash": "solid"
         },
         "mode": "lines",
         "name": "1",
         "orientation": "v",
         "showlegend": true,
         "type": "scatter",
         "x": [
          0,
          1,
          2,
          3,
          4,
          5,
          6,
          7,
          8,
          9,
          10,
          11,
          12,
          13,
          14,
          15,
          16,
          17,
          18,
          19,
          20,
          21,
          22,
          23,
          24,
          25,
          26,
          27,
          28,
          29,
          30,
          31,
          32,
          33,
          34,
          35
         ],
         "xaxis": "x",
         "y": [
          0.1771057429430426,
          2.714093732303179,
          1.6671890140658734,
          6.201197193503089,
          5.565302554906374,
          2.9985901694847916,
          2.298290299174703,
          0.2538299824899495,
          2.5522633659852745,
          2.4167811521633373,
          3.0448917259534873,
          3.2006319005382853,
          4.392905458073886,
          0.7861725897032539,
          1.3364427567998778,
          0.7494414003725526,
          1.493598561979833,
          1.1921883745774422,
          0.07885203213423653,
          1.5760897599300605,
          0.6531675300322908,
          4.950273612005731,
          1.9024362420015244,
          2.4792336787668043,
          3.2901007113873755,
          1.0000594768153857,
          2.619545052505805,
          2.637658888631902,
          2.297665449274193,
          0.2126660934960336,
          3.4745710751498833,
          2.1741269185144994,
          1.5197770189139936,
          1.5774732856358156,
          1.869533080020803,
          0.5519547028820218
         ],
         "yaxis": "y"
        },
        {
         "hovertemplate": "variable=2<br>index=%{x}<br>value=%{y}<extra></extra>",
         "legendgroup": "2",
         "line": {
          "color": "#00cc96",
          "dash": "solid"
         },
         "mode": "lines",
         "name": "2",
         "orientation": "v",
         "showlegend": true,
         "type": "scatter",
         "x": [
          0,
          1,
          2,
          3,
          4,
          5,
          6,
          7,
          8,
          9,
          10,
          11,
          12,
          13,
          14,
          15,
          16,
          17,
          18,
          19,
          20,
          21,
          22,
          23,
          24,
          25,
          26,
          27,
          28,
          29,
          30,
          31,
          32,
          33,
          34,
          35
         ],
         "xaxis": "x",
         "y": [
          2.6025046325997816,
          3.7690100056442155,
          2.343594999116156,
          3.4476596816696876,
          0.02246463971304813,
          0.08645128358402088,
          2.711731896790628,
          1.7105885582999527,
          0.6877868619564875,
          0.7038360309446247,
          3.285930917746944,
          1.8669608576643983,
          1.0151135149823165,
          6.457165422377514,
          1.1086535049740882,
          0.3757305068946367,
          0.7358352775666164,
          2.911708446282806,
          2.905587315277571,
          2.388052401556045,
          3.6342016862861493,
          1.395511635330886,
          4.632181694365737,
          2.723879220606494,
          0.5071553608193485,
          0.5106590811862894,
          3.0520954533279956,
          0.5004168281757168,
          3.395292965738619,
          0.5233556771311143,
          5.2874946349235215,
          2.151793396583031,
          0.900342324107159,
          1.7500451041443332,
          1.7590140063015884,
          3.7197878625741705
         ],
         "yaxis": "y"
        },
        {
         "hovertemplate": "variable=3<br>index=%{x}<br>value=%{y}<extra></extra>",
         "legendgroup": "3",
         "line": {
          "color": "#ab63fa",
          "dash": "solid"
         },
         "mode": "lines",
         "name": "3",
         "orientation": "v",
         "showlegend": true,
         "type": "scatter",
         "x": [
          0,
          1,
          2,
          3,
          4,
          5,
          6,
          7,
          8,
          9,
          10,
          11,
          12,
          13,
          14,
          15,
          16,
          17,
          18,
          19,
          20,
          21,
          22,
          23,
          24,
          25,
          26,
          27,
          28,
          29,
          30,
          31,
          32,
          33,
          34,
          35
         ],
         "xaxis": "x",
         "y": [
          0.36936632173904926,
          4.9369736064956635,
          0.43754746467714467,
          4.649679986159109,
          4.303552244490191,
          4.275972474458856,
          4.134106960889607,
          1.728031593468491,
          3.9445599522630896,
          0.4651635254895711,
          2.0470031574227887,
          3.9603074401165053,
          3.00143137924458,
          3.641233221376563,
          0.08356943179687659,
          0.4267736504374524,
          1.402372227724119,
          3.961911396720834,
          1.7750552034859775,
          4.77293259637153,
          1.9841671504661949,
          3.163987930844327,
          3.3682841790583646,
          4.104919949036587,
          1.6600570164189064,
          1.1257880778247946,
          3.740379807872293,
          2.975590974800696,
          1.1826289606234348,
          2.848119424999067,
          1.7119130789665005,
          2.1228764931554727,
          3.1069849472359445,
          1.928442332064655,
          1.007227121634858,
          1.734861539546681
         ],
         "yaxis": "y"
        },
        {
         "hovertemplate": "variable=4<br>index=%{x}<br>value=%{y}<extra></extra>",
         "legendgroup": "4",
         "line": {
          "color": "#FFA15A",
          "dash": "solid"
         },
         "mode": "lines",
         "name": "4",
         "orientation": "v",
         "showlegend": true,
         "type": "scatter",
         "x": [
          0,
          1,
          2,
          3,
          4,
          5,
          6,
          7,
          8,
          9,
          10,
          11,
          12,
          13,
          14,
          15,
          16,
          17,
          18,
          19,
          20,
          21,
          22,
          23,
          24,
          25,
          26,
          27,
          28,
          29,
          30,
          31,
          32,
          33,
          34,
          35
         ],
         "xaxis": "x",
         "y": [
          1.7870275721818158,
          1.6144665435791772,
          3.9114907707016617,
          4.486306313046965,
          4.79195455632281,
          1.695249243487647,
          2.075010993403381,
          0.5663479079764089,
          3.055461934817555,
          2.947527864202636,
          4.293171373953163,
          3.392992447896644,
          3.9592080843343305,
          2.6476948640356355,
          3.8017730755102876,
          1.1510723750294232,
          1.7962890018122784,
          3.1829035915003776,
          0.9692500076112888,
          2.4453513409604444,
          1.0481439990765042,
          5.338746803174597,
          4.3385724957552645,
          1.774731691081746,
          1.8336271745635377,
          0.04005017896275587,
          2.66691185177597,
          2.245881115042973,
          2.4352516200482137,
          1.8604968986230297,
          0.8537432072161703,
          7.963057957587938,
          3.7000619113614963,
          4.269983404298192,
          0.7760832206501096,
          0.4269991687438184
         ],
         "yaxis": "y"
        },
        {
         "hovertemplate": "variable=5<br>index=%{x}<br>value=%{y}<extra></extra>",
         "legendgroup": "5",
         "line": {
          "color": "#19d3f3",
          "dash": "solid"
         },
         "mode": "lines",
         "name": "5",
         "orientation": "v",
         "showlegend": true,
         "type": "scatter",
         "x": [
          0,
          1,
          2,
          3,
          4,
          5,
          6,
          7,
          8,
          9,
          10,
          11,
          12,
          13,
          14,
          15,
          16,
          17,
          18,
          19,
          20,
          21,
          22,
          23,
          24,
          25,
          26,
          27,
          28,
          29,
          30,
          31,
          32,
          33,
          34,
          35
         ],
         "xaxis": "x",
         "y": [
          0.5601089991119349,
          0.7597653613225819,
          1.6144691790303196,
          6.391016786419404,
          5.0793723275238145,
          2.141140132180796,
          4.403374823624668,
          0.11088921727857204,
          0.9802324127403517,
          1.9993198845448572,
          1.8757693341232673,
          3.9827721085018406,
          1.7949268935716005,
          0.3002795733448682,
          4.929483363377271,
          1.4624952848531942,
          0.7106661636790459,
          0.878855070619287,
          1.237435679194404,
          1.0587858597500799,
          0.16268302294388892,
          1.0566836874509362,
          7.128412894742327,
          4.351656692316576,
          3.4171749030734198,
          1.065829644436986,
          3.837090542947342,
          1.7614097823104777,
          1.0801153324290058,
          1.1619183057280837,
          3.6999947454135946,
          3.077358203278747,
          0.6239199599732898,
          4.2230362235739465,
          1.4734925641576746,
          3.642715388059006
         ],
         "yaxis": "y"
        },
        {
         "hovertemplate": "variable=6<br>index=%{x}<br>value=%{y}<extra></extra>",
         "legendgroup": "6",
         "line": {
          "color": "#FF6692",
          "dash": "solid"
         },
         "mode": "lines",
         "name": "6",
         "orientation": "v",
         "showlegend": true,
         "type": "scatter",
         "x": [
          0,
          1,
          2,
          3,
          4,
          5,
          6,
          7,
          8,
          9,
          10,
          11,
          12,
          13,
          14,
          15,
          16,
          17,
          18,
          19,
          20,
          21,
          22,
          23,
          24,
          25,
          26,
          27,
          28,
          29,
          30,
          31,
          32,
          33,
          34,
          35
         ],
         "xaxis": "x",
         "y": [
          1.7569121031766062,
          2.36247609142425,
          0.5589756940117265,
          2.6461512497942072,
          2.67883307592514,
          3.3694033909219816,
          0.9457912406924094,
          0.41246535105036486,
          3.807110293365056,
          2.372230117966969,
          0.828120495778224,
          0.3316846439599659,
          4.121747360287318,
          2.27924880542934,
          4.1574475559333415,
          4.055427920523501,
          0.057126888562518685,
          2.745201458121203,
          1.9192658886959637,
          1.763142142949206,
          1.1967558950424317,
          2.6680977027175334,
          1.4482505792690734,
          1.3687478330759633,
          1.9194463880137427,
          0.7539324046554563,
          2.4642144109548054,
          1.4476097052702204,
          0.46556431927685216,
          3.097481469644378,
          1.7818992815334183,
          5.118806538442685,
          2.8934016770723288,
          0.1632757307698981,
          1.5805172411439057,
          0.7612404482877717
         ],
         "yaxis": "y"
        },
        {
         "hovertemplate": "variable=7<br>index=%{x}<br>value=%{y}<extra></extra>",
         "legendgroup": "7",
         "line": {
          "color": "#B6E880",
          "dash": "solid"
         },
         "mode": "lines",
         "name": "7",
         "orientation": "v",
         "showlegend": true,
         "type": "scatter",
         "x": [
          0,
          1,
          2,
          3,
          4,
          5,
          6,
          7,
          8,
          9,
          10,
          11,
          12,
          13,
          14,
          15,
          16,
          17,
          18,
          19,
          20,
          21,
          22,
          23,
          24,
          25,
          26,
          27,
          28,
          29,
          30,
          31,
          32,
          33,
          34,
          35
         ],
         "xaxis": "x",
         "y": [
          0.07343396429782245,
          2.2329080459909223,
          2.8537709266651876,
          5.447859952769914,
          5.674661117157345,
          1.1546077135514865,
          1.1778880001821435,
          1.0686319381578893,
          0.8483681366535194,
          1.6546185142815233,
          3.1679927084675796,
          2.6924838084580442,
          0.06989080786745966,
          7.436203811903697,
          4.352405230885294,
          2.1896478890008964,
          0.9761804339529188,
          1.4208470957347914,
          2.1937465292022464,
          3.88493178405795,
          3.352943444751062,
          0.2934202455104016,
          7.481789739859342,
          4.902070839433727,
          1.8163345199914993,
          0.11113189493073894,
          3.5017244801281304,
          0.8547163706324221,
          4.554814241099671,
          0.17571463136767385,
          3.988020190158749,
          7.616857782464963,
          2.768133146001448,
          4.263942002579521,
          1.7062275064118042,
          2.738708945703788
         ],
         "yaxis": "y"
        },
        {
         "hovertemplate": "variable=8<br>index=%{x}<br>value=%{y}<extra></extra>",
         "legendgroup": "8",
         "line": {
          "color": "#FF97FF",
          "dash": "solid"
         },
         "mode": "lines",
         "name": "8",
         "orientation": "v",
         "showlegend": true,
         "type": "scatter",
         "x": [
          0,
          1,
          2,
          3,
          4,
          5,
          6,
          7,
          8,
          9,
          10,
          11,
          12,
          13,
          14,
          15,
          16,
          17,
          18,
          19,
          20,
          21,
          22,
          23,
          24,
          25,
          26,
          27,
          28,
          29,
          30,
          31,
          32,
          33,
          34,
          35
         ],
         "xaxis": "x",
         "y": [
          1.2240027982966586,
          0.3218512327252193,
          1.4418785186040468,
          2.1176113473247797,
          6.694046804037523,
          1.866466963365336,
          3.4542864146332777,
          1.4460305022834112,
          2.49963085343929,
          0.457959282967352,
          4.696505218846317,
          0.19760273388687555,
          3.283955179044565,
          5.892416842350019,
          0.17902098934895083,
          2.6253687813108977,
          1.917312570516099,
          2.41188038873351,
          2.414219302457372,
          2.71042213912627,
          0.3898894892670195,
          1.4739703364111545,
          5.307283236338676,
          2.8534862153927727,
          3.6777765725367995,
          1.724551605661681,
          1.933065373795086,
          1.5682275003154378,
          0.6196187576258649,
          3.24142125574851,
          3.179508755803193,
          2.0258051833147253,
          0.9283750478405384,
          2.2869155971979667,
          1.4490671175794545,
          0.09359699071744121
         ],
         "yaxis": "y"
        },
        {
         "hovertemplate": "variable=9<br>index=%{x}<br>value=%{y}<extra></extra>",
         "legendgroup": "9",
         "line": {
          "color": "#FECB52",
          "dash": "solid"
         },
         "mode": "lines",
         "name": "9",
         "orientation": "v",
         "showlegend": true,
         "type": "scatter",
         "x": [
          0,
          1,
          2,
          3,
          4,
          5,
          6,
          7,
          8,
          9,
          10,
          11,
          12,
          13,
          14,
          15,
          16,
          17,
          18,
          19,
          20,
          21,
          22,
          23,
          24,
          25,
          26,
          27,
          28,
          29,
          30,
          31,
          32,
          33,
          34,
          35
         ],
         "xaxis": "x",
         "y": [
          0.31734250822552057,
          0.39424018546383,
          0.831402672710527,
          1.1717342027577349,
          4.702993346688645,
          3.4374547186128934,
          2.0753824615609124,
          0.24681556372890023,
          0.516469649147437,
          1.7496953816123808,
          3.6208792737617985,
          2.9850564274795204,
          0.5555330193875061,
          1.4742814165100313,
          4.007889670492727,
          0.5492616352889419,
          0.4571966976108095,
          3.08609579306632,
          0.680248292764557,
          4.265501107586485,
          3.8271271193129963,
          0.6134173227928241,
          6.12165358486999,
          4.482965808674976,
          4.3048079064595655,
          0.005877761958261951,
          3.2200807568766665,
          0.4445160710178352,
          4.703590242519423,
          0.8259753445846139,
          5.451921251266704,
          3.744886767053176,
          2.8714386477521527,
          0.2262100572090931,
          1.409666243039212,
          2.5781724673075495
         ],
         "yaxis": "y"
        }
       ],
       "layout": {
        "legend": {
         "title": {
          "text": "variable"
         },
         "tracegroupgap": 0
        },
        "margin": {
         "t": 60
        },
        "template": {
         "data": {
          "bar": [
           {
            "error_x": {
             "color": "#2a3f5f"
            },
            "error_y": {
             "color": "#2a3f5f"
            },
            "marker": {
             "line": {
              "color": "#E5ECF6",
              "width": 0.5
             }
            },
            "type": "bar"
           }
          ],
          "barpolar": [
           {
            "marker": {
             "line": {
              "color": "#E5ECF6",
              "width": 0.5
             }
            },
            "type": "barpolar"
           }
          ],
          "carpet": [
           {
            "aaxis": {
             "endlinecolor": "#2a3f5f",
             "gridcolor": "white",
             "linecolor": "white",
             "minorgridcolor": "white",
             "startlinecolor": "#2a3f5f"
            },
            "baxis": {
             "endlinecolor": "#2a3f5f",
             "gridcolor": "white",
             "linecolor": "white",
             "minorgridcolor": "white",
             "startlinecolor": "#2a3f5f"
            },
            "type": "carpet"
           }
          ],
          "choropleth": [
           {
            "colorbar": {
             "outlinewidth": 0,
             "ticks": ""
            },
            "type": "choropleth"
           }
          ],
          "contour": [
           {
            "colorbar": {
             "outlinewidth": 0,
             "ticks": ""
            },
            "colorscale": [
             [
              0,
              "#0d0887"
             ],
             [
              0.1111111111111111,
              "#46039f"
             ],
             [
              0.2222222222222222,
              "#7201a8"
             ],
             [
              0.3333333333333333,
              "#9c179e"
             ],
             [
              0.4444444444444444,
              "#bd3786"
             ],
             [
              0.5555555555555556,
              "#d8576b"
             ],
             [
              0.6666666666666666,
              "#ed7953"
             ],
             [
              0.7777777777777778,
              "#fb9f3a"
             ],
             [
              0.8888888888888888,
              "#fdca26"
             ],
             [
              1,
              "#f0f921"
             ]
            ],
            "type": "contour"
           }
          ],
          "contourcarpet": [
           {
            "colorbar": {
             "outlinewidth": 0,
             "ticks": ""
            },
            "type": "contourcarpet"
           }
          ],
          "heatmap": [
           {
            "colorbar": {
             "outlinewidth": 0,
             "ticks": ""
            },
            "colorscale": [
             [
              0,
              "#0d0887"
             ],
             [
              0.1111111111111111,
              "#46039f"
             ],
             [
              0.2222222222222222,
              "#7201a8"
             ],
             [
              0.3333333333333333,
              "#9c179e"
             ],
             [
              0.4444444444444444,
              "#bd3786"
             ],
             [
              0.5555555555555556,
              "#d8576b"
             ],
             [
              0.6666666666666666,
              "#ed7953"
             ],
             [
              0.7777777777777778,
              "#fb9f3a"
             ],
             [
              0.8888888888888888,
              "#fdca26"
             ],
             [
              1,
              "#f0f921"
             ]
            ],
            "type": "heatmap"
           }
          ],
          "heatmapgl": [
           {
            "colorbar": {
             "outlinewidth": 0,
             "ticks": ""
            },
            "colorscale": [
             [
              0,
              "#0d0887"
             ],
             [
              0.1111111111111111,
              "#46039f"
             ],
             [
              0.2222222222222222,
              "#7201a8"
             ],
             [
              0.3333333333333333,
              "#9c179e"
             ],
             [
              0.4444444444444444,
              "#bd3786"
             ],
             [
              0.5555555555555556,
              "#d8576b"
             ],
             [
              0.6666666666666666,
              "#ed7953"
             ],
             [
              0.7777777777777778,
              "#fb9f3a"
             ],
             [
              0.8888888888888888,
              "#fdca26"
             ],
             [
              1,
              "#f0f921"
             ]
            ],
            "type": "heatmapgl"
           }
          ],
          "histogram": [
           {
            "marker": {
             "colorbar": {
              "outlinewidth": 0,
              "ticks": ""
             }
            },
            "type": "histogram"
           }
          ],
          "histogram2d": [
           {
            "colorbar": {
             "outlinewidth": 0,
             "ticks": ""
            },
            "colorscale": [
             [
              0,
              "#0d0887"
             ],
             [
              0.1111111111111111,
              "#46039f"
             ],
             [
              0.2222222222222222,
              "#7201a8"
             ],
             [
              0.3333333333333333,
              "#9c179e"
             ],
             [
              0.4444444444444444,
              "#bd3786"
             ],
             [
              0.5555555555555556,
              "#d8576b"
             ],
             [
              0.6666666666666666,
              "#ed7953"
             ],
             [
              0.7777777777777778,
              "#fb9f3a"
             ],
             [
              0.8888888888888888,
              "#fdca26"
             ],
             [
              1,
              "#f0f921"
             ]
            ],
            "type": "histogram2d"
           }
          ],
          "histogram2dcontour": [
           {
            "colorbar": {
             "outlinewidth": 0,
             "ticks": ""
            },
            "colorscale": [
             [
              0,
              "#0d0887"
             ],
             [
              0.1111111111111111,
              "#46039f"
             ],
             [
              0.2222222222222222,
              "#7201a8"
             ],
             [
              0.3333333333333333,
              "#9c179e"
             ],
             [
              0.4444444444444444,
              "#bd3786"
             ],
             [
              0.5555555555555556,
              "#d8576b"
             ],
             [
              0.6666666666666666,
              "#ed7953"
             ],
             [
              0.7777777777777778,
              "#fb9f3a"
             ],
             [
              0.8888888888888888,
              "#fdca26"
             ],
             [
              1,
              "#f0f921"
             ]
            ],
            "type": "histogram2dcontour"
           }
          ],
          "mesh3d": [
           {
            "colorbar": {
             "outlinewidth": 0,
             "ticks": ""
            },
            "type": "mesh3d"
           }
          ],
          "parcoords": [
           {
            "line": {
             "colorbar": {
              "outlinewidth": 0,
              "ticks": ""
             }
            },
            "type": "parcoords"
           }
          ],
          "pie": [
           {
            "automargin": true,
            "type": "pie"
           }
          ],
          "scatter": [
           {
            "marker": {
             "colorbar": {
              "outlinewidth": 0,
              "ticks": ""
             }
            },
            "type": "scatter"
           }
          ],
          "scatter3d": [
           {
            "line": {
             "colorbar": {
              "outlinewidth": 0,
              "ticks": ""
             }
            },
            "marker": {
             "colorbar": {
              "outlinewidth": 0,
              "ticks": ""
             }
            },
            "type": "scatter3d"
           }
          ],
          "scattercarpet": [
           {
            "marker": {
             "colorbar": {
              "outlinewidth": 0,
              "ticks": ""
             }
            },
            "type": "scattercarpet"
           }
          ],
          "scattergeo": [
           {
            "marker": {
             "colorbar": {
              "outlinewidth": 0,
              "ticks": ""
             }
            },
            "type": "scattergeo"
           }
          ],
          "scattergl": [
           {
            "marker": {
             "colorbar": {
              "outlinewidth": 0,
              "ticks": ""
             }
            },
            "type": "scattergl"
           }
          ],
          "scattermapbox": [
           {
            "marker": {
             "colorbar": {
              "outlinewidth": 0,
              "ticks": ""
             }
            },
            "type": "scattermapbox"
           }
          ],
          "scatterpolar": [
           {
            "marker": {
             "colorbar": {
              "outlinewidth": 0,
              "ticks": ""
             }
            },
            "type": "scatterpolar"
           }
          ],
          "scatterpolargl": [
           {
            "marker": {
             "colorbar": {
              "outlinewidth": 0,
              "ticks": ""
             }
            },
            "type": "scatterpolargl"
           }
          ],
          "scatterternary": [
           {
            "marker": {
             "colorbar": {
              "outlinewidth": 0,
              "ticks": ""
             }
            },
            "type": "scatterternary"
           }
          ],
          "surface": [
           {
            "colorbar": {
             "outlinewidth": 0,
             "ticks": ""
            },
            "colorscale": [
             [
              0,
              "#0d0887"
             ],
             [
              0.1111111111111111,
              "#46039f"
             ],
             [
              0.2222222222222222,
              "#7201a8"
             ],
             [
              0.3333333333333333,
              "#9c179e"
             ],
             [
              0.4444444444444444,
              "#bd3786"
             ],
             [
              0.5555555555555556,
              "#d8576b"
             ],
             [
              0.6666666666666666,
              "#ed7953"
             ],
             [
              0.7777777777777778,
              "#fb9f3a"
             ],
             [
              0.8888888888888888,
              "#fdca26"
             ],
             [
              1,
              "#f0f921"
             ]
            ],
            "type": "surface"
           }
          ],
          "table": [
           {
            "cells": {
             "fill": {
              "color": "#EBF0F8"
             },
             "line": {
              "color": "white"
             }
            },
            "header": {
             "fill": {
              "color": "#C8D4E3"
             },
             "line": {
              "color": "white"
             }
            },
            "type": "table"
           }
          ]
         },
         "layout": {
          "annotationdefaults": {
           "arrowcolor": "#2a3f5f",
           "arrowhead": 0,
           "arrowwidth": 1
          },
          "autotypenumbers": "strict",
          "coloraxis": {
           "colorbar": {
            "outlinewidth": 0,
            "ticks": ""
           }
          },
          "colorscale": {
           "diverging": [
            [
             0,
             "#8e0152"
            ],
            [
             0.1,
             "#c51b7d"
            ],
            [
             0.2,
             "#de77ae"
            ],
            [
             0.3,
             "#f1b6da"
            ],
            [
             0.4,
             "#fde0ef"
            ],
            [
             0.5,
             "#f7f7f7"
            ],
            [
             0.6,
             "#e6f5d0"
            ],
            [
             0.7,
             "#b8e186"
            ],
            [
             0.8,
             "#7fbc41"
            ],
            [
             0.9,
             "#4d9221"
            ],
            [
             1,
             "#276419"
            ]
           ],
           "sequential": [
            [
             0,
             "#0d0887"
            ],
            [
             0.1111111111111111,
             "#46039f"
            ],
            [
             0.2222222222222222,
             "#7201a8"
            ],
            [
             0.3333333333333333,
             "#9c179e"
            ],
            [
             0.4444444444444444,
             "#bd3786"
            ],
            [
             0.5555555555555556,
             "#d8576b"
            ],
            [
             0.6666666666666666,
             "#ed7953"
            ],
            [
             0.7777777777777778,
             "#fb9f3a"
            ],
            [
             0.8888888888888888,
             "#fdca26"
            ],
            [
             1,
             "#f0f921"
            ]
           ],
           "sequentialminus": [
            [
             0,
             "#0d0887"
            ],
            [
             0.1111111111111111,
             "#46039f"
            ],
            [
             0.2222222222222222,
             "#7201a8"
            ],
            [
             0.3333333333333333,
             "#9c179e"
            ],
            [
             0.4444444444444444,
             "#bd3786"
            ],
            [
             0.5555555555555556,
             "#d8576b"
            ],
            [
             0.6666666666666666,
             "#ed7953"
            ],
            [
             0.7777777777777778,
             "#fb9f3a"
            ],
            [
             0.8888888888888888,
             "#fdca26"
            ],
            [
             1,
             "#f0f921"
            ]
           ]
          },
          "colorway": [
           "#636efa",
           "#EF553B",
           "#00cc96",
           "#ab63fa",
           "#FFA15A",
           "#19d3f3",
           "#FF6692",
           "#B6E880",
           "#FF97FF",
           "#FECB52"
          ],
          "font": {
           "color": "#2a3f5f"
          },
          "geo": {
           "bgcolor": "white",
           "lakecolor": "white",
           "landcolor": "#E5ECF6",
           "showlakes": true,
           "showland": true,
           "subunitcolor": "white"
          },
          "hoverlabel": {
           "align": "left"
          },
          "hovermode": "closest",
          "mapbox": {
           "style": "light"
          },
          "paper_bgcolor": "white",
          "plot_bgcolor": "#E5ECF6",
          "polar": {
           "angularaxis": {
            "gridcolor": "white",
            "linecolor": "white",
            "ticks": ""
           },
           "bgcolor": "#E5ECF6",
           "radialaxis": {
            "gridcolor": "white",
            "linecolor": "white",
            "ticks": ""
           }
          },
          "scene": {
           "xaxis": {
            "backgroundcolor": "#E5ECF6",
            "gridcolor": "white",
            "gridwidth": 2,
            "linecolor": "white",
            "showbackground": true,
            "ticks": "",
            "zerolinecolor": "white"
           },
           "yaxis": {
            "backgroundcolor": "#E5ECF6",
            "gridcolor": "white",
            "gridwidth": 2,
            "linecolor": "white",
            "showbackground": true,
            "ticks": "",
            "zerolinecolor": "white"
           },
           "zaxis": {
            "backgroundcolor": "#E5ECF6",
            "gridcolor": "white",
            "gridwidth": 2,
            "linecolor": "white",
            "showbackground": true,
            "ticks": "",
            "zerolinecolor": "white"
           }
          },
          "shapedefaults": {
           "line": {
            "color": "#2a3f5f"
           }
          },
          "ternary": {
           "aaxis": {
            "gridcolor": "white",
            "linecolor": "white",
            "ticks": ""
           },
           "baxis": {
            "gridcolor": "white",
            "linecolor": "white",
            "ticks": ""
           },
           "bgcolor": "#E5ECF6",
           "caxis": {
            "gridcolor": "white",
            "linecolor": "white",
            "ticks": ""
           }
          },
          "title": {
           "x": 0.05
          },
          "xaxis": {
           "automargin": true,
           "gridcolor": "white",
           "linecolor": "white",
           "ticks": "",
           "title": {
            "standoff": 15
           },
           "zerolinecolor": "white",
           "zerolinewidth": 2
          },
          "yaxis": {
           "automargin": true,
           "gridcolor": "white",
           "linecolor": "white",
           "ticks": "",
           "title": {
            "standoff": 15
           },
           "zerolinecolor": "white",
           "zerolinewidth": 2
          }
         }
        },
        "xaxis": {
         "anchor": "y",
         "domain": [
          0,
          1
         ],
         "title": {
          "text": "index"
         }
        },
        "yaxis": {
         "anchor": "x",
         "domain": [
          0,
          1
         ],
         "title": {
          "text": "value"
         }
        }
       }
      },
      "text/html": [
       "<div>                            <div id=\"8f54864a-b547-4b8d-adf0-602b84f757d2\" class=\"plotly-graph-div\" style=\"height:525px; width:100%;\"></div>            <script type=\"text/javascript\">                require([\"plotly\"], function(Plotly) {                    window.PLOTLYENV=window.PLOTLYENV || {};                                    if (document.getElementById(\"8f54864a-b547-4b8d-adf0-602b84f757d2\")) {                    Plotly.newPlot(                        \"8f54864a-b547-4b8d-adf0-602b84f757d2\",                        [{\"hovertemplate\": \"variable=0<br>index=%{x}<br>value=%{y}<extra></extra>\", \"legendgroup\": \"0\", \"line\": {\"color\": \"#636efa\", \"dash\": \"solid\"}, \"mode\": \"lines\", \"name\": \"0\", \"orientation\": \"v\", \"showlegend\": true, \"type\": \"scatter\", \"x\": [0, 1, 2, 3, 4, 5, 6, 7, 8, 9, 10, 11, 12, 13, 14, 15, 16, 17, 18, 19, 20, 21, 22, 23, 24, 25, 26, 27, 28, 29, 30, 31, 32, 33, 34, 35], \"xaxis\": \"x\", \"y\": [0.9790336411975055, 1.8688924593747702, 3.559176750946532, 6.167565356177915, 2.840655482592168, 2.0899462811462675, 4.336287210147997, 1.2364455139205, 0.3534611277595743, 0.29536893563530053, 4.852462554937104, 3.44595399215426, 1.3095581091796835, 6.35192630939057, 3.156863803780243, 1.169014933307476, 1.841834438868242, 3.4251787941999794, 2.350126378822498, 1.9721728544340833, 1.264577083583045, 4.029769195475457, 2.7824560930881903, 1.940326915265338, 2.335523030194357, 1.4440719557482653, 2.1366004650461683, 1.4791445287390341, 1.1042333734662724, 1.1288772351067764, 1.4126027759348088, 3.2004056793488793, 0.07259914503795983, 1.5377735348319115, 1.2254657918293026, 0.05638766491511982], \"yaxis\": \"y\"}, {\"hovertemplate\": \"variable=1<br>index=%{x}<br>value=%{y}<extra></extra>\", \"legendgroup\": \"1\", \"line\": {\"color\": \"#EF553B\", \"dash\": \"solid\"}, \"mode\": \"lines\", \"name\": \"1\", \"orientation\": \"v\", \"showlegend\": true, \"type\": \"scatter\", \"x\": [0, 1, 2, 3, 4, 5, 6, 7, 8, 9, 10, 11, 12, 13, 14, 15, 16, 17, 18, 19, 20, 21, 22, 23, 24, 25, 26, 27, 28, 29, 30, 31, 32, 33, 34, 35], \"xaxis\": \"x\", \"y\": [0.1771057429430426, 2.714093732303179, 1.6671890140658734, 6.201197193503089, 5.565302554906374, 2.9985901694847916, 2.298290299174703, 0.2538299824899495, 2.5522633659852745, 2.4167811521633373, 3.0448917259534873, 3.2006319005382853, 4.392905458073886, 0.7861725897032539, 1.3364427567998778, 0.7494414003725526, 1.493598561979833, 1.1921883745774422, 0.07885203213423653, 1.5760897599300605, 0.6531675300322908, 4.950273612005731, 1.9024362420015244, 2.4792336787668043, 3.2901007113873755, 1.0000594768153857, 2.619545052505805, 2.637658888631902, 2.297665449274193, 0.2126660934960336, 3.4745710751498833, 2.1741269185144994, 1.5197770189139936, 1.5774732856358156, 1.869533080020803, 0.5519547028820218], \"yaxis\": \"y\"}, {\"hovertemplate\": \"variable=2<br>index=%{x}<br>value=%{y}<extra></extra>\", \"legendgroup\": \"2\", \"line\": {\"color\": \"#00cc96\", \"dash\": \"solid\"}, \"mode\": \"lines\", \"name\": \"2\", \"orientation\": \"v\", \"showlegend\": true, \"type\": \"scatter\", \"x\": [0, 1, 2, 3, 4, 5, 6, 7, 8, 9, 10, 11, 12, 13, 14, 15, 16, 17, 18, 19, 20, 21, 22, 23, 24, 25, 26, 27, 28, 29, 30, 31, 32, 33, 34, 35], \"xaxis\": \"x\", \"y\": [2.6025046325997816, 3.7690100056442155, 2.343594999116156, 3.4476596816696876, 0.02246463971304813, 0.08645128358402088, 2.711731896790628, 1.7105885582999527, 0.6877868619564875, 0.7038360309446247, 3.285930917746944, 1.8669608576643983, 1.0151135149823165, 6.457165422377514, 1.1086535049740882, 0.3757305068946367, 0.7358352775666164, 2.911708446282806, 2.905587315277571, 2.388052401556045, 3.6342016862861493, 1.395511635330886, 4.632181694365737, 2.723879220606494, 0.5071553608193485, 0.5106590811862894, 3.0520954533279956, 0.5004168281757168, 3.395292965738619, 0.5233556771311143, 5.2874946349235215, 2.151793396583031, 0.900342324107159, 1.7500451041443332, 1.7590140063015884, 3.7197878625741705], \"yaxis\": \"y\"}, {\"hovertemplate\": \"variable=3<br>index=%{x}<br>value=%{y}<extra></extra>\", \"legendgroup\": \"3\", \"line\": {\"color\": \"#ab63fa\", \"dash\": \"solid\"}, \"mode\": \"lines\", \"name\": \"3\", \"orientation\": \"v\", \"showlegend\": true, \"type\": \"scatter\", \"x\": [0, 1, 2, 3, 4, 5, 6, 7, 8, 9, 10, 11, 12, 13, 14, 15, 16, 17, 18, 19, 20, 21, 22, 23, 24, 25, 26, 27, 28, 29, 30, 31, 32, 33, 34, 35], \"xaxis\": \"x\", \"y\": [0.36936632173904926, 4.9369736064956635, 0.43754746467714467, 4.649679986159109, 4.303552244490191, 4.275972474458856, 4.134106960889607, 1.728031593468491, 3.9445599522630896, 0.4651635254895711, 2.0470031574227887, 3.9603074401165053, 3.00143137924458, 3.641233221376563, 0.08356943179687659, 0.4267736504374524, 1.402372227724119, 3.961911396720834, 1.7750552034859775, 4.77293259637153, 1.9841671504661949, 3.163987930844327, 3.3682841790583646, 4.104919949036587, 1.6600570164189064, 1.1257880778247946, 3.740379807872293, 2.975590974800696, 1.1826289606234348, 2.848119424999067, 1.7119130789665005, 2.1228764931554727, 3.1069849472359445, 1.928442332064655, 1.007227121634858, 1.734861539546681], \"yaxis\": \"y\"}, {\"hovertemplate\": \"variable=4<br>index=%{x}<br>value=%{y}<extra></extra>\", \"legendgroup\": \"4\", \"line\": {\"color\": \"#FFA15A\", \"dash\": \"solid\"}, \"mode\": \"lines\", \"name\": \"4\", \"orientation\": \"v\", \"showlegend\": true, \"type\": \"scatter\", \"x\": [0, 1, 2, 3, 4, 5, 6, 7, 8, 9, 10, 11, 12, 13, 14, 15, 16, 17, 18, 19, 20, 21, 22, 23, 24, 25, 26, 27, 28, 29, 30, 31, 32, 33, 34, 35], \"xaxis\": \"x\", \"y\": [1.7870275721818158, 1.6144665435791772, 3.9114907707016617, 4.486306313046965, 4.79195455632281, 1.695249243487647, 2.075010993403381, 0.5663479079764089, 3.055461934817555, 2.947527864202636, 4.293171373953163, 3.392992447896644, 3.9592080843343305, 2.6476948640356355, 3.8017730755102876, 1.1510723750294232, 1.7962890018122784, 3.1829035915003776, 0.9692500076112888, 2.4453513409604444, 1.0481439990765042, 5.338746803174597, 4.3385724957552645, 1.774731691081746, 1.8336271745635377, 0.04005017896275587, 2.66691185177597, 2.245881115042973, 2.4352516200482137, 1.8604968986230297, 0.8537432072161703, 7.963057957587938, 3.7000619113614963, 4.269983404298192, 0.7760832206501096, 0.4269991687438184], \"yaxis\": \"y\"}, {\"hovertemplate\": \"variable=5<br>index=%{x}<br>value=%{y}<extra></extra>\", \"legendgroup\": \"5\", \"line\": {\"color\": \"#19d3f3\", \"dash\": \"solid\"}, \"mode\": \"lines\", \"name\": \"5\", \"orientation\": \"v\", \"showlegend\": true, \"type\": \"scatter\", \"x\": [0, 1, 2, 3, 4, 5, 6, 7, 8, 9, 10, 11, 12, 13, 14, 15, 16, 17, 18, 19, 20, 21, 22, 23, 24, 25, 26, 27, 28, 29, 30, 31, 32, 33, 34, 35], \"xaxis\": \"x\", \"y\": [0.5601089991119349, 0.7597653613225819, 1.6144691790303196, 6.391016786419404, 5.0793723275238145, 2.141140132180796, 4.403374823624668, 0.11088921727857204, 0.9802324127403517, 1.9993198845448572, 1.8757693341232673, 3.9827721085018406, 1.7949268935716005, 0.3002795733448682, 4.929483363377271, 1.4624952848531942, 0.7106661636790459, 0.878855070619287, 1.237435679194404, 1.0587858597500799, 0.16268302294388892, 1.0566836874509362, 7.128412894742327, 4.351656692316576, 3.4171749030734198, 1.065829644436986, 3.837090542947342, 1.7614097823104777, 1.0801153324290058, 1.1619183057280837, 3.6999947454135946, 3.077358203278747, 0.6239199599732898, 4.2230362235739465, 1.4734925641576746, 3.642715388059006], \"yaxis\": \"y\"}, {\"hovertemplate\": \"variable=6<br>index=%{x}<br>value=%{y}<extra></extra>\", \"legendgroup\": \"6\", \"line\": {\"color\": \"#FF6692\", \"dash\": \"solid\"}, \"mode\": \"lines\", \"name\": \"6\", \"orientation\": \"v\", \"showlegend\": true, \"type\": \"scatter\", \"x\": [0, 1, 2, 3, 4, 5, 6, 7, 8, 9, 10, 11, 12, 13, 14, 15, 16, 17, 18, 19, 20, 21, 22, 23, 24, 25, 26, 27, 28, 29, 30, 31, 32, 33, 34, 35], \"xaxis\": \"x\", \"y\": [1.7569121031766062, 2.36247609142425, 0.5589756940117265, 2.6461512497942072, 2.67883307592514, 3.3694033909219816, 0.9457912406924094, 0.41246535105036486, 3.807110293365056, 2.372230117966969, 0.828120495778224, 0.3316846439599659, 4.121747360287318, 2.27924880542934, 4.1574475559333415, 4.055427920523501, 0.057126888562518685, 2.745201458121203, 1.9192658886959637, 1.763142142949206, 1.1967558950424317, 2.6680977027175334, 1.4482505792690734, 1.3687478330759633, 1.9194463880137427, 0.7539324046554563, 2.4642144109548054, 1.4476097052702204, 0.46556431927685216, 3.097481469644378, 1.7818992815334183, 5.118806538442685, 2.8934016770723288, 0.1632757307698981, 1.5805172411439057, 0.7612404482877717], \"yaxis\": \"y\"}, {\"hovertemplate\": \"variable=7<br>index=%{x}<br>value=%{y}<extra></extra>\", \"legendgroup\": \"7\", \"line\": {\"color\": \"#B6E880\", \"dash\": \"solid\"}, \"mode\": \"lines\", \"name\": \"7\", \"orientation\": \"v\", \"showlegend\": true, \"type\": \"scatter\", \"x\": [0, 1, 2, 3, 4, 5, 6, 7, 8, 9, 10, 11, 12, 13, 14, 15, 16, 17, 18, 19, 20, 21, 22, 23, 24, 25, 26, 27, 28, 29, 30, 31, 32, 33, 34, 35], \"xaxis\": \"x\", \"y\": [0.07343396429782245, 2.2329080459909223, 2.8537709266651876, 5.447859952769914, 5.674661117157345, 1.1546077135514865, 1.1778880001821435, 1.0686319381578893, 0.8483681366535194, 1.6546185142815233, 3.1679927084675796, 2.6924838084580442, 0.06989080786745966, 7.436203811903697, 4.352405230885294, 2.1896478890008964, 0.9761804339529188, 1.4208470957347914, 2.1937465292022464, 3.88493178405795, 3.352943444751062, 0.2934202455104016, 7.481789739859342, 4.902070839433727, 1.8163345199914993, 0.11113189493073894, 3.5017244801281304, 0.8547163706324221, 4.554814241099671, 0.17571463136767385, 3.988020190158749, 7.616857782464963, 2.768133146001448, 4.263942002579521, 1.7062275064118042, 2.738708945703788], \"yaxis\": \"y\"}, {\"hovertemplate\": \"variable=8<br>index=%{x}<br>value=%{y}<extra></extra>\", \"legendgroup\": \"8\", \"line\": {\"color\": \"#FF97FF\", \"dash\": \"solid\"}, \"mode\": \"lines\", \"name\": \"8\", \"orientation\": \"v\", \"showlegend\": true, \"type\": \"scatter\", \"x\": [0, 1, 2, 3, 4, 5, 6, 7, 8, 9, 10, 11, 12, 13, 14, 15, 16, 17, 18, 19, 20, 21, 22, 23, 24, 25, 26, 27, 28, 29, 30, 31, 32, 33, 34, 35], \"xaxis\": \"x\", \"y\": [1.2240027982966586, 0.3218512327252193, 1.4418785186040468, 2.1176113473247797, 6.694046804037523, 1.866466963365336, 3.4542864146332777, 1.4460305022834112, 2.49963085343929, 0.457959282967352, 4.696505218846317, 0.19760273388687555, 3.283955179044565, 5.892416842350019, 0.17902098934895083, 2.6253687813108977, 1.917312570516099, 2.41188038873351, 2.414219302457372, 2.71042213912627, 0.3898894892670195, 1.4739703364111545, 5.307283236338676, 2.8534862153927727, 3.6777765725367995, 1.724551605661681, 1.933065373795086, 1.5682275003154378, 0.6196187576258649, 3.24142125574851, 3.179508755803193, 2.0258051833147253, 0.9283750478405384, 2.2869155971979667, 1.4490671175794545, 0.09359699071744121], \"yaxis\": \"y\"}, {\"hovertemplate\": \"variable=9<br>index=%{x}<br>value=%{y}<extra></extra>\", \"legendgroup\": \"9\", \"line\": {\"color\": \"#FECB52\", \"dash\": \"solid\"}, \"mode\": \"lines\", \"name\": \"9\", \"orientation\": \"v\", \"showlegend\": true, \"type\": \"scatter\", \"x\": [0, 1, 2, 3, 4, 5, 6, 7, 8, 9, 10, 11, 12, 13, 14, 15, 16, 17, 18, 19, 20, 21, 22, 23, 24, 25, 26, 27, 28, 29, 30, 31, 32, 33, 34, 35], \"xaxis\": \"x\", \"y\": [0.31734250822552057, 0.39424018546383, 0.831402672710527, 1.1717342027577349, 4.702993346688645, 3.4374547186128934, 2.0753824615609124, 0.24681556372890023, 0.516469649147437, 1.7496953816123808, 3.6208792737617985, 2.9850564274795204, 0.5555330193875061, 1.4742814165100313, 4.007889670492727, 0.5492616352889419, 0.4571966976108095, 3.08609579306632, 0.680248292764557, 4.265501107586485, 3.8271271193129963, 0.6134173227928241, 6.12165358486999, 4.482965808674976, 4.3048079064595655, 0.005877761958261951, 3.2200807568766665, 0.4445160710178352, 4.703590242519423, 0.8259753445846139, 5.451921251266704, 3.744886767053176, 2.8714386477521527, 0.2262100572090931, 1.409666243039212, 2.5781724673075495], \"yaxis\": \"y\"}],                        {\"legend\": {\"title\": {\"text\": \"variable\"}, \"tracegroupgap\": 0}, \"margin\": {\"t\": 60}, \"template\": {\"data\": {\"bar\": [{\"error_x\": {\"color\": \"#2a3f5f\"}, \"error_y\": {\"color\": \"#2a3f5f\"}, \"marker\": {\"line\": {\"color\": \"#E5ECF6\", \"width\": 0.5}}, \"type\": \"bar\"}], \"barpolar\": [{\"marker\": {\"line\": {\"color\": \"#E5ECF6\", \"width\": 0.5}}, \"type\": \"barpolar\"}], \"carpet\": [{\"aaxis\": {\"endlinecolor\": \"#2a3f5f\", \"gridcolor\": \"white\", \"linecolor\": \"white\", \"minorgridcolor\": \"white\", \"startlinecolor\": \"#2a3f5f\"}, \"baxis\": {\"endlinecolor\": \"#2a3f5f\", \"gridcolor\": \"white\", \"linecolor\": \"white\", \"minorgridcolor\": \"white\", \"startlinecolor\": \"#2a3f5f\"}, \"type\": \"carpet\"}], \"choropleth\": [{\"colorbar\": {\"outlinewidth\": 0, \"ticks\": \"\"}, \"type\": \"choropleth\"}], \"contour\": [{\"colorbar\": {\"outlinewidth\": 0, \"ticks\": \"\"}, \"colorscale\": [[0.0, \"#0d0887\"], [0.1111111111111111, \"#46039f\"], [0.2222222222222222, \"#7201a8\"], [0.3333333333333333, \"#9c179e\"], [0.4444444444444444, \"#bd3786\"], [0.5555555555555556, \"#d8576b\"], [0.6666666666666666, \"#ed7953\"], [0.7777777777777778, \"#fb9f3a\"], [0.8888888888888888, \"#fdca26\"], [1.0, \"#f0f921\"]], \"type\": \"contour\"}], \"contourcarpet\": [{\"colorbar\": {\"outlinewidth\": 0, \"ticks\": \"\"}, \"type\": \"contourcarpet\"}], \"heatmap\": [{\"colorbar\": {\"outlinewidth\": 0, \"ticks\": \"\"}, \"colorscale\": [[0.0, \"#0d0887\"], [0.1111111111111111, \"#46039f\"], [0.2222222222222222, \"#7201a8\"], [0.3333333333333333, \"#9c179e\"], [0.4444444444444444, \"#bd3786\"], [0.5555555555555556, \"#d8576b\"], [0.6666666666666666, \"#ed7953\"], [0.7777777777777778, \"#fb9f3a\"], [0.8888888888888888, \"#fdca26\"], [1.0, \"#f0f921\"]], \"type\": \"heatmap\"}], \"heatmapgl\": [{\"colorbar\": {\"outlinewidth\": 0, \"ticks\": \"\"}, \"colorscale\": [[0.0, \"#0d0887\"], [0.1111111111111111, \"#46039f\"], [0.2222222222222222, \"#7201a8\"], [0.3333333333333333, \"#9c179e\"], [0.4444444444444444, \"#bd3786\"], [0.5555555555555556, \"#d8576b\"], [0.6666666666666666, \"#ed7953\"], [0.7777777777777778, \"#fb9f3a\"], [0.8888888888888888, \"#fdca26\"], [1.0, \"#f0f921\"]], \"type\": \"heatmapgl\"}], \"histogram\": [{\"marker\": {\"colorbar\": {\"outlinewidth\": 0, \"ticks\": \"\"}}, \"type\": \"histogram\"}], \"histogram2d\": [{\"colorbar\": {\"outlinewidth\": 0, \"ticks\": \"\"}, \"colorscale\": [[0.0, \"#0d0887\"], [0.1111111111111111, \"#46039f\"], [0.2222222222222222, \"#7201a8\"], [0.3333333333333333, \"#9c179e\"], [0.4444444444444444, \"#bd3786\"], [0.5555555555555556, \"#d8576b\"], [0.6666666666666666, \"#ed7953\"], [0.7777777777777778, \"#fb9f3a\"], [0.8888888888888888, \"#fdca26\"], [1.0, \"#f0f921\"]], \"type\": \"histogram2d\"}], \"histogram2dcontour\": [{\"colorbar\": {\"outlinewidth\": 0, \"ticks\": \"\"}, \"colorscale\": [[0.0, \"#0d0887\"], [0.1111111111111111, \"#46039f\"], [0.2222222222222222, \"#7201a8\"], [0.3333333333333333, \"#9c179e\"], [0.4444444444444444, \"#bd3786\"], [0.5555555555555556, \"#d8576b\"], [0.6666666666666666, \"#ed7953\"], [0.7777777777777778, \"#fb9f3a\"], [0.8888888888888888, \"#fdca26\"], [1.0, \"#f0f921\"]], \"type\": \"histogram2dcontour\"}], \"mesh3d\": [{\"colorbar\": {\"outlinewidth\": 0, \"ticks\": \"\"}, \"type\": \"mesh3d\"}], \"parcoords\": [{\"line\": {\"colorbar\": {\"outlinewidth\": 0, \"ticks\": \"\"}}, \"type\": \"parcoords\"}], \"pie\": [{\"automargin\": true, \"type\": \"pie\"}], \"scatter\": [{\"marker\": {\"colorbar\": {\"outlinewidth\": 0, \"ticks\": \"\"}}, \"type\": \"scatter\"}], \"scatter3d\": [{\"line\": {\"colorbar\": {\"outlinewidth\": 0, \"ticks\": \"\"}}, \"marker\": {\"colorbar\": {\"outlinewidth\": 0, \"ticks\": \"\"}}, \"type\": \"scatter3d\"}], \"scattercarpet\": [{\"marker\": {\"colorbar\": {\"outlinewidth\": 0, \"ticks\": \"\"}}, \"type\": \"scattercarpet\"}], \"scattergeo\": [{\"marker\": {\"colorbar\": {\"outlinewidth\": 0, \"ticks\": \"\"}}, \"type\": \"scattergeo\"}], \"scattergl\": [{\"marker\": {\"colorbar\": {\"outlinewidth\": 0, \"ticks\": \"\"}}, \"type\": \"scattergl\"}], \"scattermapbox\": [{\"marker\": {\"colorbar\": {\"outlinewidth\": 0, \"ticks\": \"\"}}, \"type\": \"scattermapbox\"}], \"scatterpolar\": [{\"marker\": {\"colorbar\": {\"outlinewidth\": 0, \"ticks\": \"\"}}, \"type\": \"scatterpolar\"}], \"scatterpolargl\": [{\"marker\": {\"colorbar\": {\"outlinewidth\": 0, \"ticks\": \"\"}}, \"type\": \"scatterpolargl\"}], \"scatterternary\": [{\"marker\": {\"colorbar\": {\"outlinewidth\": 0, \"ticks\": \"\"}}, \"type\": \"scatterternary\"}], \"surface\": [{\"colorbar\": {\"outlinewidth\": 0, \"ticks\": \"\"}, \"colorscale\": [[0.0, \"#0d0887\"], [0.1111111111111111, \"#46039f\"], [0.2222222222222222, \"#7201a8\"], [0.3333333333333333, \"#9c179e\"], [0.4444444444444444, \"#bd3786\"], [0.5555555555555556, \"#d8576b\"], [0.6666666666666666, \"#ed7953\"], [0.7777777777777778, \"#fb9f3a\"], [0.8888888888888888, \"#fdca26\"], [1.0, \"#f0f921\"]], \"type\": \"surface\"}], \"table\": [{\"cells\": {\"fill\": {\"color\": \"#EBF0F8\"}, \"line\": {\"color\": \"white\"}}, \"header\": {\"fill\": {\"color\": \"#C8D4E3\"}, \"line\": {\"color\": \"white\"}}, \"type\": \"table\"}]}, \"layout\": {\"annotationdefaults\": {\"arrowcolor\": \"#2a3f5f\", \"arrowhead\": 0, \"arrowwidth\": 1}, \"autotypenumbers\": \"strict\", \"coloraxis\": {\"colorbar\": {\"outlinewidth\": 0, \"ticks\": \"\"}}, \"colorscale\": {\"diverging\": [[0, \"#8e0152\"], [0.1, \"#c51b7d\"], [0.2, \"#de77ae\"], [0.3, \"#f1b6da\"], [0.4, \"#fde0ef\"], [0.5, \"#f7f7f7\"], [0.6, \"#e6f5d0\"], [0.7, \"#b8e186\"], [0.8, \"#7fbc41\"], [0.9, \"#4d9221\"], [1, \"#276419\"]], \"sequential\": [[0.0, \"#0d0887\"], [0.1111111111111111, \"#46039f\"], [0.2222222222222222, \"#7201a8\"], [0.3333333333333333, \"#9c179e\"], [0.4444444444444444, \"#bd3786\"], [0.5555555555555556, \"#d8576b\"], [0.6666666666666666, \"#ed7953\"], [0.7777777777777778, \"#fb9f3a\"], [0.8888888888888888, \"#fdca26\"], [1.0, \"#f0f921\"]], \"sequentialminus\": [[0.0, \"#0d0887\"], [0.1111111111111111, \"#46039f\"], [0.2222222222222222, \"#7201a8\"], [0.3333333333333333, \"#9c179e\"], [0.4444444444444444, \"#bd3786\"], [0.5555555555555556, \"#d8576b\"], [0.6666666666666666, \"#ed7953\"], [0.7777777777777778, \"#fb9f3a\"], [0.8888888888888888, \"#fdca26\"], [1.0, \"#f0f921\"]]}, \"colorway\": [\"#636efa\", \"#EF553B\", \"#00cc96\", \"#ab63fa\", \"#FFA15A\", \"#19d3f3\", \"#FF6692\", \"#B6E880\", \"#FF97FF\", \"#FECB52\"], \"font\": {\"color\": \"#2a3f5f\"}, \"geo\": {\"bgcolor\": \"white\", \"lakecolor\": \"white\", \"landcolor\": \"#E5ECF6\", \"showlakes\": true, \"showland\": true, \"subunitcolor\": \"white\"}, \"hoverlabel\": {\"align\": \"left\"}, \"hovermode\": \"closest\", \"mapbox\": {\"style\": \"light\"}, \"paper_bgcolor\": \"white\", \"plot_bgcolor\": \"#E5ECF6\", \"polar\": {\"angularaxis\": {\"gridcolor\": \"white\", \"linecolor\": \"white\", \"ticks\": \"\"}, \"bgcolor\": \"#E5ECF6\", \"radialaxis\": {\"gridcolor\": \"white\", \"linecolor\": \"white\", \"ticks\": \"\"}}, \"scene\": {\"xaxis\": {\"backgroundcolor\": \"#E5ECF6\", \"gridcolor\": \"white\", \"gridwidth\": 2, \"linecolor\": \"white\", \"showbackground\": true, \"ticks\": \"\", \"zerolinecolor\": \"white\"}, \"yaxis\": {\"backgroundcolor\": \"#E5ECF6\", \"gridcolor\": \"white\", \"gridwidth\": 2, \"linecolor\": \"white\", \"showbackground\": true, \"ticks\": \"\", \"zerolinecolor\": \"white\"}, \"zaxis\": {\"backgroundcolor\": \"#E5ECF6\", \"gridcolor\": \"white\", \"gridwidth\": 2, \"linecolor\": \"white\", \"showbackground\": true, \"ticks\": \"\", \"zerolinecolor\": \"white\"}}, \"shapedefaults\": {\"line\": {\"color\": \"#2a3f5f\"}}, \"ternary\": {\"aaxis\": {\"gridcolor\": \"white\", \"linecolor\": \"white\", \"ticks\": \"\"}, \"baxis\": {\"gridcolor\": \"white\", \"linecolor\": \"white\", \"ticks\": \"\"}, \"bgcolor\": \"#E5ECF6\", \"caxis\": {\"gridcolor\": \"white\", \"linecolor\": \"white\", \"ticks\": \"\"}}, \"title\": {\"x\": 0.05}, \"xaxis\": {\"automargin\": true, \"gridcolor\": \"white\", \"linecolor\": \"white\", \"ticks\": \"\", \"title\": {\"standoff\": 15}, \"zerolinecolor\": \"white\", \"zerolinewidth\": 2}, \"yaxis\": {\"automargin\": true, \"gridcolor\": \"white\", \"linecolor\": \"white\", \"ticks\": \"\", \"title\": {\"standoff\": 15}, \"zerolinecolor\": \"white\", \"zerolinewidth\": 2}}}, \"xaxis\": {\"anchor\": \"y\", \"domain\": [0.0, 1.0], \"title\": {\"text\": \"index\"}}, \"yaxis\": {\"anchor\": \"x\", \"domain\": [0.0, 1.0], \"title\": {\"text\": \"value\"}}},                        {\"responsive\": true}                    ).then(function(){\n",
       "                            \n",
       "var gd = document.getElementById('8f54864a-b547-4b8d-adf0-602b84f757d2');\n",
       "var x = new MutationObserver(function (mutations, observer) {{\n",
       "        var display = window.getComputedStyle(gd).display;\n",
       "        if (!display || display === 'none') {{\n",
       "            console.log([gd, 'removed!']);\n",
       "            Plotly.purge(gd);\n",
       "            observer.disconnect();\n",
       "        }}\n",
       "}});\n",
       "\n",
       "// Listen for the removal of the full notebook cells\n",
       "var notebookContainer = gd.closest('#notebook-container');\n",
       "if (notebookContainer) {{\n",
       "    x.observe(notebookContainer, {childList: true});\n",
       "}}\n",
       "\n",
       "// Listen for the clearing of the current output cell\n",
       "var outputEl = gd.closest('.output');\n",
       "if (outputEl) {{\n",
       "    x.observe(outputEl, {childList: true});\n",
       "}}\n",
       "\n",
       "                        })                };                });            </script>        </div>"
      ]
     },
     "metadata": {},
     "output_type": "display_data"
    }
   ],
   "source": [
    "df = pd.DataFrame()\n",
    "for k in range(10):\n",
    "    df[k] = [i * np.random.rand() for i in l]\n",
    "    \n",
    "px.line(df)"
   ]
  },
  {
   "cell_type": "code",
   "execution_count": 39,
   "metadata": {},
   "outputs": [
    {
     "data": {
      "text/plain": [
       "0    0.288889\n",
       "1    0.303704\n",
       "2    0.269136\n",
       "3    0.251852\n",
       "4    0.279012\n",
       "5    0.256790\n",
       "6    0.260494\n",
       "7    0.256790\n",
       "8    0.254321\n",
       "9    0.245679\n",
       "dtype: float64"
      ]
     },
     "execution_count": 39,
     "metadata": {},
     "output_type": "execute_result"
    }
   ],
   "source": [
    "import statdepth\n",
    "\n",
    "s = statdepth.depth.banddepth([df], J=2, relax=True)\n",
    "s"
   ]
  },
  {
   "cell_type": "code",
   "execution_count": 42,
   "metadata": {},
   "outputs": [
    {
     "data": {
      "text/plain": [
       "0    0.223611\n",
       "1    0.249537\n",
       "2    0.219444\n",
       "3    0.202778\n",
       "4    0.222222\n",
       "5    0.208333\n",
       "6    0.209722\n",
       "7    0.198148\n",
       "8    0.201852\n",
       "9    0.207407\n",
       "dtype: float64"
      ]
     },
     "execution_count": 42,
     "metadata": {},
     "output_type": "execute_result"
    }
   ],
   "source": [
    "sd = statdepth.depth.samplebanddepth([df], K=2, J=2, relax=True)\n",
    "sd"
   ]
  },
  {
   "cell_type": "code",
   "execution_count": 41,
   "metadata": {},
   "outputs": [
    {
     "data": {
      "text/plain": [
       "0    5.551115e-17\n",
       "1    0.000000e+00\n",
       "2    5.551115e-17\n",
       "3    5.551115e-17\n",
       "4    0.000000e+00\n",
       "5    0.000000e+00\n",
       "6    0.000000e+00\n",
       "7    5.551115e-17\n",
       "8    0.000000e+00\n",
       "9    2.775558e-17\n",
       "dtype: float64"
      ]
     },
     "execution_count": 41,
     "metadata": {},
     "output_type": "execute_result"
    }
   ],
   "source": [
    "s-sd"
   ]
  }
 ],
 "metadata": {
  "kernelspec": {
   "display_name": "basedatascience",
   "language": "python",
   "name": "basedatascience"
  },
  "language_info": {
   "codemirror_mode": {
    "name": "ipython",
    "version": 3
   },
   "file_extension": ".py",
   "mimetype": "text/x-python",
   "name": "python",
   "nbconvert_exporter": "python",
   "pygments_lexer": "ipython3",
   "version": "3.8.5"
  }
 },
 "nbformat": 4,
 "nbformat_minor": 4
}
