{
 "cells": [
  {
   "cell_type": "markdown",
   "metadata": {},
   "source": [
    "# Testing Notebook 02:"
   ]
  },
  {
   "cell_type": "code",
   "execution_count": 1,
   "metadata": {},
   "outputs": [
    {
     "ename": "ImportError",
     "evalue": "cannot import name 'FunctionalDepth' from 'statdepth.depth.abstract' (/Users/julian/opt/miniconda3/envs/base-data-science/lib/python3.8/site-packages/statdepth/depth/abstract.py)",
     "output_type": "error",
     "traceback": [
      "\u001b[0;31m---------------------------------------------------------------------------\u001b[0m",
      "\u001b[0;31mImportError\u001b[0m                               Traceback (most recent call last)",
      "\u001b[0;32m<ipython-input-1-aa8d3cf980a5>\u001b[0m in \u001b[0;36m<module>\u001b[0;34m\u001b[0m\n\u001b[1;32m      4\u001b[0m \u001b[0;32mimport\u001b[0m \u001b[0mplotly\u001b[0m\u001b[0;34m.\u001b[0m\u001b[0mexpress\u001b[0m \u001b[0;32mas\u001b[0m \u001b[0mpx\u001b[0m\u001b[0;34m\u001b[0m\u001b[0;34m\u001b[0m\u001b[0m\n\u001b[1;32m      5\u001b[0m \u001b[0;34m\u001b[0m\u001b[0m\n\u001b[0;32m----> 6\u001b[0;31m \u001b[0;32mfrom\u001b[0m \u001b[0mstatdepth\u001b[0m\u001b[0;34m.\u001b[0m\u001b[0mdepth\u001b[0m\u001b[0;34m.\u001b[0m\u001b[0mdepth\u001b[0m \u001b[0;32mimport\u001b[0m \u001b[0mFunctionalDepth\u001b[0m\u001b[0;34m\u001b[0m\u001b[0;34m\u001b[0m\u001b[0m\n\u001b[0m",
      "\u001b[0;32m~/opt/miniconda3/envs/base-data-science/lib/python3.8/site-packages/statdepth/__init__.py\u001b[0m in \u001b[0;36m<module>\u001b[0;34m\u001b[0m\n\u001b[0;32m----> 1\u001b[0;31m \u001b[0;32mfrom\u001b[0m \u001b[0;34m.\u001b[0m\u001b[0mdepth\u001b[0m\u001b[0;34m.\u001b[0m\u001b[0mdepth\u001b[0m \u001b[0;32mimport\u001b[0m \u001b[0mBandDepth\u001b[0m\u001b[0;34m\u001b[0m\u001b[0;34m\u001b[0m\u001b[0m\n\u001b[0m",
      "\u001b[0;32m~/opt/miniconda3/envs/base-data-science/lib/python3.8/site-packages/statdepth/depth/__init__.py\u001b[0m in \u001b[0;36m<module>\u001b[0;34m\u001b[0m\n\u001b[0;32m----> 1\u001b[0;31m \u001b[0;32mfrom\u001b[0m \u001b[0;34m.\u001b[0m\u001b[0mdepth\u001b[0m \u001b[0;32mimport\u001b[0m \u001b[0mBandDepth\u001b[0m\u001b[0;34m\u001b[0m\u001b[0;34m\u001b[0m\u001b[0m\n\u001b[0m",
      "\u001b[0;32m~/opt/miniconda3/envs/base-data-science/lib/python3.8/site-packages/statdepth/depth/depth.py\u001b[0m in \u001b[0;36m<module>\u001b[0;34m\u001b[0m\n\u001b[1;32m      4\u001b[0m \u001b[0;34m\u001b[0m\u001b[0m\n\u001b[1;32m      5\u001b[0m \u001b[0;32mfrom\u001b[0m \u001b[0;34m.\u001b[0m\u001b[0m_depthcalculations\u001b[0m \u001b[0;32mimport\u001b[0m \u001b[0m_banddepth\u001b[0m\u001b[0;34m,\u001b[0m \u001b[0m_samplebanddepth\u001b[0m\u001b[0;34m\u001b[0m\u001b[0;34m\u001b[0m\u001b[0m\n\u001b[0;32m----> 6\u001b[0;31m \u001b[0;32mfrom\u001b[0m \u001b[0;34m.\u001b[0m\u001b[0mabstract\u001b[0m \u001b[0;32mimport\u001b[0m \u001b[0mFunctionalDepth\u001b[0m\u001b[0;34m\u001b[0m\u001b[0;34m\u001b[0m\u001b[0m\n\u001b[0m\u001b[1;32m      7\u001b[0m \u001b[0;34m\u001b[0m\u001b[0m\n\u001b[1;32m      8\u001b[0m \u001b[0;31m# Private class that wraps the band depth calculation methods with some extra attributes as well\u001b[0m\u001b[0;34m\u001b[0m\u001b[0;34m\u001b[0m\u001b[0;34m\u001b[0m\u001b[0m\n",
      "\u001b[0;31mImportError\u001b[0m: cannot import name 'FunctionalDepth' from 'statdepth.depth.abstract' (/Users/julian/opt/miniconda3/envs/base-data-science/lib/python3.8/site-packages/statdepth/depth/abstract.py)"
     ]
    }
   ],
   "source": [
    "from typing import List\n",
    "import pandas as pd \n",
    "import numpy as np\n",
    "import plotly.express as px\n",
    "\n",
    "from statdepth.depth.depth import FunctionalDepth"
   ]
  },
  {
   "cell_type": "code",
   "execution_count": null,
   "metadata": {},
   "outputs": [],
   "source": [
    "!where python"
   ]
  },
  {
   "cell_type": "markdown",
   "metadata": {},
   "source": [
    "Generate a toy DataFrame for testing"
   ]
  },
  {
   "cell_type": "code",
   "execution_count": null,
   "metadata": {},
   "outputs": [],
   "source": [
    "df = pd.DataFrame(np.random.rand(5, 10), columns=list('ZXCVBNMLKJ'))\n",
    "px.line(df)\n"
   ]
  },
  {
   "cell_type": "code",
   "execution_count": 4,
   "metadata": {},
   "outputs": [
    {
     "data": {
      "text/plain": [
       "0    0.472778\n",
       "1    0.781111\n",
       "2    0.411111\n",
       "3    0.513889\n",
       "4    0.842778\n",
       "5    0.575556\n",
       "6    0.760556\n",
       "7    0.555000\n",
       "8    0.698889\n",
       "9    0.555000\n",
       "dtype: float64"
      ]
     },
     "execution_count": 4,
     "metadata": {},
     "output_type": "execute_result"
    }
   ],
   "source": [
    "df = pd.DataFrame(np.random.rand(5, 10))\n",
    "\n",
    "bd = BandDepth([df], J=3, relax=True)\n",
    "bd"
   ]
  },
  {
   "cell_type": "code",
   "execution_count": 5,
   "metadata": {},
   "outputs": [
    {
     "data": {
      "text/plain": [
       "4    0.842778\n",
       "1    0.781111\n",
       "6    0.760556\n",
       "8    0.698889\n",
       "5    0.575556\n",
       "9    0.555000\n",
       "7    0.555000\n",
       "3    0.513889\n",
       "0    0.472778\n",
       "2    0.411111\n",
       "dtype: float64"
      ]
     },
     "execution_count": 5,
     "metadata": {},
     "output_type": "execute_result"
    }
   ],
   "source": [
    "bd.ordered()"
   ]
  },
  {
   "cell_type": "code",
   "execution_count": 6,
   "metadata": {},
   "outputs": [
    {
     "data": {
      "text/plain": [
       "4    0.842778\n",
       "dtype: float64"
      ]
     },
     "execution_count": 6,
     "metadata": {},
     "output_type": "execute_result"
    }
   ],
   "source": [
    "bd.median()"
   ]
  },
  {
   "cell_type": "code",
   "execution_count": 6,
   "metadata": {},
   "outputs": [],
   "source": [
    "from typing import get_type_hints, Dict, Union, List\n",
    "\n",
    "def dummy(l: int, s: str, j: Union[List[str], int]) -> bool:\n",
    "    return False\n",
    "\n",
    "hints = get_type_hints(dummy)\n"
   ]
  },
  {
   "cell_type": "code",
   "execution_count": 7,
   "metadata": {},
   "outputs": [
    {
     "data": {
      "text/plain": [
       "{'l': int, 's': str, 'j': typing.Union[typing.List[str], int], 'return': bool}"
      ]
     },
     "execution_count": 7,
     "metadata": {},
     "output_type": "execute_result"
    }
   ],
   "source": [
    "hints"
   ]
  },
  {
   "cell_type": "code",
   "execution_count": 8,
   "metadata": {},
   "outputs": [
    {
     "data": {
      "text/html": [
       "<div>\n",
       "<style scoped>\n",
       "    .dataframe tbody tr th:only-of-type {\n",
       "        vertical-align: middle;\n",
       "    }\n",
       "\n",
       "    .dataframe tbody tr th {\n",
       "        vertical-align: top;\n",
       "    }\n",
       "\n",
       "    .dataframe thead th {\n",
       "        text-align: right;\n",
       "    }\n",
       "</style>\n",
       "<table border=\"1\" class=\"dataframe\">\n",
       "  <thead>\n",
       "    <tr style=\"text-align: right;\">\n",
       "      <th></th>\n",
       "      <th>0</th>\n",
       "      <th>1</th>\n",
       "      <th>2</th>\n",
       "      <th>3</th>\n",
       "      <th>4</th>\n",
       "      <th>5</th>\n",
       "      <th>6</th>\n",
       "      <th>7</th>\n",
       "      <th>8</th>\n",
       "      <th>9</th>\n",
       "    </tr>\n",
       "  </thead>\n",
       "  <tbody>\n",
       "    <tr>\n",
       "      <th>0</th>\n",
       "      <td>0.645003</td>\n",
       "      <td>0.997211</td>\n",
       "      <td>0.894304</td>\n",
       "      <td>0.352930</td>\n",
       "      <td>0.151210</td>\n",
       "      <td>0.871791</td>\n",
       "      <td>0.252705</td>\n",
       "      <td>0.724823</td>\n",
       "      <td>0.504422</td>\n",
       "      <td>0.603860</td>\n",
       "    </tr>\n",
       "    <tr>\n",
       "      <th>1</th>\n",
       "      <td>0.147823</td>\n",
       "      <td>0.433712</td>\n",
       "      <td>0.114693</td>\n",
       "      <td>0.905751</td>\n",
       "      <td>0.131263</td>\n",
       "      <td>0.916580</td>\n",
       "      <td>0.162851</td>\n",
       "      <td>0.730408</td>\n",
       "      <td>0.961714</td>\n",
       "      <td>0.083790</td>\n",
       "    </tr>\n",
       "    <tr>\n",
       "      <th>2</th>\n",
       "      <td>0.527697</td>\n",
       "      <td>0.017230</td>\n",
       "      <td>0.998144</td>\n",
       "      <td>0.811273</td>\n",
       "      <td>0.848748</td>\n",
       "      <td>0.213646</td>\n",
       "      <td>0.414577</td>\n",
       "      <td>0.585114</td>\n",
       "      <td>0.760536</td>\n",
       "      <td>0.706195</td>\n",
       "    </tr>\n",
       "    <tr>\n",
       "      <th>3</th>\n",
       "      <td>0.667622</td>\n",
       "      <td>0.257833</td>\n",
       "      <td>0.263420</td>\n",
       "      <td>0.739945</td>\n",
       "      <td>0.140056</td>\n",
       "      <td>0.114974</td>\n",
       "      <td>0.460889</td>\n",
       "      <td>0.110615</td>\n",
       "      <td>0.029332</td>\n",
       "      <td>0.806295</td>\n",
       "    </tr>\n",
       "    <tr>\n",
       "      <th>4</th>\n",
       "      <td>0.371355</td>\n",
       "      <td>0.322612</td>\n",
       "      <td>0.031154</td>\n",
       "      <td>0.161339</td>\n",
       "      <td>0.134129</td>\n",
       "      <td>0.639753</td>\n",
       "      <td>0.737802</td>\n",
       "      <td>0.335094</td>\n",
       "      <td>0.332832</td>\n",
       "      <td>0.177039</td>\n",
       "    </tr>\n",
       "  </tbody>\n",
       "</table>\n",
       "</div>"
      ],
      "text/plain": [
       "          0         1         2         3         4         5         6  \\\n",
       "0  0.645003  0.997211  0.894304  0.352930  0.151210  0.871791  0.252705   \n",
       "1  0.147823  0.433712  0.114693  0.905751  0.131263  0.916580  0.162851   \n",
       "2  0.527697  0.017230  0.998144  0.811273  0.848748  0.213646  0.414577   \n",
       "3  0.667622  0.257833  0.263420  0.739945  0.140056  0.114974  0.460889   \n",
       "4  0.371355  0.322612  0.031154  0.161339  0.134129  0.639753  0.737802   \n",
       "\n",
       "          7         8         9  \n",
       "0  0.724823  0.504422  0.603860  \n",
       "1  0.730408  0.961714  0.083790  \n",
       "2  0.585114  0.760536  0.706195  \n",
       "3  0.110615  0.029332  0.806295  \n",
       "4  0.335094  0.332832  0.177039  "
      ]
     },
     "execution_count": 8,
     "metadata": {},
     "output_type": "execute_result"
    }
   ],
   "source": [
    "pd.DataFrame(df)"
   ]
  }
 ],
 "metadata": {
  "kernelspec": {
   "display_name": "basedatascience",
   "language": "python",
   "name": "basedatascience"
  }
 },
 "nbformat": 4,
 "nbformat_minor": 4
}
