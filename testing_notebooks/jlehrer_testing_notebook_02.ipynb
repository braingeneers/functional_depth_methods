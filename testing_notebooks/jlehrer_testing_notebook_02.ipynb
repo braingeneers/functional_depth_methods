{
 "cells": [
  {
   "cell_type": "markdown",
   "metadata": {},
   "source": [
    "# Testing Notebook 02:"
   ]
  },
  {
   "cell_type": "code",
   "execution_count": 2,
   "metadata": {},
   "outputs": [],
   "source": [
    "from typing import List\n",
    "import pandas as pd \n",
    "import numpy as np\n",
    "\n",
    "# from statdepth.depth import banddepth\n",
    "from statdepth.depth.depth import _univariate_band_depth, _handle_depth_errors, _banddepth, _samplebanddepth\n",
    "from statdepth.depth._containment import _select_containment\n",
    "\n",
    "import plotly.express as px"
   ]
  },
  {
   "cell_type": "code",
   "execution_count": 3,
   "metadata": {},
   "outputs": [
    {
     "name": "stdout",
     "output_type": "stream",
     "text": [
      "/Users/julian/opt/miniconda3/bin/python\r\n",
      "/usr/bin/python\r\n"
     ]
    }
   ],
   "source": [
    "!where python"
   ]
  },
  {
   "cell_type": "markdown",
   "metadata": {},
   "source": [
    "Generate a toy DataFrame for testing"
   ]
  },
  {
   "cell_type": "code",
   "execution_count": 4,
   "metadata": {},
   "outputs": [
    {
     "data": {
      "text/html": [
       "<div>\n",
       "<style scoped>\n",
       "    .dataframe tbody tr th:only-of-type {\n",
       "        vertical-align: middle;\n",
       "    }\n",
       "\n",
       "    .dataframe tbody tr th {\n",
       "        vertical-align: top;\n",
       "    }\n",
       "\n",
       "    .dataframe thead th {\n",
       "        text-align: right;\n",
       "    }\n",
       "</style>\n",
       "<table border=\"1\" class=\"dataframe\">\n",
       "  <thead>\n",
       "    <tr style=\"text-align: right;\">\n",
       "      <th></th>\n",
       "      <th>A</th>\n",
       "      <th>B</th>\n",
       "      <th>C</th>\n",
       "      <th>D</th>\n",
       "      <th>E</th>\n",
       "    </tr>\n",
       "  </thead>\n",
       "  <tbody>\n",
       "    <tr>\n",
       "      <th>0</th>\n",
       "      <td>3</td>\n",
       "      <td>1</td>\n",
       "      <td>0</td>\n",
       "      <td>1</td>\n",
       "      <td>2</td>\n",
       "    </tr>\n",
       "    <tr>\n",
       "      <th>1</th>\n",
       "      <td>2</td>\n",
       "      <td>2</td>\n",
       "      <td>0</td>\n",
       "      <td>2</td>\n",
       "      <td>3</td>\n",
       "    </tr>\n",
       "    <tr>\n",
       "      <th>2</th>\n",
       "      <td>0</td>\n",
       "      <td>0</td>\n",
       "      <td>4</td>\n",
       "      <td>0</td>\n",
       "      <td>4</td>\n",
       "    </tr>\n",
       "    <tr>\n",
       "      <th>3</th>\n",
       "      <td>1</td>\n",
       "      <td>2</td>\n",
       "      <td>4</td>\n",
       "      <td>2</td>\n",
       "      <td>4</td>\n",
       "    </tr>\n",
       "    <tr>\n",
       "      <th>4</th>\n",
       "      <td>0</td>\n",
       "      <td>2</td>\n",
       "      <td>3</td>\n",
       "      <td>0</td>\n",
       "      <td>3</td>\n",
       "    </tr>\n",
       "  </tbody>\n",
       "</table>\n",
       "</div>"
      ],
      "text/plain": [
       "   A  B  C  D  E\n",
       "0  3  1  0  1  2\n",
       "1  2  2  0  2  3\n",
       "2  0  0  4  0  4\n",
       "3  1  2  4  2  4\n",
       "4  0  2  3  0  3"
      ]
     },
     "execution_count": 4,
     "metadata": {},
     "output_type": "execute_result"
    }
   ],
   "source": [
    "df = pd.DataFrame(np.random.randint(0,5,size=(5, 5)), columns=list('ABCDE'))\n",
    "df"
   ]
  },
  {
   "cell_type": "code",
   "execution_count": 6,
   "metadata": {},
   "outputs": [],
   "source": [
    "# from statdepth.depth.depth import BandDepth\n",
    "\n",
    "# bd = BandDepth([df], relax=True)\n",
    "\n",
    "# bd.ordered()"
   ]
  },
  {
   "cell_type": "code",
   "execution_count": 7,
   "metadata": {},
   "outputs": [],
   "source": [
    "class Test(pd.Series):\n",
    "    \n",
    "    def __init__(self, depths):\n",
    "        super().__init__(data=depths)\n",
    "        self.depths = depths\n",
    "        \n",
    "    def ordered(self):\n",
    "        return self.depths.sort_values()\n",
    "\n",
    "t = Test(pd.Series([9, 5, 6, 2, 1]))"
   ]
  },
  {
   "cell_type": "code",
   "execution_count": 8,
   "metadata": {},
   "outputs": [
    {
     "data": {
      "text/plain": [
       "(5, 5)"
      ]
     },
     "execution_count": 8,
     "metadata": {},
     "output_type": "execute_result"
    }
   ],
   "source": [
    "s = pd.Series([1,2,3,4,4])\n",
    "len(s), len(t)"
   ]
  },
  {
   "cell_type": "code",
   "execution_count": 9,
   "metadata": {},
   "outputs": [],
   "source": [
    "class _BandDepthSeries(pd.Series):\n",
    "\n",
    "    def __init__(self, depths):\n",
    "        super().__init__(data=depths)\n",
    "\n",
    "        self._depths = depths\n",
    "        self._ordered_depths_ = None\n",
    "        self._deepest_curve_ = None\n",
    "\n",
    "    def ordered(self, ascending=False):\n",
    "        if self._ordered_depths_ is None:\n",
    "            self._ordered_depths_ =  self._depths.sort_values(ascending=ascending)\n",
    "        return self._ordered_depths_\n",
    "\n",
    "    def deepest(self):\n",
    "        if self._ordered_depths_ is not None or (self._ordered_depths_ is None and self._deepest_curve_ is None):\n",
    "            sorted_depths = self._depths.sort_values(ascending=False)\n",
    "            self._deepest_curve_ = pd.Series(index=[sorted_depths.index[0]], data=[sorted_depths[0]])\n",
    "        return self._deepest_curve_\n",
    "    \n",
    "class _BandDepthDataFrame(pd.DataFrame):\n",
    "    def __init__(self):\n",
    "        pass\n",
    "    \n",
    "    \n",
    "t = _BandDepthSeries(pd.Series([5,1,2,3,6]))"
   ]
  },
  {
   "cell_type": "code",
   "execution_count": 12,
   "metadata": {},
   "outputs": [],
   "source": [
    "def BandDepth(data: List[pd.DataFrame], K=None, J=2, containment='r2', relax=False, deep_check=False):\n",
    "    if K is not None:\n",
    "        data = _samplebanddepth(data=data, K=K, J=J, containment=containment, relax=relax, deep_check=deep_check)\n",
    "    else:\n",
    "        data = _banddepth(data=data, J=J, containment=containment, relax=relax, deep_check=deep_check)\n",
    "\n",
    "    if isinstance(data, pd.DataFrame):\n",
    "        return _BandDepthDataFrame(data)\n",
    "    else:\n",
    "        return _BandDepthSeries(data)\n"
   ]
  },
  {
   "cell_type": "code",
   "execution_count": 13,
   "metadata": {},
   "outputs": [],
   "source": [
    "d = BandDepth([df])"
   ]
  },
  {
   "cell_type": "code",
   "execution_count": 15,
   "metadata": {},
   "outputs": [
    {
     "data": {
      "text/plain": [
       "__main__._BandDepthSeries"
      ]
     },
     "execution_count": 15,
     "metadata": {},
     "output_type": "execute_result"
    }
   ],
   "source": [
    "type(d)"
   ]
  }
 ],
 "metadata": {
  "kernelspec": {
   "display_name": "basedatascience",
   "language": "python",
   "name": "basedatascience"
  },
  "language_info": {
   "codemirror_mode": {
    "name": "ipython",
    "version": 3
   },
   "file_extension": ".py",
   "mimetype": "text/x-python",
   "name": "python",
   "nbconvert_exporter": "python",
   "pygments_lexer": "ipython3",
   "version": "3.8.5"
  }
 },
 "nbformat": 4,
 "nbformat_minor": 4
}
