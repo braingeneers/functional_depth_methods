{
 "cells": [
  {
   "cell_type": "markdown",
   "metadata": {},
   "source": [
    "# Testing Notebook 02:"
   ]
  },
  {
   "cell_type": "code",
   "execution_count": 1,
   "metadata": {},
   "outputs": [
    {
     "name": "stdout",
     "output_type": "stream",
     "text": [
      "Processing /Users/julian/Documents/Projects/statdepth\n",
      "Building wheels for collected packages: statdepth\n",
      "  Building wheel for statdepth (setup.py) ... \u001b[?25ldone\n",
      "\u001b[?25h  Created wheel for statdepth: filename=statdepth-0.1.0-py2.py3-none-any.whl size=10829 sha256=4540e53090027602ff7895cec71f3024cd05f7bec8ed36fcfe9eccadc897dd83\n",
      "  Stored in directory: /private/var/folders/pd/jsjcl0fn7w57s5mfr34b20pm0000gn/T/pip-ephem-wheel-cache-7qh6c8wq/wheels/94/78/65/e7cb177a6619a78b187853c88271a8abc224aa673b05e4ed56\n",
      "Successfully built statdepth\n",
      "Installing collected packages: statdepth\n",
      "  Attempting uninstall: statdepth\n",
      "    Found existing installation: statdepth 0.1.0\n",
      "    Uninstalling statdepth-0.1.0:\n",
      "      Successfully uninstalled statdepth-0.1.0\n",
      "Successfully installed statdepth-0.1.0\n"
     ]
    },
    {
     "ename": "SyntaxError",
     "evalue": "invalid syntax (_containment.py, line 30)",
     "output_type": "error",
     "traceback": [
      "Traceback \u001b[0;36m(most recent call last)\u001b[0m:\n",
      "  File \u001b[1;32m\"/Users/julian/opt/miniconda3/envs/base-data-science/lib/python3.8/site-packages/IPython/core/interactiveshell.py\"\u001b[0m, line \u001b[1;32m3417\u001b[0m, in \u001b[1;35mrun_code\u001b[0m\n    exec(code_obj, self.user_global_ns, self.user_ns)\n",
      "  File \u001b[1;32m\"<ipython-input-1-1aaaf05e58ff>\"\u001b[0m, line \u001b[1;32m7\u001b[0m, in \u001b[1;35m<module>\u001b[0m\n    from statdepth.depth import banddepth\n",
      "  File \u001b[1;32m\"/Users/julian/opt/miniconda3/envs/base-data-science/lib/python3.8/site-packages/statdepth/depth/__init__.py\"\u001b[0m, line \u001b[1;32m1\u001b[0m, in \u001b[1;35m<module>\u001b[0m\n    from .depth import banddepth\n",
      "\u001b[0;36m  File \u001b[0;32m\"/Users/julian/opt/miniconda3/envs/base-data-science/lib/python3.8/site-packages/statdepth/depth/depth.py\"\u001b[0;36m, line \u001b[0;32m16\u001b[0;36m, in \u001b[0;35m<module>\u001b[0;36m\u001b[0m\n\u001b[0;31m    from ._containment import _r2_containment\u001b[0m\n",
      "\u001b[0;36m  File \u001b[0;32m\"/Users/julian/opt/miniconda3/envs/base-data-science/lib/python3.8/site-packages/statdepth/depth/_containment.py\"\u001b[0;36m, line \u001b[0;32m30\u001b[0m\n\u001b[0;31m    <<<<<<< HEAD\u001b[0m\n\u001b[0m    ^\u001b[0m\n\u001b[0;31mSyntaxError\u001b[0m\u001b[0;31m:\u001b[0m invalid syntax\n"
     ]
    }
   ],
   "source": [
    "!pip install ..\n",
    "\n",
    "from typing import List\n",
    "import pandas as pd \n",
    "import numpy as np\n",
    "\n",
    "from statdepth.depth import banddepth\n",
    "from statdepth.depth.depth import _univariate_band_depth, _handle_depth_errors\n",
    "from statdepth.depth._containment import _select_containment\n",
    "\n"
   ]
  },
  {
   "cell_type": "code",
   "execution_count": null,
   "metadata": {},
   "outputs": [],
   "source": [
    "!where python"
   ]
  },
  {
   "cell_type": "markdown",
   "metadata": {},
   "source": [
    "Generate a toy DataFrame for testing"
   ]
  },
  {
   "cell_type": "code",
   "execution_count": null,
   "metadata": {
    "scrolled": true
   },
   "outputs": [],
   "source": [
    "t = [1,2,3,4,4,4,4.5,2,3,2,3]*2\n",
    "df = pd.DataFrame()\n",
    "for col in range(10):\n",
    "    df[col] = t\n",
    "    \n",
    "for col in df:\n",
    "    df[col] = df[col] * np.random.rand() * 2\n",
    "\n",
    "df"
   ]
  },
  {
   "cell_type": "code",
   "execution_count": null,
   "metadata": {},
   "outputs": [],
   "source": [
    "def samplebanddepth(data: List[pd.DataFrame], K: int, J=2, containment='r2', relax=False, deep_check=False):\n",
    "    samples = []\n",
    "    depths = []\n",
    "\n",
    "    # Handle common errros\n",
    "    _handle_depth_errors(data=data, J=J, containment=containment, relax=relax, deep_check=deep_check)\n",
    "\n",
    "    cdef = _select_containment(containment=containment)\n",
    "    \n",
    "    # Univariate case\n",
    "    if len(data) == 1:\n",
    "        df = data[0]\n",
    "        ss = df.shape[1] // K\n",
    "        \n",
    "        # Compute band depths with respect to each sample\n",
    "        for _ in range(K):\n",
    "            t = df.sample(n=ss, axis=1)\n",
    "            df = df.drop(t.columns, axis=1)\n",
    "            samples.append(banddepth(data=[t], J=J, containment=containment, relax=relax, deep_check=deep_check))\n",
    "        \n",
    "        # Average them\n",
    "        for k in range(df.shape[1]):\n",
    "            t = [samples[i][k] for i in range(K)]\n",
    "            depths.append(np.mean(t))\n",
    "\n",
    "        depths = pd.Series(index=df.columns, data=depths)\n",
    "\n",
    "    else:\n",
    "        # Multivariate case: partition list of DataFrames randomly, compute band depth w.r.t those\n",
    "        shuffled = data.copy()\n",
    "        random.shuffle(shuffled)\n",
    "        ss = len(data) // K \n",
    "\n",
    "        for _ in range(K):\n",
    "            pass\n",
    "        \n",
    "    return depths"
   ]
  },
  {
   "cell_type": "code",
   "execution_count": null,
   "metadata": {},
   "outputs": [],
   "source": [
    "samplebanddepth([df], K=20)"
   ]
  },
  {
   "cell_type": "code",
   "execution_count": null,
   "metadata": {},
   "outputs": [],
   "source": []
  },
  {
   "cell_type": "code",
   "execution_count": null,
   "metadata": {},
   "outputs": [],
   "source": []
  }
 ],
 "metadata": {
  "kernelspec": {
   "display_name": "basedatascience",
   "language": "python",
   "name": "basedatascience"
  },
  "language_info": {
   "codemirror_mode": {
    "name": "ipython",
    "version": 3
   },
   "file_extension": ".py",
   "mimetype": "text/x-python",
   "name": "python",
   "nbconvert_exporter": "python",
   "pygments_lexer": "ipython3",
   "version": "3.8.5"
  }
 },
 "nbformat": 4,
 "nbformat_minor": 4
}
